{
 "cells": [
  {
   "cell_type": "code",
   "execution_count": 47,
   "metadata": {
    "ExecuteTime": {
     "end_time": "2020-03-22T19:18:47.483256Z",
     "start_time": "2020-03-22T19:18:47.474149Z"
    }
   },
   "outputs": [],
   "source": [
    "import nltk\n",
    "from nltk import word_tokenize\n",
    "from nltk.tokenize import RegexpTokenizer\n",
    "from nltk.corpus import stopwords\n",
    "from nltk.stem import WordNetLemmatizer\n",
    "\n",
    "from gensim.corpora.dictionary import Dictionary\n",
    "from gensim.models.tfidfmodel import TfidfModel\n",
    "from gensim.models.ldamodel import LdaModel\n",
    "\n",
    "import itertools\n",
    "from collections import Counter\n",
    "from collections import defaultdict\n",
    "\n",
    "import json\n",
    "import pyLDAvis.gensim\n",
    "pyLDAvis.enable_notebook()\n",
    "\n",
    "import pickle\n",
    "\n",
    "import pandas as pd\n",
    "import numpy as np\n",
    "\n",
    "from sklearn.feature_extraction import text\n",
    "from sklearn.decomposition import LatentDirichletAllocation"
   ]
  },
  {
   "cell_type": "code",
   "execution_count": 61,
   "metadata": {
    "ExecuteTime": {
     "end_time": "2020-03-23T02:54:33.227525Z",
     "start_time": "2020-03-23T02:54:29.363356Z"
    }
   },
   "outputs": [],
   "source": [
    "import re, nltk, spacy, string\n",
    "\n",
    "from sklearn.decomposition import LatentDirichletAllocation\n",
    "from sklearn.feature_extraction.text import CountVectorizer, TfidfVectorizer\n",
    "from pprint import pprint\n",
    "\n",
    "import pyLDAvis\n",
    "import pyLDAvis.sklearn\n",
    "import matplotlib.pyplot as plt\n",
    "%matplotlib inline\n",
    "\n",
    "from plotly.offline import plot\n",
    "import plotly.graph_objects as go\n",
    "import plotly.express as px\n"
   ]
  },
  {
   "cell_type": "code",
   "execution_count": 59,
   "metadata": {
    "ExecuteTime": {
     "end_time": "2020-03-23T02:51:59.608601Z",
     "start_time": "2020-03-23T02:51:59.600349Z"
    }
   },
   "outputs": [],
   "source": [
    "\n",
    "import warnings\n",
    "warnings.filterwarnings('ignore')"
   ]
  },
  {
   "cell_type": "code",
   "execution_count": 2,
   "metadata": {
    "ExecuteTime": {
     "end_time": "2020-03-22T08:53:41.691422Z",
     "start_time": "2020-03-22T08:53:37.024012Z"
    }
   },
   "outputs": [
    {
     "name": "stderr",
     "output_type": "stream",
     "text": [
      "/Users/luyuankong/anaconda3/lib/python3.7/site-packages/IPython/core/interactiveshell.py:3051: DtypeWarning: Columns (61,62,94,95) have mixed types. Specify dtype option on import or set low_memory=False.\n",
      "  interactivity=interactivity, compiler=compiler, result=result)\n"
     ]
    }
   ],
   "source": [
    "listing_detail_df = pd.read_csv('Downloads/data/listings_detail.csv')"
   ]
  },
  {
   "cell_type": "code",
   "execution_count": 3,
   "metadata": {
    "ExecuteTime": {
     "end_time": "2020-03-22T08:54:07.738965Z",
     "start_time": "2020-03-22T08:54:07.723430Z"
    }
   },
   "outputs": [],
   "source": [
    "df = listing_detail_df[['id','description']]"
   ]
  },
  {
   "cell_type": "code",
   "execution_count": 24,
   "metadata": {
    "ExecuteTime": {
     "end_time": "2020-03-22T09:24:25.140414Z",
     "start_time": "2020-03-22T09:24:23.738744Z"
    }
   },
   "outputs": [
    {
     "name": "stderr",
     "output_type": "stream",
     "text": [
      "/Users/luyuankong/anaconda3/lib/python3.7/site-packages/ipykernel_launcher.py:1: SettingWithCopyWarning: \n",
      "A value is trying to be set on a copy of a slice from a DataFrame\n",
      "\n",
      "See the caveats in the documentation: http://pandas.pydata.org/pandas-docs/stable/indexing.html#indexing-view-versus-copy\n",
      "  \"\"\"Entry point for launching an IPython kernel.\n"
     ]
    }
   ],
   "source": [
    "df.dropna(subset = ['description'],inplace=True)"
   ]
  },
  {
   "cell_type": "code",
   "execution_count": 26,
   "metadata": {
    "ExecuteTime": {
     "end_time": "2020-03-22T09:24:43.780316Z",
     "start_time": "2020-03-22T09:24:43.762824Z"
    }
   },
   "outputs": [
    {
     "name": "stderr",
     "output_type": "stream",
     "text": [
      "<>:7: DeprecationWarning: invalid escape sequence \\[\n",
      "<>:9: DeprecationWarning: invalid escape sequence \\w\n",
      "<>:7: DeprecationWarning: invalid escape sequence \\[\n",
      "<>:9: DeprecationWarning: invalid escape sequence \\w\n",
      "<>:7: DeprecationWarning: invalid escape sequence \\[\n",
      "<>:9: DeprecationWarning: invalid escape sequence \\w\n",
      "<ipython-input-26-7f4f4eb375cd>:7: DeprecationWarning: invalid escape sequence \\[\n",
      "  text = re.sub('\\[.*?\\]', '', text)\n",
      "<ipython-input-26-7f4f4eb375cd>:9: DeprecationWarning: invalid escape sequence \\w\n",
      "  text = re.sub('\\w*\\d\\w*', '', text)\n"
     ]
    }
   ],
   "source": [
    "import re\n",
    "import string\n",
    "\n",
    "def clean_text_round1(text):\n",
    "    '''Make text lowercase, remove text in square brackets, remove punctuation and remove words containing numbers.'''\n",
    "    text = text.lower()\n",
    "    text = re.sub('\\[.*?\\]', '', text)\n",
    "    text = re.sub('[%s]' % re.escape(string.punctuation), '', text)\n",
    "    text = re.sub('\\w*\\d\\w*', '', text)\n",
    "    text = re.sub('\\n','',text)\n",
    "    text = re.sub('and','',text)\n",
    "    text = re.sub('the','',text)\n",
    "    \n",
    "    return text\n",
    "\n",
    "round1 = lambda x: clean_text_round1(x)"
   ]
  },
  {
   "cell_type": "code",
   "execution_count": 27,
   "metadata": {
    "ExecuteTime": {
     "end_time": "2020-03-22T09:24:59.386573Z",
     "start_time": "2020-03-22T09:24:48.999605Z"
    }
   },
   "outputs": [],
   "source": [
    "data_clean = pd.DataFrame(df.description.apply(round1))"
   ]
  },
  {
   "cell_type": "code",
   "execution_count": 28,
   "metadata": {
    "ExecuteTime": {
     "end_time": "2020-03-22T09:25:14.887864Z",
     "start_time": "2020-03-22T09:25:14.853797Z"
    }
   },
   "outputs": [],
   "source": [
    "def lemmatize(sentence):\n",
    "    # Init the Wordnet Lemmatizer\n",
    "    lemmatizer = WordNetLemmatizer()\n",
    "    # Tokenize: Split the sentence into words\n",
    "    word_list = nltk.word_tokenize(sentence)\n",
    "    # Lemmatize list of words and join\n",
    "    lemmatized_output = ' '.join([lemmatizer.lemmatize(w) for w in word_list])\n",
    "    return lemmatized_output"
   ]
  },
  {
   "cell_type": "code",
   "execution_count": 29,
   "metadata": {
    "ExecuteTime": {
     "end_time": "2020-03-22T09:26:40.743995Z",
     "start_time": "2020-03-22T09:25:32.925398Z"
    }
   },
   "outputs": [],
   "source": [
    "data_clean['description'] = data_clean['description'].apply(lemmatize)"
   ]
  },
  {
   "cell_type": "code",
   "execution_count": 51,
   "metadata": {
    "ExecuteTime": {
     "end_time": "2020-03-22T20:35:17.133303Z",
     "start_time": "2020-03-22T20:35:17.115144Z"
    }
   },
   "outputs": [],
   "source": [
    "from sklearn.feature_extraction.text import CountVectorizer\n",
    "\n",
    "# Stop words\n",
    "stop_wds = ['english','\\n','airbnb','new york','new','york','1','2','3','4','5','6','7','8','9','10','11','12','13','14','15','16','17']\n",
    "my_stop_words = text.ENGLISH_STOP_WORDS.union(set(stop_wds))"
   ]
  },
  {
   "cell_type": "code",
   "execution_count": 52,
   "metadata": {
    "ExecuteTime": {
     "end_time": "2020-03-22T20:35:30.021180Z",
     "start_time": "2020-03-22T20:35:17.779832Z"
    }
   },
   "outputs": [],
   "source": [
    "cv = CountVectorizer(stop_words= my_stop_words,\n",
    "                    min_df=5,\n",
    "                     ngram_range = (1, 2))\n",
    "data_cv = cv.fit_transform(data_clean.description)"
   ]
  },
  {
   "cell_type": "code",
   "execution_count": 53,
   "metadata": {
    "ExecuteTime": {
     "end_time": "2020-03-22T20:35:30.042448Z",
     "start_time": "2020-03-22T20:35:30.026994Z"
    }
   },
   "outputs": [],
   "source": [
    "def display_topics(model, feature_names, no_top_words, topic_names=None):\n",
    "    for ix, topic in enumerate(model.components_):\n",
    "        if not topic_names or not topic_names[ix]:\n",
    "            print(\"\\nTopic \", ix)\n",
    "        else:\n",
    "            print(\"\\nTopic: '\",topic_names[ix],\"'\")\n",
    "        print(\", \".join([feature_names[i]\n",
    "                        for i in topic.argsort()[:-no_top_words - 1:-1]]))"
   ]
  },
  {
   "cell_type": "code",
   "execution_count": 54,
   "metadata": {
    "ExecuteTime": {
     "end_time": "2020-03-22T20:45:35.700097Z",
     "start_time": "2020-03-22T20:35:30.051562Z"
    }
   },
   "outputs": [],
   "source": [
    "data_vectorized = cv.fit_transform(data_clean['description'])\n",
    "\n",
    "lda_model = LatentDirichletAllocation(n_components=5, # Number of topics\n",
    "                                      learning_method='online',\n",
    "                                      random_state=42,       \n",
    "                                      n_jobs = -1  # Use all available CPUs\n",
    "                                     )\n",
    "lda_output = lda_model.fit_transform(data_vectorized)\n"
   ]
  },
  {
   "cell_type": "code",
   "execution_count": 55,
   "metadata": {
    "ExecuteTime": {
     "end_time": "2020-03-22T20:45:36.099455Z",
     "start_time": "2020-03-22T20:45:35.706172Z"
    }
   },
   "outputs": [
    {
     "name": "stdout",
     "output_type": "stream",
     "text": [
      "\n",
      "Topic  0\n",
      "room, guest, place, private, space, bathroom, home, kitchen, shared, living\n",
      "\n",
      "Topic  1\n",
      "apartment, bedroom, floor, ha, space, large, building, kitchen, room, window\n",
      "\n",
      "Topic  2\n",
      "bed, bedroom, room, apartment, kitchen, queen, tv, size, bathroom, ha\n",
      "\n",
      "Topic  3\n",
      "train, minute, park, block, restaurant, walk, away, apartment, subway, manhattan\n",
      "\n",
      "Topic  4\n",
      "minute, amenity, apartment, room, building, ll, kitchen, hotel, city, stay\n"
     ]
    }
   ],
   "source": [
    "display_topics(lda_model, cv.get_feature_names(), 10)"
   ]
  },
  {
   "cell_type": "code",
   "execution_count": null,
   "metadata": {},
   "outputs": [],
   "source": []
  },
  {
   "cell_type": "code",
   "execution_count": null,
   "metadata": {},
   "outputs": [],
   "source": []
  },
  {
   "cell_type": "code",
   "execution_count": null,
   "metadata": {},
   "outputs": [],
   "source": []
  },
  {
   "cell_type": "code",
   "execution_count": 5,
   "metadata": {
    "ExecuteTime": {
     "end_time": "2020-03-22T09:00:45.318356Z",
     "start_time": "2020-03-22T09:00:45.272181Z"
    }
   },
   "outputs": [],
   "source": [
    "corpus = df.set_index('id')"
   ]
  },
  {
   "cell_type": "code",
   "execution_count": 10,
   "metadata": {
    "ExecuteTime": {
     "end_time": "2020-03-22T09:01:24.171711Z",
     "start_time": "2020-03-22T09:01:24.160560Z"
    }
   },
   "outputs": [],
   "source": [
    "def preprocess_text(corpus):\n",
    "    \"\"\"Takes a corpus in list format and applies basic preprocessing steps of word tokenization,\n",
    "     removing of english stop words, lower case and lemmatization.\"\"\"\n",
    "    processed_corpus = []\n",
    "    english_words = set(nltk.corpus.words.words())\n",
    "    english_stopwords = set(stopwords.words('english'))\n",
    "    wordnet_lemmatizer = WordNetLemmatizer()\n",
    "    tokenizer = RegexpTokenizer(r'[\\w|!]+')\n",
    "    for row in corpus:\n",
    "        word_tokens = tokenizer.tokenize(row)\n",
    "        word_tokens_lower = [t.lower() for t in word_tokens]\n",
    "        word_tokens_lower_english = [t for t in word_tokens_lower if t in english_words or not t.isalpha()]\n",
    "        word_tokens_no_stops = [t for t in word_tokens_lower_english if not t in english_stopwords]\n",
    "        word_tokens_no_stops_lemmatized = [wordnet_lemmatizer.lemmatize(t) for t in word_tokens_no_stops]\n",
    "        processed_corpus.append(word_tokens_no_stops_lemmatized)\n",
    "    return processed_corpus"
   ]
  },
  {
   "cell_type": "code",
   "execution_count": 11,
   "metadata": {
    "ExecuteTime": {
     "end_time": "2020-03-22T09:01:24.609702Z",
     "start_time": "2020-03-22T09:01:24.604005Z"
    }
   },
   "outputs": [],
   "source": [
    "def nlp_model_pipeline(processed_corpus):\n",
    "    \"\"\"Takes processed corpus and produce dictionary, doc_term_matrix and LDA model\"\"\"\n",
    "    # Creates the term dictionary (every unique term in corpus is assigned an index)\n",
    "    dictionary = Dictionary(processed_corpus)\n",
    "    # Convert corpus into Document Term Matrix using dictionary prepared above\n",
    "    doc_term_matrix = [dictionary.doc2bow(listing) for listing in processed_corpus]    \n",
    "    return dictionary, doc_term_matrix"
   ]
  },
  {
   "cell_type": "code",
   "execution_count": 12,
   "metadata": {
    "ExecuteTime": {
     "end_time": "2020-03-22T09:01:25.002383Z",
     "start_time": "2020-03-22T09:01:24.989846Z"
    }
   },
   "outputs": [],
   "source": [
    "def LDA_topic_modelling(doc_term_matrix, dictionary, num_topics=3, passes=2):\n",
    "    # Create an object for LDA model and train it on Document-Term-Matrix\n",
    "    LDA = LdaModel\n",
    "    ldamodel = LDA(doc_term_matrix, num_topics=num_topics, id2word = dictionary, passes=passes)\n",
    "    return ldamodel"
   ]
  },
  {
   "cell_type": "code",
   "execution_count": 13,
   "metadata": {
    "ExecuteTime": {
     "end_time": "2020-03-22T09:01:25.881627Z",
     "start_time": "2020-03-22T09:01:25.870649Z"
    }
   },
   "outputs": [],
   "source": [
    "def add_topics_to_df(ldamodel, doc_term_matrix, df, new_col, num_topics):\n",
    "    # Convert into Per-document topic probability matrix:\n",
    "    docTopicProbMat = ldamodel[doc_term_matrix]\n",
    "    docTopicProbDf = pd.DataFrame(index=df.index, columns=range(0, num_topics))\n",
    "    for i, doc in enumerate(docTopicProbMat):\n",
    "        for topic in doc:\n",
    "            docTopicProbDf.iloc[i, topic[0]] = topic[1]\n",
    "    docTopicProbDf[new_col] = docTopicProbDf.idxmax(axis=1)\n",
    "    df_topics = docTopicProbDf[new_col]\n",
    "    # Merge with df\n",
    "    df_new = pd.concat([df, df_topics], axis=1)\n",
    "    return df_new"
   ]
  },
  {
   "cell_type": "code",
   "execution_count": 14,
   "metadata": {
    "ExecuteTime": {
     "end_time": "2020-03-22T09:01:26.795780Z",
     "start_time": "2020-03-22T09:01:26.776831Z"
    }
   },
   "outputs": [
    {
     "data": {
      "text/html": [
       "<div>\n",
       "<style scoped>\n",
       "    .dataframe tbody tr th:only-of-type {\n",
       "        vertical-align: middle;\n",
       "    }\n",
       "\n",
       "    .dataframe tbody tr th {\n",
       "        vertical-align: top;\n",
       "    }\n",
       "\n",
       "    .dataframe thead th {\n",
       "        text-align: right;\n",
       "    }\n",
       "</style>\n",
       "<table border=\"1\" class=\"dataframe\">\n",
       "  <thead>\n",
       "    <tr style=\"text-align: right;\">\n",
       "      <th></th>\n",
       "      <th>description</th>\n",
       "    </tr>\n",
       "    <tr>\n",
       "      <th>id</th>\n",
       "      <th></th>\n",
       "    </tr>\n",
       "  </thead>\n",
       "  <tbody>\n",
       "    <tr>\n",
       "      <th>2595</th>\n",
       "      <td>Beautiful, spacious skylit studio in the heart...</td>\n",
       "    </tr>\n",
       "    <tr>\n",
       "      <th>3831</th>\n",
       "      <td>Urban retreat: enjoy 500 s.f. floor in 1899 br...</td>\n",
       "    </tr>\n",
       "    <tr>\n",
       "      <th>5099</th>\n",
       "      <td>My large 1 bedroom apartment has a true New Yo...</td>\n",
       "    </tr>\n",
       "    <tr>\n",
       "      <th>5121</th>\n",
       "      <td>HELLO EVERYONE AND THANKS FOR VISITING BLISS A...</td>\n",
       "    </tr>\n",
       "    <tr>\n",
       "      <th>5178</th>\n",
       "      <td>Please don’t expect the luxury here just a bas...</td>\n",
       "    </tr>\n",
       "  </tbody>\n",
       "</table>\n",
       "</div>"
      ],
      "text/plain": [
       "                                            description\n",
       "id                                                     \n",
       "2595  Beautiful, spacious skylit studio in the heart...\n",
       "3831  Urban retreat: enjoy 500 s.f. floor in 1899 br...\n",
       "5099  My large 1 bedroom apartment has a true New Yo...\n",
       "5121  HELLO EVERYONE AND THANKS FOR VISITING BLISS A...\n",
       "5178  Please don’t expect the luxury here just a bas..."
      ]
     },
     "execution_count": 14,
     "metadata": {},
     "output_type": "execute_result"
    }
   ],
   "source": [
    "corpus.head()"
   ]
  },
  {
   "cell_type": "code",
   "execution_count": 15,
   "metadata": {
    "ExecuteTime": {
     "end_time": "2020-03-22T09:02:18.939589Z",
     "start_time": "2020-03-22T09:01:45.136698Z"
    }
   },
   "outputs": [],
   "source": [
    "corpus_description = corpus['description'].astype(str)\n",
    "processed_corpus_description = preprocess_text(corpus_description)\n",
    "dictionary_description, doc_term_matrix_description = nlp_model_pipeline(processed_corpus_description)"
   ]
  },
  {
   "cell_type": "code",
   "execution_count": null,
   "metadata": {},
   "outputs": [],
   "source": [
    "# ldamodel_description = LDA_topic_modelling(doc_term_matrix_description, dictionary_description, num_topics=3, passes=10)"
   ]
  },
  {
   "cell_type": "code",
   "execution_count": 35,
   "metadata": {
    "ExecuteTime": {
     "end_time": "2020-03-22T09:52:21.649294Z",
     "start_time": "2020-03-22T09:46:22.395452Z"
    }
   },
   "outputs": [],
   "source": [
    "ldamodel_description5 = LDA_topic_modelling(doc_term_matrix_description, dictionary_description, num_topics=5, passes=10)"
   ]
  },
  {
   "cell_type": "code",
   "execution_count": 36,
   "metadata": {
    "ExecuteTime": {
     "end_time": "2020-03-22T09:58:13.850409Z",
     "start_time": "2020-03-22T09:52:21.651930Z"
    }
   },
   "outputs": [],
   "source": [
    "ldamodel_description8 = LDA_topic_modelling(doc_term_matrix_description, dictionary_description, num_topics=8, passes=10)"
   ]
  },
  {
   "cell_type": "code",
   "execution_count": 37,
   "metadata": {
    "ExecuteTime": {
     "end_time": "2020-03-22T10:08:25.827496Z",
     "start_time": "2020-03-22T09:58:13.853836Z"
    }
   },
   "outputs": [],
   "source": [
    "p3 = pyLDAvis.gensim.prepare(ldamodel_description, doc_term_matrix_description, dictionary_description)"
   ]
  },
  {
   "cell_type": "code",
   "execution_count": 38,
   "metadata": {
    "ExecuteTime": {
     "end_time": "2020-03-22T10:18:31.737226Z",
     "start_time": "2020-03-22T10:08:25.831832Z"
    }
   },
   "outputs": [],
   "source": [
    "p5 = pyLDAvis.gensim.prepare(ldamodel_description5, doc_term_matrix_description, dictionary_description)"
   ]
  },
  {
   "cell_type": "code",
   "execution_count": 39,
   "metadata": {
    "ExecuteTime": {
     "end_time": "2020-03-22T10:28:38.473121Z",
     "start_time": "2020-03-22T10:18:31.742356Z"
    }
   },
   "outputs": [],
   "source": [
    "p8 = pyLDAvis.gensim.prepare(ldamodel_description8, doc_term_matrix_description, dictionary_description)"
   ]
  },
  {
   "cell_type": "code",
   "execution_count": 40,
   "metadata": {
    "ExecuteTime": {
     "end_time": "2020-03-22T18:43:00.357038Z",
     "start_time": "2020-03-22T18:43:00.284001Z"
    },
    "scrolled": true
   },
   "outputs": [
    {
     "data": {
      "text/html": [
       "\n",
       "<link rel=\"stylesheet\" type=\"text/css\" href=\"https://cdn.rawgit.com/bmabey/pyLDAvis/files/ldavis.v1.0.0.css\">\n",
       "\n",
       "\n",
       "<div id=\"ldavis_el454101125836675285510176288\"></div>\n",
       "<script type=\"text/javascript\">\n",
       "\n",
       "var ldavis_el454101125836675285510176288_data = {\"mdsDat\": {\"x\": [-0.024248873494565063, -0.1595088075948805, 0.18375768108944557], \"y\": [-0.1351890917862898, 0.08191949440677145, 0.05326959737951835], \"topics\": [1, 2, 3], \"cluster\": [1, 1, 1], \"Freq\": [36.552886962890625, 32.348907470703125, 31.09821319580078]}, \"tinfo\": {\"Category\": [\"Default\", \"Default\", \"Default\", \"Default\", \"Default\", \"Default\", \"Default\", \"Default\", \"Default\", \"Default\", \"Default\", \"Default\", \"Default\", \"Default\", \"Default\", \"Default\", \"Default\", \"Default\", \"Default\", \"Default\", \"Default\", \"Default\", \"Default\", \"Default\", \"Default\", \"Default\", \"Default\", \"Default\", \"Default\", \"Default\", \"Topic1\", \"Topic1\", \"Topic1\", \"Topic1\", \"Topic1\", \"Topic1\", \"Topic1\", \"Topic1\", \"Topic1\", \"Topic1\", \"Topic1\", \"Topic1\", \"Topic1\", \"Topic1\", \"Topic1\", \"Topic1\", \"Topic1\", \"Topic1\", \"Topic1\", \"Topic1\", \"Topic1\", \"Topic1\", \"Topic1\", \"Topic1\", \"Topic1\", \"Topic1\", \"Topic1\", \"Topic1\", \"Topic1\", \"Topic1\", \"Topic1\", \"Topic1\", \"Topic1\", \"Topic1\", \"Topic1\", \"Topic1\", \"Topic1\", \"Topic1\", \"Topic1\", \"Topic1\", \"Topic1\", \"Topic1\", \"Topic1\", \"Topic1\", \"Topic1\", \"Topic1\", \"Topic1\", \"Topic1\", \"Topic1\", \"Topic1\", \"Topic1\", \"Topic1\", \"Topic1\", \"Topic1\", \"Topic1\", \"Topic1\", \"Topic1\", \"Topic1\", \"Topic1\", \"Topic1\", \"Topic1\", \"Topic1\", \"Topic1\", \"Topic1\", \"Topic1\", \"Topic1\", \"Topic1\", \"Topic1\", \"Topic1\", \"Topic1\", \"Topic1\", \"Topic1\", \"Topic1\", \"Topic1\", \"Topic1\", \"Topic1\", \"Topic1\", \"Topic1\", \"Topic1\", \"Topic1\", \"Topic1\", \"Topic1\", \"Topic1\", \"Topic1\", \"Topic1\", \"Topic1\", \"Topic1\", \"Topic2\", \"Topic2\", \"Topic2\", \"Topic2\", \"Topic2\", \"Topic2\", \"Topic2\", \"Topic2\", \"Topic2\", \"Topic2\", \"Topic2\", \"Topic2\", \"Topic2\", \"Topic2\", \"Topic2\", \"Topic2\", \"Topic2\", \"Topic2\", \"Topic2\", \"Topic2\", \"Topic2\", \"Topic2\", \"Topic2\", \"Topic2\", \"Topic2\", \"Topic2\", \"Topic2\", \"Topic2\", \"Topic2\", \"Topic2\", \"Topic2\", \"Topic2\", \"Topic2\", \"Topic2\", \"Topic2\", \"Topic2\", \"Topic2\", \"Topic2\", \"Topic2\", \"Topic2\", \"Topic2\", \"Topic2\", \"Topic2\", \"Topic2\", \"Topic2\", \"Topic2\", \"Topic2\", \"Topic2\", \"Topic2\", \"Topic2\", \"Topic2\", \"Topic2\", \"Topic2\", \"Topic2\", \"Topic2\", \"Topic2\", \"Topic2\", \"Topic2\", \"Topic2\", \"Topic2\", \"Topic2\", \"Topic2\", \"Topic2\", \"Topic2\", \"Topic2\", \"Topic2\", \"Topic2\", \"Topic2\", \"Topic2\", \"Topic2\", \"Topic2\", \"Topic2\", \"Topic2\", \"Topic2\", \"Topic2\", \"Topic3\", \"Topic3\", \"Topic3\", \"Topic3\", \"Topic3\", \"Topic3\", \"Topic3\", \"Topic3\", \"Topic3\", \"Topic3\", \"Topic3\", \"Topic3\", \"Topic3\", \"Topic3\", \"Topic3\", \"Topic3\", \"Topic3\", \"Topic3\", \"Topic3\", \"Topic3\", \"Topic3\", \"Topic3\", \"Topic3\", \"Topic3\", \"Topic3\", \"Topic3\", \"Topic3\", \"Topic3\", \"Topic3\", \"Topic3\", \"Topic3\", \"Topic3\", \"Topic3\", \"Topic3\", \"Topic3\", \"Topic3\", \"Topic3\", \"Topic3\", \"Topic3\", \"Topic3\", \"Topic3\", \"Topic3\", \"Topic3\", \"Topic3\", \"Topic3\", \"Topic3\", \"Topic3\", \"Topic3\", \"Topic3\", \"Topic3\", \"Topic3\", \"Topic3\", \"Topic3\", \"Topic3\", \"Topic3\", \"Topic3\", \"Topic3\", \"Topic3\", \"Topic3\", \"Topic3\", \"Topic3\", \"Topic3\", \"Topic3\", \"Topic3\", \"Topic3\", \"Topic3\", \"Topic3\", \"Topic3\", \"Topic3\", \"Topic3\", \"Topic3\", \"Topic3\"], \"Freq\": [23165.0, 26792.0, 28178.0, 14017.0, 21048.0, 12437.0, 12421.0, 57271.0, 24842.0, 10717.0, 20134.0, 11769.0, 29790.0, 15681.0, 7652.0, 27445.0, 11766.0, 9707.0, 19843.0, 20308.0, 15556.0, 9638.0, 24406.0, 6990.0, 38523.0, 7261.0, 5478.0, 5056.0, 17488.0, 8091.0, 3579.68994140625, 930.8632202148438, 940.4618530273438, 896.61474609375, 790.01806640625, 845.4391479492188, 765.8513793945312, 744.6828002929688, 679.72119140625, 738.1834716796875, 787.2515258789062, 666.814453125, 670.9194946289062, 650.2235107421875, 604.000732421875, 629.4172973632812, 555.46875, 542.6373901367188, 725.2911376953125, 553.7772216796875, 2776.3759765625, 517.2957763671875, 531.1143188476562, 504.6191711425781, 524.7136840820312, 500.5086975097656, 564.445068359375, 513.0133056640625, 536.7698364257812, 503.1043701171875, 5180.6328125, 2066.630615234375, 2424.034423828125, 890.0556640625, 1494.1102294921875, 4981.33984375, 4034.798583984375, 665.764892578125, 6396.90966796875, 1330.6375732421875, 1047.5428466796875, 2568.1005859375, 1841.19970703125, 7104.6669921875, 2243.995361328125, 1759.918701171875, 2961.318603515625, 15004.0654296875, 1734.4827880859375, 9388.0810546875, 3239.901611328125, 1882.3154296875, 12325.6904296875, 3138.814208984375, 2369.935546875, 6070.109375, 7007.44873046875, 9076.58984375, 5709.306640625, 16009.31640625, 33364.7421875, 4180.09130859375, 9570.2626953125, 4522.8564453125, 12704.5595703125, 4101.73291015625, 6375.52685546875, 10968.970703125, 5421.8466796875, 6736.08349609375, 11044.21875, 7464.37109375, 6176.4287109375, 5496.5693359375, 6756.70166015625, 8285.1044921875, 11943.02734375, 9987.197265625, 5809.27685546875, 12849.197265625, 7712.4873046875, 9578.44921875, 6396.31396484375, 6568.7939453125, 5950.0341796875, 5775.44384765625, 5775.55078125, 12436.3505859375, 12420.3291015625, 4571.59814453125, 4221.9775390625, 2870.673583984375, 2541.9384765625, 2494.59912109375, 2273.2880859375, 1933.4949951171875, 1885.1485595703125, 1852.5902099609375, 1712.4017333984375, 1651.650146484375, 1619.75341796875, 1597.0386962890625, 1568.427001953125, 1505.1822509765625, 1459.5572509765625, 1357.106201171875, 1355.27099609375, 1318.8021240234375, 1292.7098388671875, 1122.3941650390625, 1030.301513671875, 998.35986328125, 997.6316528320312, 941.029541015625, 882.9124145507812, 834.7421264648438, 847.3653564453125, 5451.54736328125, 3665.71826171875, 2293.710693359375, 2221.102294921875, 3209.3828125, 1957.3721923828125, 1354.5205078125, 24777.8828125, 6686.77099609375, 2617.541015625, 5442.517578125, 2537.345458984375, 2156.03271484375, 5308.22314453125, 3027.8994140625, 2541.564208984375, 4625.115234375, 3171.52001953125, 4114.60205078125, 37071.921875, 14375.5087890625, 16268.1298828125, 9779.3251953125, 3984.561279296875, 22724.15625, 16588.125, 15452.7236328125, 21076.6328125, 6209.4638671875, 10195.880859375, 6003.7783203125, 13058.9345703125, 4460.46240234375, 19058.8984375, 9156.6416015625, 6384.3681640625, 7009.48583984375, 8248.6650390625, 6867.98046875, 6932.8583984375, 7144.400390625, 6286.52734375, 6565.67919921875, 6373.47119140625, 5485.82861328125, 14016.8037109375, 10716.234375, 7651.6240234375, 5055.94677734375, 3458.01904296875, 3392.034423828125, 3228.06494140625, 3078.16015625, 2040.82861328125, 1627.24951171875, 1518.297119140625, 1558.071044921875, 1273.0888671875, 1205.4334716796875, 927.07568359375, 972.594970703125, 844.9891967773438, 761.251953125, 684.8626098632812, 665.6517333984375, 642.0206909179688, 647.5249633789062, 639.695068359375, 693.4137573242188, 621.4888916015625, 616.0611572265625, 659.4644165039062, 612.765625, 595.1448974609375, 504.4992980957031, 4290.14208984375, 22541.927734375, 884.63818359375, 796.9954223632812, 2460.19091796875, 3925.6923828125, 10934.568359375, 3070.562255859375, 2383.1953125, 8921.0341796875, 6686.95361328125, 24235.166015625, 3299.465576171875, 3290.298583984375, 17331.875, 16609.33984375, 4247.3212890625, 8232.052734375, 9910.5966796875, 12670.9150390625, 3762.17822265625, 18701.333984375, 6688.68310546875, 5480.5693359375, 9118.1962890625, 10975.845703125, 8558.6259765625, 5495.48486328125, 11239.6376953125, 15628.40625, 10212.03515625, 7796.62939453125, 7340.921875, 10723.9462890625, 8911.98046875, 5564.43310546875, 9112.05078125, 8993.7568359375, 13050.67578125, 6178.31982421875, 6602.419921875, 7350.39453125], \"Term\": [\"train\", \"bed\", \"walk\", \"minute\", \"park\", \"queen\", \"size\", \"room\", \"away\", \"min\", \"subway\", \"station\", \"2\", \"5\", \"bus\", \"living\", \"walking\", \"10\", \"full\", \"1\", \"close\", \"distance\", \"bathroom\", \"closet\", \"kitchen\", \"15\", \"table\", \"airport\", \"street\", \"7\", \"experience\", \"artist\", \"vintage\", \"charm\", \"whether\", \"oasis\", \"start\", \"feeling\", \"thoughtfully\", \"outpost\", \"spend\", \"discover\", \"truly\", \"scene\", \"superior\", \"eclectic\", \"enjoy!\", \"creative\", \"hope\", \"lived\", \"unique\", \"personally\", \"artistic\", \"latest\", \"energy\", \"bit\", \"yorker\", \"bustle\", \"exciting\", \"stoop\", \"village\", \"life\", \"filled\", \"you!\", \"exposed\", \"love\", \"art\", \"ever\", \"feel\", \"hip\", \"exploring\", \"soho\", \"explore\", \"like\", \"happy\", \"fun\", \"looking\", \"home\", \"old\", \"york\", \"want\", \"brick\", \"city\", \"offer\", \"relax\", \"perfect\", \"enjoy\", \"place\", \"light\", \"new\", \"apartment\", \"amazing\", \"great\", \"make\", \"space\", \"welcome\", \"heart\", \"neighborhood\", \"everything\", \"best\", \"one\", \"need\", \"east\", \"modern\", \"beautiful\", \"stay\", \"bedroom\", \"living\", \"well\", \"room\", \"building\", \"kitchen\", \"also\", \"access\", \"quiet\", \"two\", \"away\", \"queen\", \"size\", \"microwave\", \"desk\", \"screen\", \"oven\", \"stove\", \"refrigerator\", \"twin\", \"tax\", \"maker\", \"chair\", \"iron\", \"shampoo\", \"bedding\", \"charge\", \"foam\", \"memory\", \"toaster\", \"dresser\", \"conditioner\", \"complimentary\", \"prior\", \"drawer\", \"board\", \"inch\", \"soap\", \"mirror\", \"deposit\", \"occupancy\", \"table\", \"shower\", \"master\", \"fee\", \"flat\", \"stainless\", \"gas\", \"bed\", \"closet\", \"arrival\", \"sofa\", \"per\", \"double\", \"bath\", \"dishwasher\", \"king\", \"air\", \"cable\", \"sized\", \"room\", \"full\", \"bathroom\", \"large\", \"mattress\", \"kitchen\", \"living\", \"private\", \"bedroom\", \"dining\", \"floor\", \"guest\", \"2\", \"unit\", \"apartment\", \"1\", \"fully\", \"two\", \"space\", \"area\", \"access\", \"available\", \"stay\", \"one\", \"building\", \"comfortable\", \"minute\", \"min\", \"bus\", \"airport\", \"nan\", \"drive\", \"q\", \"r\", \"supermarket\", \"mall\", \"de\", \"la\", \"taxi\", \"beach\", \"flushing\", \"botanical\", \"pharmacy\", \"stadium\", \"score\", \"rating\", \"350k\", \"journal\", \"el\", \"plaza\", \"un\", \"zoo\", \"mile\", \"terminal\", \"con\", \"bank\", \"ride\", \"train\", \"hospital\", \"circle\", \"express\", \"ave\", \"station\", \"e\", \"n\", \"10\", \"15\", \"walk\", \"museum\", \"grocery\", \"park\", \"subway\", \"stop\", \"distance\", \"walking\", \"5\", \"st\", \"away\", \"7\", \"20\", \"central\", \"close\", \"block\", \"6\", \"street\", \"2\", \"3\", \"square\", \"4\", \"1\", \"time\", \"center\", \"available\", \"neighborhood\", \"apartment\", \"around\", \"building\", \"room\"], \"Total\": [23165.0, 26792.0, 28178.0, 14017.0, 21048.0, 12437.0, 12421.0, 57271.0, 24842.0, 10717.0, 20134.0, 11769.0, 29790.0, 15681.0, 7652.0, 27445.0, 11766.0, 9707.0, 19843.0, 20308.0, 15556.0, 9638.0, 24406.0, 6990.0, 38523.0, 7261.0, 5478.0, 5056.0, 17488.0, 8091.0, 3581.148193359375, 931.6312255859375, 941.2916870117188, 897.4330444335938, 790.7730102539062, 846.2722778320312, 766.6253662109375, 745.4509887695312, 680.4282836914062, 738.9804077148438, 788.1126098632812, 667.5542602539062, 671.7008056640625, 651.0144653320312, 604.7721557617188, 630.2335205078125, 556.2046508789062, 543.3788452148438, 726.2905883789062, 554.5689086914062, 2780.400146484375, 518.051025390625, 531.9017944335938, 505.37469482421875, 525.5046997070312, 501.28704833984375, 565.3229370117188, 513.8237915039062, 537.6288452148438, 503.91851806640625, 5206.6640625, 2073.040283203125, 2447.664794921875, 893.7433471679688, 1511.7437744140625, 5284.64599609375, 4294.029296875, 670.1761474609375, 6995.013671875, 1370.5008544921875, 1073.914306640625, 2796.325927734375, 1962.74755859375, 8297.7001953125, 2447.94140625, 1912.926513671875, 3385.501953125, 20190.173828125, 1894.2769775390625, 12725.7451171875, 3855.6787109375, 2099.990234375, 17453.185546875, 3816.658935546875, 2763.7978515625, 8147.7998046875, 9628.23046875, 13153.4375, 7718.7490234375, 26401.6328125, 65474.31640625, 5574.27734375, 15861.048828125, 6280.80615234375, 23811.271484375, 5663.92529296875, 10152.046875, 20750.51171875, 8216.267578125, 11145.2880859375, 23523.70703125, 13718.8896484375, 10528.7763671875, 8885.177734375, 12581.255859375, 18179.861328125, 37912.55859375, 27445.01953125, 10495.7529296875, 57271.51171875, 20688.37890625, 38523.7578125, 16122.1171875, 18823.115234375, 13751.8857421875, 16043.189453125, 24842.845703125, 12437.6884765625, 12421.685546875, 4572.3798828125, 4222.8505859375, 2871.45703125, 2542.715087890625, 2495.39501953125, 2274.091552734375, 1934.271728515625, 1885.932373046875, 1853.3746337890625, 1713.174560546875, 1652.432373046875, 1620.5557861328125, 1597.86865234375, 1569.2598876953125, 1505.98193359375, 1460.3482666015625, 1357.8548583984375, 1356.043701171875, 1319.573486328125, 1293.5819091796875, 1123.2354736328125, 1031.096435546875, 999.1331787109375, 998.420166015625, 941.818115234375, 883.6854858398438, 835.5029907226562, 848.1466064453125, 5478.2314453125, 3688.696044921875, 2301.043212890625, 2230.68212890625, 3236.177001953125, 1965.29052734375, 1356.292724609375, 26792.59375, 6990.984375, 2670.621337890625, 5841.94921875, 2619.71630859375, 2217.18115234375, 5802.58056640625, 3189.8505859375, 2671.288818359375, 5199.47265625, 3429.971435546875, 4636.033203125, 57271.51171875, 19843.12890625, 24406.064453125, 13345.0654296875, 4604.8779296875, 38523.7578125, 27445.01953125, 25268.78125, 37912.55859375, 8325.4365234375, 17413.861328125, 8672.7548828125, 29790.90625, 6022.06884765625, 65474.31640625, 20308.59765625, 12478.1474609375, 16043.189453125, 23811.271484375, 17941.1171875, 18823.115234375, 20970.59375, 18179.861328125, 23523.70703125, 20688.37890625, 11125.5234375, 14017.6103515625, 10717.1484375, 7652.4267578125, 5056.76171875, 3458.7509765625, 3392.79638671875, 3228.863525390625, 3078.980712890625, 2041.652587890625, 1628.0401611328125, 1519.05859375, 1558.8524169921875, 1273.9097900390625, 1206.244140625, 927.85498046875, 973.5131225585938, 845.792236328125, 762.0697021484375, 685.6073608398438, 666.3839111328125, 642.7430419921875, 648.2637939453125, 640.4420776367188, 694.2501831054688, 622.2803955078125, 616.8529663085938, 660.3198852539062, 613.5838623046875, 595.9618530273438, 505.3428649902344, 4304.916015625, 23165.5703125, 886.90380859375, 798.419189453125, 2511.695068359375, 4087.1728515625, 11769.1201171875, 3190.285400390625, 2480.46923828125, 9707.9970703125, 7261.82470703125, 28178.25390625, 3545.607421875, 3561.762939453125, 21048.861328125, 20134.119140625, 4724.23828125, 9638.033203125, 11766.5126953125, 15681.89453125, 4152.8544921875, 24842.845703125, 8091.00146484375, 6497.90185546875, 12390.541015625, 15556.9736328125, 11572.306640625, 6853.775390625, 17488.9140625, 29790.90625, 16575.484375, 11695.015625, 11067.359375, 20308.59765625, 15478.46875, 7736.3662109375, 20970.59375, 20750.51171875, 65474.31640625, 9876.130859375, 20688.37890625, 57271.51171875], \"loglift\": [30.0, 29.0, 28.0, 27.0, 26.0, 25.0, 24.0, 23.0, 22.0, 21.0, 20.0, 19.0, 18.0, 17.0, 16.0, 15.0, 14.0, 13.0, 12.0, 11.0, 10.0, 9.0, 8.0, 7.0, 6.0, 5.0, 4.0, 3.0, 2.0, 1.0, 1.00600004196167, 1.0055999755859375, 1.0054999589920044, 1.0054999589920044, 1.0054999589920044, 1.0053999423980713, 1.0053999423980713, 1.0053999423980713, 1.0053999423980713, 1.0053000450134277, 1.0053000450134277, 1.0053000450134277, 1.0052000284194946, 1.0052000284194946, 1.0051000118255615, 1.0051000118255615, 1.0051000118255615, 1.0049999952316284, 1.0049999952316284, 1.0049999952316284, 1.0049999952316284, 1.0049999952316284, 1.0048999786376953, 1.0048999786376953, 1.0048999786376953, 1.0048999786376953, 1.0048999786376953, 1.0047999620437622, 1.0047999620437622, 1.0047999620437622, 1.0013999938964844, 1.0032999515533447, 0.9966999888420105, 1.0023000240325928, 0.994700014591217, 0.9473000168800354, 0.944100022315979, 0.9998000264167786, 0.9169999957084656, 0.9768999814987183, 0.9815000295639038, 0.9212999939918518, 0.9424999952316284, 0.8511999845504761, 0.9193999767303467, 0.9229999780654907, 0.8725000023841858, 0.7095000147819519, 0.9182999730110168, 0.7021999955177307, 0.8324000239372253, 0.8970000147819519, 0.6585999727249146, 0.8108999729156494, 0.8526999950408936, 0.7120000123977661, 0.6887000203132629, 0.6353999972343445, 0.7049000263214111, 0.5062000155448914, 0.33230000734329224, 0.7185999751091003, 0.5012000203132629, 0.6780999898910522, 0.3781999945640564, 0.6837000250816345, 0.5411999821662903, 0.36890000104904175, 0.5906999707221985, 0.5029000043869019, 0.25029999017715454, 0.3977999985218048, 0.4729999899864197, 0.5260999798774719, 0.3847000002861023, 0.22059999406337738, -0.14869999885559082, -0.0044999998062849045, 0.414900004863739, -0.48809999227523804, 0.019700000062584877, -0.38530001044273376, 0.08190000057220459, -0.046300001442432404, 0.16859999299049377, -0.015300000086426735, -0.45249998569488525, 1.128499984741211, 1.128499984741211, 1.1283999681472778, 1.1283999681472778, 1.1282999515533447, 1.1282999515533447, 1.1282999515533447, 1.1282000541687012, 1.1282000541687012, 1.1282000541687012, 1.1282000541687012, 1.128100037574768, 1.128100037574768, 1.128100037574768, 1.128100037574768, 1.128100037574768, 1.128100037574768, 1.128000020980835, 1.128000020980835, 1.128000020980835, 1.128000020980835, 1.1279000043869019, 1.1277999877929688, 1.1277999877929688, 1.1277999877929688, 1.1277999877929688, 1.1277999877929688, 1.1276999711990356, 1.1276999711990356, 1.1276999711990356, 1.1237000226974487, 1.1223000288009644, 1.1253999471664429, 1.1243000030517578, 1.120300054550171, 1.1246000528335571, 1.1273000240325928, 1.0504000186920166, 1.0841000080108643, 1.1085000038146973, 1.057800054550171, 1.09660005569458, 1.100600004196167, 1.0394999980926514, 1.0765000581741333, 1.0787999629974365, 1.0115000009536743, 1.0501999855041504, 1.0092999935150146, 0.6935999989509583, 0.8062999844551086, 0.7229999899864197, 0.8177000284194946, 0.9839000105857849, 0.6007000207901001, 0.6251000165939331, 0.6367999911308289, 0.5414999723434448, 0.8353000283241272, 0.5932999849319458, 0.7608000040054321, 0.30390000343322754, 0.8284000158309937, -0.1054999977350235, 0.3319999873638153, 0.4584999978542328, 0.30059999227523804, 0.06849999725818634, 0.16840000450611115, 0.1298000067472458, 0.05180000141263008, 0.06669999659061432, -0.147599995136261, -0.04879999905824661, 0.42149999737739563, 1.1679999828338623, 1.1678999662399292, 1.1678999662399292, 1.1678999662399292, 1.167799949645996, 1.167799949645996, 1.167799949645996, 1.167799949645996, 1.1676000356674194, 1.1675000190734863, 1.1675000190734863, 1.1675000190734863, 1.1674000024795532, 1.1672999858856201, 1.167199969291687, 1.167099952697754, 1.167099952697754, 1.1669000387191772, 1.1669000387191772, 1.1669000387191772, 1.1669000387191772, 1.1669000387191772, 1.1669000387191772, 1.1668000221252441, 1.166700005531311, 1.166700005531311, 1.166700005531311, 1.166700005531311, 1.166599988937378, 1.1663000583648682, 1.1646000146865845, 1.1406999826431274, 1.1655000448226929, 1.166200041770935, 1.1473000049591064, 1.1276999711990356, 1.094499945640564, 1.1297999620437622, 1.128000020980835, 1.0835000276565552, 1.0855000019073486, 1.017300009727478, 1.0960999727249146, 1.0887000560760498, 0.9736999869346619, 0.975600004196167, 1.0615999698638916, 1.0103000402450562, 0.996399998664856, 0.954800009727478, 1.069200038909912, 0.8840000033378601, 0.9776999950408936, 0.9976999759674072, 0.8614000082015991, 0.8191999793052673, 0.8662999868392944, 0.9470999836921692, 0.7258999943733215, 0.5228999853134155, 0.6837000250816345, 0.762499988079071, 0.7574999928474426, 0.5295000076293945, 0.6159999966621399, 0.8385000228881836, 0.3345000147819519, 0.3319999873638153, -0.4447999894618988, 0.6988999843597412, 0.02590000070631504, -0.8849999904632568], \"logprob\": [30.0, 29.0, 28.0, 27.0, 26.0, 25.0, 24.0, 23.0, 22.0, 21.0, 20.0, 19.0, 18.0, 17.0, 16.0, 15.0, 14.0, 13.0, 12.0, 11.0, 10.0, 9.0, 8.0, 7.0, 6.0, 5.0, 4.0, 3.0, 2.0, 1.0, -5.828999996185303, -7.175899982452393, -7.165599822998047, -7.213399887084961, -7.339900016784668, -7.27209997177124, -7.370999813079834, -7.39900016784668, -7.490300178527832, -7.407800197601318, -7.343500137329102, -7.509500026702881, -7.503399848937988, -7.5346999168396, -7.608399868011475, -7.567200183868408, -7.692200183868408, -7.71560001373291, -7.4253997802734375, -7.695199966430664, -6.083099842071533, -7.763400077819824, -7.736999988555908, -7.7881999015808105, -7.749100208282471, -7.79640007019043, -7.676199913024902, -7.771699905395508, -7.726399898529053, -7.791200160980225, -5.4593000411987305, -6.378300189971924, -6.218800067901611, -7.220699787139893, -6.702700138092041, -5.498499870300293, -5.7093000411987305, -7.511099815368652, -5.2484002113342285, -6.818600177764893, -7.057799816131592, -6.161099910736084, -6.493800163269043, -5.143499851226807, -6.296000003814697, -6.539000034332275, -6.018599987030029, -4.395899772644043, -6.553500175476074, -4.864799976348877, -5.928699970245361, -6.471700191497803, -4.592599868774414, -5.960400104522705, -6.241399765014648, -5.300899982452393, -5.157299995422363, -4.898499965667725, -5.362100124359131, -4.331099987030029, -3.5966999530792236, -5.673900127410889, -4.845600128173828, -5.595099925994873, -4.562300205230713, -5.692800045013428, -5.251800060272217, -4.709199905395508, -5.41379976272583, -5.196800231933594, -4.702300071716309, -5.094099998474121, -5.2835001945495605, -5.400100231170654, -5.193699836730957, -4.989799976348877, -4.624100208282471, -4.8028998374938965, -5.344799995422363, -4.551000118255615, -5.061399936676025, -4.844699859619141, -5.248499870300293, -5.22189998626709, -5.320799827575684, -5.350599765777588, -5.350599765777588, -4.461400032043457, -4.462699890136719, -5.462200164794922, -5.541800022125244, -5.927499771118164, -6.049099922180176, -6.06790018081665, -6.160799980163574, -6.322700023651123, -6.348100185394287, -6.365499973297119, -6.444200038909912, -6.480299949645996, -6.499800205230713, -6.513899803161621, -6.5320000648498535, -6.573200225830078, -6.603899955749512, -6.676700115203857, -6.678100109100342, -6.7052998542785645, -6.725299835205078, -6.866600036621094, -6.952199935913086, -6.983699798583984, -6.984399795532227, -7.042799949645996, -7.106599807739258, -7.162700176239014, -7.14769983291626, -5.286200046539307, -5.683000087738037, -6.151899814605713, -6.184100151062012, -5.815999984741211, -6.310500144958496, -6.678599834442139, -3.7720999717712402, -5.081900119781494, -6.019800186157227, -5.287799835205078, -6.050899982452393, -6.213799953460693, -5.31279993057251, -5.874199867248535, -6.049300193786621, -5.4506001472473145, -5.827899932861328, -5.567500114440918, -3.3691999912261963, -4.316500186920166, -4.19290018081665, -4.7017998695373535, -5.599599838256836, -3.858599901199341, -4.173399925231934, -4.24429988861084, -3.9339001178741455, -5.156000137329102, -4.660099983215332, -5.189700126647949, -4.412600040435791, -5.486800193786621, -4.0345001220703125, -4.767600059509277, -5.128200054168701, -5.034800052642822, -4.872000217437744, -5.055200099945068, -5.04580020904541, -5.015699863433838, -5.143700122833252, -5.100200176239014, -5.129899978637695, -5.279900074005127, -4.3024001121521, -4.570899963378906, -4.907700061798096, -5.3221001625061035, -5.701900005340576, -5.721199989318848, -5.7708001136779785, -5.818299770355225, -6.229300022125244, -6.455699920654297, -6.525000095367432, -6.499199867248535, -6.701200008392334, -6.755799770355225, -7.018400192260742, -6.970399856567383, -7.111100196838379, -7.215400218963623, -7.321199893951416, -7.349599838256836, -7.385799884796143, -7.377200126647949, -7.389400005340576, -7.308800220489502, -7.418300151824951, -7.427000045776367, -7.359000205993652, -7.432400226593018, -7.461599826812744, -7.626800060272217, -5.486299991607666, -3.8273000717163086, -7.065199851989746, -7.16949987411499, -6.042399883270264, -5.575099945068359, -4.5507001876831055, -5.820799827575684, -6.07420015335083, -4.754199981689453, -5.042500019073486, -3.7548000812530518, -5.748899936676025, -5.751699924468994, -4.090099811553955, -4.132699966430664, -5.496300220489502, -4.83459997177124, -4.64900016784668, -4.403299808502197, -5.617599964141846, -4.013999938964844, -5.042200088500977, -5.241399765014648, -4.732399940490723, -4.546899795532227, -4.7957000732421875, -5.238699913024902, -4.523200035095215, -4.19350004196167, -4.619100093841553, -4.888899803161621, -4.94920015335083, -4.570199966430664, -4.755199909210205, -5.226200103759766, -4.732999801635742, -4.746099948883057, -4.373799800872803, -5.121600151062012, -5.055200099945068, -4.94789981842041]}, \"token.table\": {\"Topic\": [1, 2, 3, 1, 2, 3, 1, 2, 3, 1, 2, 3, 1, 2, 3, 1, 2, 3, 3, 1, 2, 3, 1, 2, 3, 1, 2, 3, 2, 3, 1, 2, 3, 1, 2, 3, 3, 1, 2, 3, 1, 2, 3, 1, 2, 3, 1, 2, 3, 1, 2, 3, 1, 2, 3, 1, 2, 3, 1, 1, 1, 2, 3, 1, 2, 3, 1, 2, 3, 3, 1, 2, 3, 1, 2, 3, 3, 1, 2, 3, 1, 2, 3, 2, 1, 2, 3, 1, 3, 1, 1, 2, 3, 2, 1, 3, 1, 2, 3, 1, 2, 3, 3, 1, 1, 2, 3, 1, 2, 3, 1, 2, 3, 2, 2, 1, 1, 3, 1, 2, 3, 1, 2, 3, 1, 2, 3, 1, 2, 3, 2, 3, 2, 1, 3, 2, 2, 1, 2, 3, 1, 1, 2, 1, 2, 3, 1, 2, 2, 2, 3, 1, 2, 3, 1, 2, 3, 1, 3, 1, 1, 2, 3, 1, 1, 2, 3, 1, 2, 3, 1, 1, 2, 1, 3, 1, 2, 1, 2, 2, 3, 2, 3, 1, 2, 3, 1, 1, 2, 1, 2, 1, 2, 3, 3, 2, 1, 2, 3, 1, 2, 3, 1, 3, 2, 3, 1, 2, 3, 1, 2, 3, 1, 2, 3, 1, 2, 3, 1, 2, 3, 1, 3, 1, 2, 3, 1, 2, 2, 3, 2, 2, 3, 1, 2, 3, 1, 2, 3, 3, 1, 2, 3, 1, 1, 3, 1, 2, 3, 1, 2, 3, 1, 1, 2, 3, 1, 2, 3, 1, 2, 3, 1, 2, 3, 2, 3, 1, 2, 1, 2, 2, 2, 3, 2, 3, 3, 2, 1, 2, 3, 1, 3, 2, 3, 3, 1, 2, 3, 1, 2, 3, 1, 2, 3, 1, 2, 1, 2, 3, 1, 2, 1, 2, 3, 1, 2, 1, 2, 3, 2, 3, 1, 2, 3, 1, 3, 1, 2, 3, 3, 2, 1, 2, 3, 3, 1, 2, 3, 1, 2, 3, 3, 3, 2, 1, 2, 3, 1, 2, 3, 1, 2, 3, 1, 3, 2, 2, 1, 2, 2, 3, 1, 2, 2, 2, 3, 1, 3, 1, 2, 3, 1, 1, 2, 3, 1, 2, 3, 3, 1, 2, 1, 2, 3, 1, 2, 3, 1, 1, 3, 2, 1, 2, 3, 1, 2, 3, 1, 3, 1, 2, 2, 3, 3, 1, 1, 2, 3, 2, 1, 2, 3, 1, 2, 1, 2, 3, 3, 1, 2, 1, 2, 3, 1, 3, 1, 1, 2, 3, 1, 2, 3, 1, 2, 3, 1, 2, 3, 1, 2, 3, 1, 1, 2, 3, 1, 1, 2, 3, 3], \"Freq\": [0.021074818447232246, 0.45089277625083923, 0.5280522108078003, 0.011330864392220974, 0.06973632425069809, 0.918933093547821, 0.05370550975203514, 0.02547569014132023, 0.9208429455757141, 0.03705829009413719, 0.4383552372455597, 0.5245895981788635, 0.07740960270166397, 0.07910245656967163, 0.8435030579566956, 0.0719737634062767, 0.3119064271450043, 0.6160905957221985, 0.9988439679145813, 0.010300559923052788, 0.3264554738998413, 0.6633018255233765, 0.014156452380120754, 0.17784841358661652, 0.8080018758773804, 0.0004377149452921003, 0.1978471577167511, 0.8017479181289673, 0.17327892780303955, 0.8267208933830261, 0.34898579120635986, 0.36832374334335327, 0.2826843559741974, 0.0748152807354927, 0.8895133137702942, 0.035580530762672424, 0.9998493790626526, 0.39672207832336426, 0.2963010370731354, 0.30696961283683777, 0.7498729825019836, 0.057944729924201965, 0.19231192767620087, 0.5095891356468201, 0.2910912334918976, 0.19933006167411804, 0.320325642824173, 0.38280782103538513, 0.296860009431839, 0.3717042803764343, 0.0027338641230016947, 0.6255486011505127, 0.019471123814582825, 0.9802961945533752, 0.00037444470217451453, 0.9396768808364868, 0.05472715198993683, 0.005589155945926905, 0.9993224740028381, 0.9983046054840088, 0.22479096055030823, 0.3406675159931183, 0.4345132112503052, 0.005872029811143875, 0.03376416862010956, 0.9605661630630493, 0.2325015515089035, 0.014732611365616322, 0.7527720332145691, 0.9973426461219788, 0.04790971800684929, 0.9147654175758362, 0.037224818021059036, 0.11398806422948837, 0.666555643081665, 0.21945364773273468, 0.9989686012268066, 0.537068784236908, 0.1899651437997818, 0.27294573187828064, 0.05882222577929497, 0.9248077869415283, 0.016385124996304512, 0.9994563460350037, 0.3150143623352051, 0.5559371709823608, 0.12906013429164886, 0.6043809652328491, 0.39559319615364075, 0.9994273781776428, 0.216897115111351, 0.043465837836265564, 0.7396105527877808, 0.9988658428192139, 0.0010272074723616242, 0.9994729161262512, 0.8961946368217468, 0.07523844391107559, 0.028095368295907974, 0.37276965379714966, 0.3080473244190216, 0.31911635398864746, 0.9999442100524902, 0.9983967542648315, 0.0014577381080016494, 0.9247890710830688, 0.074053093791008, 0.11710924655199051, 0.16364271938800812, 0.7192007303237915, 0.09563747048377991, 0.1685156375169754, 0.7358839511871338, 0.9993143677711487, 0.9991971254348755, 0.9995174407958984, 0.0012524749618023634, 0.9982225298881531, 0.7062321305274963, 0.07826651632785797, 0.21554803848266602, 0.27511778473854065, 0.019348235800862312, 0.7055357098579407, 0.04162503778934479, 0.9565176367759705, 0.0018595377914607525, 0.4511248469352722, 0.4931004047393799, 0.05572771653532982, 0.9995501637458801, 0.998386025428772, 0.9995654225349426, 0.9993028044700623, 0.9993031024932861, 0.9993979930877686, 0.999798595905304, 0.1187925711274147, 0.745786726474762, 0.13536827266216278, 0.9991697072982788, 0.05078607797622681, 0.9492607712745667, 0.1420414298772812, 0.0038389575202018023, 0.8541161417961121, 0.027512410655617714, 0.9724059104919434, 0.998936653137207, 0.9992303252220154, 0.9997652769088745, 0.03322586789727211, 0.004388322122395039, 0.9626098275184631, 0.5865828990936279, 0.03409703075885773, 0.3792463541030884, 0.9980427622795105, 0.9993097186088562, 0.9990395903587341, 0.7277557253837585, 0.2479167878627777, 0.024303531274199486, 0.9978341460227966, 0.993768572807312, 0.005968580022454262, 0.0014921450056135654, 0.6599103212356567, 0.13704518973827362, 0.2030118852853775, 0.9988303184509277, 0.9996793866157532, 0.00027924004825763404, 0.9379708766937256, 0.06164827570319176, 0.9758692979812622, 0.024210497736930847, 0.9882627129554749, 0.01124529168009758, 0.02030501328408718, 0.9794182777404785, 0.995659589767456, 0.004034640267491341, 0.914508581161499, 0.05603991821408272, 0.029449548572301865, 0.9993950128555298, 0.9903317093849182, 0.009396711364388466, 0.008034171536564827, 0.9916021227836609, 0.2924107313156128, 0.5855105519294739, 0.12208665162324905, 0.9990785121917725, 0.999347984790802, 0.21881629526615143, 0.724482536315918, 0.05674508213996887, 0.34933069348335266, 0.5116143822669983, 0.13904307782649994, 0.9200562238693237, 0.07998216152191162, 0.9990468621253967, 0.0007373039843514562, 0.603364884853363, 0.048672694712877274, 0.34795933961868286, 0.07103224098682404, 0.005334436893463135, 0.9236998558044434, 0.126949280500412, 0.6922829151153564, 0.1807960718870163, 0.9166886210441589, 0.009804156608879566, 0.07353117316961288, 0.628050684928894, 0.11505068838596344, 0.25689399242401123, 0.9711778163909912, 0.02845674939453602, 0.7431337833404541, 0.10519968718290329, 0.15165793895721436, 0.998223066329956, 0.0013768593780696392, 0.0022550360299646854, 0.9978533983230591, 0.9995791912078857, 0.999738335609436, 0.9995930790901184, 0.0014974045334383845, 0.9516006112098694, 0.04679389297962189, 0.24862580001354218, 0.5898697376251221, 0.1614847630262375, 0.9994531869888306, 0.22270403802394867, 0.7327802181243896, 0.04451083391904831, 0.9992585778236389, 0.9970862865447998, 0.002894299803301692, 0.7396275997161865, 0.24576520919799805, 0.014510123059153557, 0.8562613725662231, 0.07845547050237656, 0.06531930714845657, 0.9989741444587708, 0.3638911545276642, 0.6044083833694458, 0.03169973939657211, 0.8746117949485779, 0.08861315250396729, 0.0369221456348896, 0.9425418376922607, 0.00018922743038274348, 0.05714668333530426, 0.7201305031776428, 0.2787858545780182, 0.0011145066237077117, 0.9997978806495667, 0.9993610978126526, 0.003042098367586732, 0.9969391226768494, 0.13463982939720154, 0.8653866648674011, 0.9997615218162537, 0.9999169111251831, 0.9980011582374573, 9.330840111942962e-05, 0.9998928308486938, 0.9999564290046692, 0.9992243051528931, 0.6186708211898804, 0.3589123487472534, 0.022509397938847542, 0.06938162446022034, 0.9304470419883728, 0.039105504751205444, 0.9607053399085999, 0.9997828602790833, 0.5440673828125, 0.3319510519504547, 0.12398962676525116, 0.5286134481430054, 0.037974968552589417, 0.4334350824356079, 0.6063640117645264, 0.19779080152511597, 0.19582122564315796, 0.9984965920448303, 0.9986481070518494, 0.8224470615386963, 0.14855925738811493, 0.029083028435707092, 0.915388822555542, 0.08393704146146774, 0.4694838225841522, 0.2791226804256439, 0.2514059543609619, 0.9986733198165894, 0.9997187852859497, 0.16908277571201324, 0.0075063444674015045, 0.8234174847602844, 0.968425452709198, 0.031301099807024, 0.7449864149093628, 0.1347603052854538, 0.12015513330698013, 0.9979711771011353, 0.9990633130073547, 0.690085768699646, 0.004257442429661751, 0.30562353134155273, 0.9981992244720459, 0.9989000558853149, 0.22418968379497528, 0.6115451455116272, 0.16427385807037354, 0.9997325539588928, 8.040079410420731e-05, 0.9998642206192017, 8.040079410420731e-05, 0.43266794085502625, 0.17437608540058136, 0.39296430349349976, 0.9996814727783203, 0.9994238615036011, 0.9995200037956238, 0.8575156927108765, 0.14219564199447632, 0.0003618209739215672, 0.0032520960085093975, 0.00023229257203638554, 0.9965351223945618, 0.2243523746728897, 0.6473026275634766, 0.12833605706691742, 0.9984416961669922, 0.9991141557693481, 0.9998408555984497, 0.9996570348739624, 0.006235265638679266, 0.993847131729126, 0.9998642802238464, 8.050437463680282e-05, 0.11238055676221848, 0.8876122832298279, 0.9991313219070435, 0.9317095875740051, 0.06829912215471268, 0.9183478951454163, 0.08153556287288666, 0.5335708260536194, 0.34643256664276123, 0.12002719193696976, 0.9985882639884949, 0.20675474405288696, 0.12663514912128448, 0.6666942834854126, 0.03997250646352768, 0.0541796013712883, 0.9058829545974731, 0.9985963106155396, 0.004070645198225975, 0.9957815408706665, 0.999184250831604, 0.07086341083049774, 0.9291263818740845, 0.4557240605354309, 0.34582221508026123, 0.1984613537788391, 0.9981772303581238, 0.10075698047876358, 0.8989809155464172, 0.9998416900634766, 0.29641634225845337, 0.06095289811491966, 0.6426928639411926, 0.12491234391927719, 0.05011393874883652, 0.8249181509017944, 0.9987232089042664, 0.9996803402900696, 0.004746057093143463, 0.9952117204666138, 0.9995056390762329, 0.9992858171463013, 0.9990484118461609, 0.9993705749511719, 0.25848808884620667, 0.16577866673469543, 0.5757675766944885, 0.9993704557418823, 0.02624584548175335, 0.000690680171828717, 0.9730820059776306, 0.9989566802978516, 0.9993425011634827, 0.35996583104133606, 0.43688321113586426, 0.2030768245458603, 0.9979423880577087, 0.9984174370765686, 0.0014386418042704463, 0.2366296499967575, 0.7406092882156372, 0.022583600133657455, 0.9950709342956543, 0.004993600305169821, 0.9986277222633362, 0.08609475940465927, 0.05383584275841713, 0.8600603938102722, 0.15297651290893555, 0.004759269300848246, 0.8423056602478027, 0.8403189778327942, 0.061986491084098816, 0.09777785837650299, 0.7242327332496643, 0.2522985339164734, 0.023658504709601402, 0.5534619688987732, 0.2724911570549011, 0.17407040297985077, 0.9990224838256836, 0.7377170920372009, 0.024831552058458328, 0.23747135698795319, 0.9976598620414734, 0.9958115816116333, 0.0022377788554877043, 0.0011188894277438521, 0.9986172318458557], \"Term\": [\"1\", \"1\", \"1\", \"10\", \"10\", \"10\", \"15\", \"15\", \"15\", \"2\", \"2\", \"2\", \"20\", \"20\", \"20\", \"3\", \"3\", \"3\", \"350k\", \"4\", \"4\", \"4\", \"5\", \"5\", \"5\", \"6\", \"6\", \"6\", \"7\", \"7\", \"access\", \"access\", \"access\", \"air\", \"air\", \"air\", \"airport\", \"also\", \"also\", \"also\", \"amazing\", \"amazing\", \"amazing\", \"apartment\", \"apartment\", \"apartment\", \"area\", \"area\", \"area\", \"around\", \"around\", \"around\", \"arrival\", \"arrival\", \"arrival\", \"art\", \"art\", \"art\", \"artist\", \"artistic\", \"available\", \"available\", \"available\", \"ave\", \"ave\", \"ave\", \"away\", \"away\", \"away\", \"bank\", \"bath\", \"bath\", \"bath\", \"bathroom\", \"bathroom\", \"bathroom\", \"beach\", \"beautiful\", \"beautiful\", \"beautiful\", \"bed\", \"bed\", \"bed\", \"bedding\", \"bedroom\", \"bedroom\", \"bedroom\", \"best\", \"best\", \"bit\", \"block\", \"block\", \"block\", \"board\", \"botanical\", \"botanical\", \"brick\", \"brick\", \"brick\", \"building\", \"building\", \"building\", \"bus\", \"bustle\", \"cable\", \"cable\", \"cable\", \"center\", \"center\", \"center\", \"central\", \"central\", \"central\", \"chair\", \"charge\", \"charm\", \"circle\", \"circle\", \"city\", \"city\", \"city\", \"close\", \"close\", \"close\", \"closet\", \"closet\", \"closet\", \"comfortable\", \"comfortable\", \"comfortable\", \"complimentary\", \"con\", \"conditioner\", \"creative\", \"de\", \"deposit\", \"desk\", \"dining\", \"dining\", \"dining\", \"discover\", \"dishwasher\", \"dishwasher\", \"distance\", \"distance\", \"distance\", \"double\", \"double\", \"drawer\", \"dresser\", \"drive\", \"e\", \"e\", \"e\", \"east\", \"east\", \"east\", \"eclectic\", \"el\", \"energy\", \"enjoy\", \"enjoy\", \"enjoy\", \"enjoy!\", \"ever\", \"ever\", \"ever\", \"everything\", \"everything\", \"everything\", \"exciting\", \"experience\", \"experience\", \"explore\", \"explore\", \"exploring\", \"exploring\", \"exposed\", \"exposed\", \"express\", \"express\", \"fee\", \"fee\", \"feel\", \"feel\", \"feel\", \"feeling\", \"filled\", \"filled\", \"flat\", \"flat\", \"floor\", \"floor\", \"floor\", \"flushing\", \"foam\", \"full\", \"full\", \"full\", \"fully\", \"fully\", \"fully\", \"fun\", \"fun\", \"gas\", \"gas\", \"great\", \"great\", \"great\", \"grocery\", \"grocery\", \"grocery\", \"guest\", \"guest\", \"guest\", \"happy\", \"happy\", \"happy\", \"heart\", \"heart\", \"heart\", \"hip\", \"hip\", \"home\", \"home\", \"home\", \"hope\", \"hope\", \"hospital\", \"hospital\", \"inch\", \"iron\", \"journal\", \"king\", \"king\", \"king\", \"kitchen\", \"kitchen\", \"kitchen\", \"la\", \"large\", \"large\", \"large\", \"latest\", \"life\", \"life\", \"light\", \"light\", \"light\", \"like\", \"like\", \"like\", \"lived\", \"living\", \"living\", \"living\", \"looking\", \"looking\", \"looking\", \"love\", \"love\", \"love\", \"make\", \"make\", \"make\", \"maker\", \"mall\", \"master\", \"master\", \"mattress\", \"mattress\", \"memory\", \"microwave\", \"mile\", \"min\", \"min\", \"minute\", \"mirror\", \"modern\", \"modern\", \"modern\", \"museum\", \"museum\", \"n\", \"n\", \"nan\", \"need\", \"need\", \"need\", \"neighborhood\", \"neighborhood\", \"neighborhood\", \"new\", \"new\", \"new\", \"oasis\", \"occupancy\", \"offer\", \"offer\", \"offer\", \"old\", \"old\", \"one\", \"one\", \"one\", \"outpost\", \"oven\", \"park\", \"park\", \"park\", \"per\", \"per\", \"perfect\", \"perfect\", \"perfect\", \"personally\", \"pharmacy\", \"place\", \"place\", \"place\", \"plaza\", \"prior\", \"private\", \"private\", \"private\", \"q\", \"queen\", \"queen\", \"queen\", \"quiet\", \"quiet\", \"quiet\", \"r\", \"rating\", \"refrigerator\", \"relax\", \"relax\", \"relax\", \"ride\", \"ride\", \"ride\", \"room\", \"room\", \"room\", \"scene\", \"score\", \"screen\", \"shampoo\", \"shower\", \"shower\", \"size\", \"size\", \"sized\", \"sized\", \"soap\", \"sofa\", \"sofa\", \"soho\", \"soho\", \"space\", \"space\", \"space\", \"spend\", \"square\", \"square\", \"square\", \"st\", \"st\", \"st\", \"stadium\", \"stainless\", \"stainless\", \"start\", \"station\", \"station\", \"stay\", \"stay\", \"stay\", \"stoop\", \"stop\", \"stop\", \"stove\", \"street\", \"street\", \"street\", \"subway\", \"subway\", \"subway\", \"superior\", \"supermarket\", \"table\", \"table\", \"tax\", \"taxi\", \"terminal\", \"thoughtfully\", \"time\", \"time\", \"time\", \"toaster\", \"train\", \"train\", \"train\", \"truly\", \"twin\", \"two\", \"two\", \"two\", \"un\", \"unique\", \"unique\", \"unit\", \"unit\", \"unit\", \"village\", \"village\", \"vintage\", \"walk\", \"walk\", \"walk\", \"walking\", \"walking\", \"walking\", \"want\", \"want\", \"want\", \"welcome\", \"welcome\", \"welcome\", \"well\", \"well\", \"well\", \"whether\", \"york\", \"york\", \"york\", \"yorker\", \"you!\", \"you!\", \"you!\", \"zoo\"]}, \"R\": 30, \"lambda.step\": 0.01, \"plot.opts\": {\"xlab\": \"PC1\", \"ylab\": \"PC2\"}, \"topic.order\": [2, 3, 1]};\n",
       "\n",
       "function LDAvis_load_lib(url, callback){\n",
       "  var s = document.createElement('script');\n",
       "  s.src = url;\n",
       "  s.async = true;\n",
       "  s.onreadystatechange = s.onload = callback;\n",
       "  s.onerror = function(){console.warn(\"failed to load library \" + url);};\n",
       "  document.getElementsByTagName(\"head\")[0].appendChild(s);\n",
       "}\n",
       "\n",
       "if(typeof(LDAvis) !== \"undefined\"){\n",
       "   // already loaded: just create the visualization\n",
       "   !function(LDAvis){\n",
       "       new LDAvis(\"#\" + \"ldavis_el454101125836675285510176288\", ldavis_el454101125836675285510176288_data);\n",
       "   }(LDAvis);\n",
       "}else if(typeof define === \"function\" && define.amd){\n",
       "   // require.js is available: use it to load d3/LDAvis\n",
       "   require.config({paths: {d3: \"https://cdnjs.cloudflare.com/ajax/libs/d3/3.5.5/d3.min\"}});\n",
       "   require([\"d3\"], function(d3){\n",
       "      window.d3 = d3;\n",
       "      LDAvis_load_lib(\"https://cdn.rawgit.com/bmabey/pyLDAvis/files/ldavis.v1.0.0.js\", function(){\n",
       "        new LDAvis(\"#\" + \"ldavis_el454101125836675285510176288\", ldavis_el454101125836675285510176288_data);\n",
       "      });\n",
       "    });\n",
       "}else{\n",
       "    // require.js not available: dynamically load d3 & LDAvis\n",
       "    LDAvis_load_lib(\"https://cdnjs.cloudflare.com/ajax/libs/d3/3.5.5/d3.min.js\", function(){\n",
       "         LDAvis_load_lib(\"https://cdn.rawgit.com/bmabey/pyLDAvis/files/ldavis.v1.0.0.js\", function(){\n",
       "                 new LDAvis(\"#\" + \"ldavis_el454101125836675285510176288\", ldavis_el454101125836675285510176288_data);\n",
       "            })\n",
       "         });\n",
       "}\n",
       "</script>"
      ],
      "text/plain": [
       "PreparedData(topic_coordinates=              x         y  topics  cluster       Freq\n",
       "topic                                                \n",
       "1     -0.024249 -0.135189       1        1  36.552887\n",
       "2     -0.159509  0.081919       2        1  32.348907\n",
       "0      0.183758  0.053270       3        1  31.098213, topic_info=     Category          Freq          Term         Total  loglift  logprob\n",
       "121   Default  23165.000000         train  23165.000000  30.0000  30.0000\n",
       "12    Default  26792.000000           bed  26792.000000  29.0000  29.0000\n",
       "160   Default  28178.000000          walk  28178.000000  28.0000  28.0000\n",
       "145   Default  14017.000000        minute  14017.000000  27.0000  27.0000\n",
       "108   Default  21048.000000          park  21048.000000  26.0000  26.0000\n",
       "148   Default  12437.000000         queen  12437.000000  25.0000  25.0000\n",
       "152   Default  12421.000000          size  12421.000000  24.0000  24.0000\n",
       "149   Default  57271.000000          room  57271.000000  23.0000  23.0000\n",
       "236   Default  24842.000000          away  24842.000000  22.0000  22.0000\n",
       "568   Default  10717.000000           min  10717.000000  21.0000  21.0000\n",
       "62    Default  20134.000000        subway  20134.000000  20.0000  20.0000\n",
       "156   Default  11769.000000       station  11769.000000  19.0000  19.0000\n",
       "69    Default  29790.000000             2  29790.000000  18.0000  18.0000\n",
       "71    Default  15681.000000             5  15681.000000  17.0000  17.0000\n",
       "132   Default   7652.000000           bus   7652.000000  16.0000  16.0000\n",
       "143   Default  27445.000000        living  27445.000000  15.0000  15.0000\n",
       "346   Default  11766.000000       walking  11766.000000  14.0000  14.0000\n",
       "126   Default   9707.000000            10   9707.000000  13.0000  13.0000\n",
       "29    Default  19843.000000          full  19843.000000  12.0000  12.0000\n",
       "0     Default  20308.000000             1  20308.000000  11.0000  11.0000\n",
       "321   Default  15556.000000         close  15556.000000  10.0000  10.0000\n",
       "323   Default   9638.000000      distance   9638.000000   9.0000   9.0000\n",
       "75    Default  24406.000000      bathroom  24406.000000   8.0000   8.0000\n",
       "355   Default   6990.000000        closet   6990.000000   7.0000   7.0000\n",
       "36    Default  38523.000000       kitchen  38523.000000   6.0000   6.0000\n",
       "419   Default   7261.000000            15   7261.000000   5.0000   5.0000\n",
       "493   Default   5478.000000         table   5478.000000   4.0000   4.0000\n",
       "1285  Default   5056.000000       airport   5056.000000   3.0000   3.0000\n",
       "260   Default  17488.000000        street  17488.000000   2.0000   2.0000\n",
       "72    Default   8091.000000             7   8091.000000   1.0000   1.0000\n",
       "...       ...           ...           ...           ...      ...      ...\n",
       "721    Topic3   3299.465576        museum   3545.607422   1.0961  -5.7489\n",
       "903    Topic3   3290.298584       grocery   3561.762939   1.0887  -5.7517\n",
       "108    Topic3  17331.875000          park  21048.861328   0.9737  -4.0901\n",
       "62     Topic3  16609.339844        subway  20134.119141   0.9756  -4.1327\n",
       "341    Topic3   4247.321289          stop   4724.238281   1.0616  -5.4963\n",
       "323    Topic3   8232.052734      distance   9638.033203   1.0103  -4.8346\n",
       "346    Topic3   9910.596680       walking  11766.512695   0.9964  -4.6490\n",
       "71     Topic3  12670.915039             5  15681.894531   0.9548  -4.4033\n",
       "590    Topic3   3762.178223            st   4152.854492   1.0692  -5.6176\n",
       "236    Topic3  18701.333984          away  24842.845703   0.8840  -4.0140\n",
       "72     Topic3   6688.683105             7   8091.001465   0.9777  -5.0422\n",
       "381    Topic3   5480.569336            20   6497.901855   0.9977  -5.2414\n",
       "133    Topic3   9118.196289       central  12390.541016   0.8614  -4.7324\n",
       "321    Topic3  10975.845703         close  15556.973633   0.8192  -4.5469\n",
       "352    Topic3   8558.625977         block  11572.306641   0.8663  -4.7957\n",
       "164    Topic3   5495.484863             6   6853.775391   0.9471  -5.2387\n",
       "260    Topic3  11239.637695        street  17488.914062   0.7259  -4.5232\n",
       "69     Topic3  15628.406250             2  29790.906250   0.5229  -4.1935\n",
       "382    Topic3  10212.035156             3  16575.484375   0.6837  -4.6191\n",
       "154    Topic3   7796.629395        square  11695.015625   0.7625  -4.8889\n",
       "383    Topic3   7340.921875             4  11067.359375   0.7575  -4.9492\n",
       "0      Topic3  10723.946289             1  20308.597656   0.5295  -4.5702\n",
       "158    Topic3   8911.980469          time  15478.468750   0.6160  -4.7552\n",
       "239    Topic3   5564.433105        center   7736.366211   0.8385  -5.2262\n",
       "9      Topic3   9112.050781     available  20970.593750   0.3345  -4.7330\n",
       "366    Topic3   8993.756836  neighborhood  20750.511719   0.3320  -4.7461\n",
       "129    Topic3  13050.675781     apartment  65474.316406  -0.4448  -4.3738\n",
       "351    Topic3   6178.319824        around   9876.130859   0.6989  -5.1216\n",
       "131    Topic3   6602.419922      building  20688.378906   0.0259  -5.0552\n",
       "149    Topic3   7350.394531          room  57271.511719  -0.8850  -4.9479\n",
       "\n",
       "[264 rows x 6 columns], token_table=       Topic      Freq     Term\n",
       "term                           \n",
       "0          1  0.021075        1\n",
       "0          2  0.450893        1\n",
       "0          3  0.528052        1\n",
       "126        1  0.011331       10\n",
       "126        2  0.069736       10\n",
       "126        3  0.918933       10\n",
       "419        1  0.053706       15\n",
       "419        2  0.025476       15\n",
       "419        3  0.920843       15\n",
       "69         1  0.037058        2\n",
       "69         2  0.438355        2\n",
       "69         3  0.524590        2\n",
       "381        1  0.077410       20\n",
       "381        2  0.079102       20\n",
       "381        3  0.843503       20\n",
       "382        1  0.071974        3\n",
       "382        2  0.311906        3\n",
       "382        3  0.616091        3\n",
       "16655      3  0.998844     350k\n",
       "383        1  0.010301        4\n",
       "383        2  0.326455        4\n",
       "383        3  0.663302        4\n",
       "71         1  0.014156        5\n",
       "71         2  0.177848        5\n",
       "71         3  0.808002        5\n",
       "164        1  0.000438        6\n",
       "164        2  0.197847        6\n",
       "164        3  0.801748        6\n",
       "72         2  0.173279        7\n",
       "72         3  0.826721        7\n",
       "...      ...       ...      ...\n",
       "1130       1  0.236630     unit\n",
       "1130       2  0.740609     unit\n",
       "1130       3  0.022584     unit\n",
       "345        1  0.995071  village\n",
       "345        3  0.004994  village\n",
       "465        1  0.998628  vintage\n",
       "160        1  0.086095     walk\n",
       "160        2  0.053836     walk\n",
       "160        3  0.860060     walk\n",
       "346        1  0.152977  walking\n",
       "346        2  0.004759  walking\n",
       "346        3  0.842306  walking\n",
       "307        1  0.840319     want\n",
       "307        2  0.061986     want\n",
       "307        3  0.097778     want\n",
       "309        1  0.724233  welcome\n",
       "309        2  0.252299  welcome\n",
       "309        3  0.023659  welcome\n",
       "263        1  0.553462     well\n",
       "263        2  0.272491     well\n",
       "263        3  0.174070     well\n",
       "2121       1  0.999022  whether\n",
       "162        1  0.737717     york\n",
       "162        2  0.024832     york\n",
       "162        3  0.237471     york\n",
       "348        1  0.997660   yorker\n",
       "418        1  0.995812     you!\n",
       "418        2  0.002238     you!\n",
       "418        3  0.001119     you!\n",
       "908        3  0.998617      zoo\n",
       "\n",
       "[441 rows x 3 columns], R=30, lambda_step=0.01, plot_opts={'xlab': 'PC1', 'ylab': 'PC2'}, topic_order=[2, 3, 1])"
      ]
     },
     "execution_count": 40,
     "metadata": {},
     "output_type": "execute_result"
    }
   ],
   "source": [
    "p3"
   ]
  },
  {
   "cell_type": "code",
   "execution_count": 41,
   "metadata": {
    "ExecuteTime": {
     "end_time": "2020-03-22T18:43:58.993429Z",
     "start_time": "2020-03-22T18:43:58.952573Z"
    }
   },
   "outputs": [
    {
     "data": {
      "text/html": [
       "\n",
       "<link rel=\"stylesheet\" type=\"text/css\" href=\"https://cdn.rawgit.com/bmabey/pyLDAvis/files/ldavis.v1.0.0.css\">\n",
       "\n",
       "\n",
       "<div id=\"ldavis_el454101123048912487861252783\"></div>\n",
       "<script type=\"text/javascript\">\n",
       "\n",
       "var ldavis_el454101123048912487861252783_data = {\"mdsDat\": {\"x\": [0.08845567666418215, -0.0976548354261008, 0.15555707668925625, 0.10492030362288476, -0.2512782215502225], \"y\": [0.03034505475820607, -0.06926755640670064, -0.17314042790039016, 0.19868557964123607, 0.01337734990764864], \"topics\": [1, 2, 3, 4, 5], \"cluster\": [1, 1, 1, 1, 1], \"Freq\": [32.49873352050781, 28.677412033081055, 15.397307395935059, 14.560166358947754, 8.866384506225586]}, \"tinfo\": {\"Category\": [\"Default\", \"Default\", \"Default\", \"Default\", \"Default\", \"Default\", \"Default\", \"Default\", \"Default\", \"Default\", \"Default\", \"Default\", \"Default\", \"Default\", \"Default\", \"Default\", \"Default\", \"Default\", \"Default\", \"Default\", \"Default\", \"Default\", \"Default\", \"Default\", \"Default\", \"Default\", \"Default\", \"Default\", \"Default\", \"Default\", \"Topic1\", \"Topic1\", \"Topic1\", \"Topic1\", \"Topic1\", \"Topic1\", \"Topic1\", \"Topic1\", \"Topic1\", \"Topic1\", \"Topic1\", \"Topic1\", \"Topic1\", \"Topic1\", \"Topic1\", \"Topic1\", \"Topic1\", \"Topic1\", \"Topic1\", \"Topic1\", \"Topic1\", \"Topic1\", \"Topic1\", \"Topic1\", \"Topic1\", \"Topic1\", \"Topic1\", \"Topic1\", \"Topic1\", \"Topic1\", \"Topic1\", \"Topic1\", \"Topic1\", \"Topic1\", \"Topic1\", \"Topic1\", \"Topic1\", \"Topic1\", \"Topic1\", \"Topic1\", \"Topic1\", \"Topic1\", \"Topic1\", \"Topic1\", \"Topic1\", \"Topic1\", \"Topic1\", \"Topic1\", \"Topic1\", \"Topic1\", \"Topic1\", \"Topic1\", \"Topic1\", \"Topic1\", \"Topic1\", \"Topic1\", \"Topic1\", \"Topic1\", \"Topic1\", \"Topic1\", \"Topic1\", \"Topic1\", \"Topic1\", \"Topic1\", \"Topic1\", \"Topic1\", \"Topic1\", \"Topic1\", \"Topic1\", \"Topic1\", \"Topic1\", \"Topic1\", \"Topic1\", \"Topic1\", \"Topic1\", \"Topic1\", \"Topic1\", \"Topic1\", \"Topic1\", \"Topic1\", \"Topic1\", \"Topic1\", \"Topic1\", \"Topic1\", \"Topic2\", \"Topic2\", \"Topic2\", \"Topic2\", \"Topic2\", \"Topic2\", \"Topic2\", \"Topic2\", \"Topic2\", \"Topic2\", \"Topic2\", \"Topic2\", \"Topic2\", \"Topic2\", \"Topic2\", \"Topic2\", \"Topic2\", \"Topic2\", \"Topic2\", \"Topic2\", \"Topic2\", \"Topic2\", \"Topic2\", \"Topic2\", \"Topic2\", \"Topic2\", \"Topic2\", \"Topic2\", \"Topic2\", \"Topic2\", \"Topic2\", \"Topic2\", \"Topic2\", \"Topic2\", \"Topic2\", \"Topic2\", \"Topic2\", \"Topic2\", \"Topic2\", \"Topic2\", \"Topic2\", \"Topic2\", \"Topic2\", \"Topic2\", \"Topic2\", \"Topic2\", \"Topic2\", \"Topic2\", \"Topic2\", \"Topic2\", \"Topic2\", \"Topic2\", \"Topic2\", \"Topic2\", \"Topic2\", \"Topic2\", \"Topic2\", \"Topic2\", \"Topic2\", \"Topic2\", \"Topic2\", \"Topic2\", \"Topic2\", \"Topic2\", \"Topic2\", \"Topic2\", \"Topic2\", \"Topic2\", \"Topic2\", \"Topic2\", \"Topic2\", \"Topic2\", \"Topic2\", \"Topic2\", \"Topic2\", \"Topic2\", \"Topic2\", \"Topic2\", \"Topic2\", \"Topic2\", \"Topic2\", \"Topic2\", \"Topic2\", \"Topic2\", \"Topic2\", \"Topic3\", \"Topic3\", \"Topic3\", \"Topic3\", \"Topic3\", \"Topic3\", \"Topic3\", \"Topic3\", \"Topic3\", \"Topic3\", \"Topic3\", \"Topic3\", \"Topic3\", \"Topic3\", \"Topic3\", \"Topic3\", \"Topic3\", \"Topic3\", \"Topic3\", \"Topic3\", \"Topic3\", \"Topic3\", \"Topic3\", \"Topic3\", \"Topic3\", \"Topic3\", \"Topic3\", \"Topic3\", \"Topic3\", \"Topic3\", \"Topic3\", \"Topic3\", \"Topic3\", \"Topic3\", \"Topic3\", \"Topic3\", \"Topic3\", \"Topic3\", \"Topic3\", \"Topic3\", \"Topic3\", \"Topic3\", \"Topic3\", \"Topic3\", \"Topic3\", \"Topic3\", \"Topic3\", \"Topic3\", \"Topic3\", \"Topic3\", \"Topic3\", \"Topic3\", \"Topic3\", \"Topic3\", \"Topic3\", \"Topic3\", \"Topic3\", \"Topic3\", \"Topic3\", \"Topic3\", \"Topic3\", \"Topic3\", \"Topic3\", \"Topic3\", \"Topic3\", \"Topic3\", \"Topic3\", \"Topic3\", \"Topic3\", \"Topic3\", \"Topic3\", \"Topic3\", \"Topic3\", \"Topic3\", \"Topic3\", \"Topic3\", \"Topic4\", \"Topic4\", \"Topic4\", \"Topic4\", \"Topic4\", \"Topic4\", \"Topic4\", \"Topic4\", \"Topic4\", \"Topic4\", \"Topic4\", \"Topic4\", \"Topic4\", \"Topic4\", \"Topic4\", \"Topic4\", \"Topic4\", \"Topic4\", \"Topic4\", \"Topic4\", \"Topic4\", \"Topic4\", \"Topic4\", \"Topic4\", \"Topic4\", \"Topic4\", \"Topic4\", \"Topic4\", \"Topic4\", \"Topic4\", \"Topic4\", \"Topic4\", \"Topic4\", \"Topic4\", \"Topic4\", \"Topic4\", \"Topic4\", \"Topic4\", \"Topic4\", \"Topic4\", \"Topic4\", \"Topic4\", \"Topic4\", \"Topic4\", \"Topic4\", \"Topic4\", \"Topic4\", \"Topic4\", \"Topic4\", \"Topic4\", \"Topic4\", \"Topic4\", \"Topic4\", \"Topic4\", \"Topic4\", \"Topic4\", \"Topic4\", \"Topic4\", \"Topic4\", \"Topic4\", \"Topic4\", \"Topic4\", \"Topic4\", \"Topic4\", \"Topic4\", \"Topic4\", \"Topic4\", \"Topic4\", \"Topic4\", \"Topic4\", \"Topic4\", \"Topic4\", \"Topic4\", \"Topic4\", \"Topic4\", \"Topic4\", \"Topic4\", \"Topic5\", \"Topic5\", \"Topic5\", \"Topic5\", \"Topic5\", \"Topic5\", \"Topic5\", \"Topic5\", \"Topic5\", \"Topic5\", \"Topic5\", \"Topic5\", \"Topic5\", \"Topic5\", \"Topic5\", \"Topic5\", \"Topic5\", \"Topic5\", \"Topic5\", \"Topic5\", \"Topic5\", \"Topic5\", \"Topic5\", \"Topic5\", \"Topic5\", \"Topic5\", \"Topic5\", \"Topic5\", \"Topic5\", \"Topic5\", \"Topic5\", \"Topic5\", \"Topic5\", \"Topic5\", \"Topic5\", \"Topic5\", \"Topic5\", \"Topic5\", \"Topic5\", \"Topic5\", \"Topic5\", \"Topic5\", \"Topic5\", \"Topic5\", \"Topic5\", \"Topic5\", \"Topic5\", \"Topic5\", \"Topic5\", \"Topic5\", \"Topic5\", \"Topic5\", \"Topic5\", \"Topic5\", \"Topic5\", \"Topic5\", \"Topic5\", \"Topic5\", \"Topic5\", \"Topic5\", \"Topic5\", \"Topic5\", \"Topic5\", \"Topic5\", \"Topic5\", \"Topic5\", \"Topic5\", \"Topic5\", \"Topic5\", \"Topic5\", \"Topic5\", \"Topic5\", \"Topic5\", \"Topic5\", \"Topic5\"], \"Freq\": [59047.0, 29621.0, 24725.0, 13485.0, 27392.0, 19243.0, 23269.0, 26549.0, 21488.0, 25184.0, 11690.0, 39210.0, 11186.0, 7088.0, 27970.0, 20384.0, 13306.0, 16157.0, 12482.0, 12520.0, 8783.0, 9841.0, 7388.0, 11854.0, 12623.0, 3995.0, 25091.0, 11779.0, 17511.0, 30755.0, 905.93212890625, 881.3499755859375, 678.0986938476562, 617.1602172851562, 567.214599609375, 497.3489990234375, 408.4632873535156, 382.27716064453125, 374.6334533691406, 370.7594909667969, 326.8355407714844, 320.9263916015625, 278.5421447753906, 276.2261047363281, 274.5980529785156, 267.5534362792969, 206.8850860595703, 208.9546661376953, 201.0109100341797, 195.5703887939453, 263.5950012207031, 191.79751586914062, 188.95654296875, 216.03839111328125, 176.50283813476562, 165.7250213623047, 159.11990356445312, 154.7113037109375, 154.1573944091797, 339.03076171875, 1386.5970458984375, 872.2935180664062, 1065.476318359375, 499.1690673828125, 8534.0341796875, 3864.218505859375, 1049.3165283203125, 7839.04638671875, 6219.40234375, 2055.15283203125, 1821.2271728515625, 44334.37890625, 1760.5462646484375, 1268.6390380859375, 3520.470703125, 1494.9971923828125, 1096.46240234375, 18139.015625, 19321.962890625, 19371.861328125, 2262.373291015625, 2672.048583984375, 1726.8026123046875, 5444.169921875, 2158.08984375, 16913.546875, 1551.3441162109375, 4276.4482421875, 23583.029296875, 4386.169921875, 9452.4404296875, 2893.834716796875, 8223.810546875, 7545.97509765625, 12284.10546875, 21205.044921875, 5835.25537109375, 13639.5458984375, 7846.427734375, 2766.510009765625, 9614.6015625, 10082.8505859375, 3256.248291015625, 10100.1953125, 6636.98291015625, 23658.0703125, 8665.1494140625, 8915.7744140625, 7304.56787109375, 8042.68994140625, 8531.3876953125, 8342.302734375, 8675.4052734375, 6692.75, 467.78289794921875, 412.38079833984375, 377.6598815917969, 363.663818359375, 288.1609802246094, 253.11105346679688, 312.88934326171875, 199.74615478515625, 191.6189727783203, 179.37322998046875, 175.98556518554688, 144.85169982910156, 144.19415283203125, 137.7921600341797, 128.78260803222656, 121.87874603271484, 108.9986801147461, 108.94493103027344, 106.12226104736328, 99.67510986328125, 100.78303527832031, 95.87651062011719, 98.56689453125, 94.79411315917969, 93.73999786376953, 97.60548400878906, 90.03839111328125, 102.99071502685547, 116.12490844726562, 85.11666107177734, 3606.576904296875, 2344.9755859375, 3835.119384765625, 365.12872314453125, 3323.623291015625, 3921.656982421875, 281.8570861816406, 20616.853515625, 2548.2919921875, 3042.7724609375, 496.2355651855469, 328.41754150390625, 4000.888671875, 8920.5498046875, 10757.634765625, 4576.4892578125, 3040.16943359375, 780.3411865234375, 650.824462890625, 19869.970703125, 16721.37109375, 22404.619140625, 3038.865478515625, 8811.15234375, 19823.443359375, 9650.083984375, 5565.57861328125, 3398.693603515625, 5858.52734375, 1857.5048828125, 1401.234375, 9867.7880859375, 5896.1669921875, 11822.865234375, 9007.828125, 10942.9853515625, 6715.88330078125, 6748.2998046875, 7472.79541015625, 7068.8837890625, 9591.958984375, 9805.7294921875, 24381.0625, 13922.5615234375, 10736.60546875, 10718.7060546875, 9198.763671875, 7813.32666015625, 7938.25927734375, 5551.794921875, 8743.9609375, 6897.4677734375, 7827.7158203125, 8373.8193359375, 6882.41357421875, 3529.59814453125, 1999.331787109375, 1828.7420654296875, 841.734619140625, 693.0400390625, 637.9566650390625, 481.6255798339844, 472.4412536621094, 452.8058776855469, 435.83013916015625, 439.2367858886719, 372.4156188964844, 357.69781494140625, 254.21937561035156, 284.0103454589844, 217.04725646972656, 207.66102600097656, 207.19715881347656, 201.49290466308594, 197.40594482421875, 194.86721801757812, 790.9672241210938, 182.39581298828125, 179.1494598388672, 179.23594665527344, 174.44012451171875, 174.301513671875, 174.301513671875, 177.80587768554688, 169.21788024902344, 1400.3563232421875, 1042.347412109375, 2496.90771484375, 2315.545654296875, 581.7173461914062, 1858.0926513671875, 687.7178344726562, 1487.33203125, 704.17236328125, 466.37152099609375, 594.1702270507812, 801.7884521484375, 2604.145263671875, 796.2349853515625, 2669.68798828125, 1587.838134765625, 1740.1004638671875, 2528.50341796875, 7230.1376953125, 2905.44970703125, 10144.7529296875, 1710.6708984375, 10580.3115234375, 7538.6103515625, 764.0639038085938, 4269.087890625, 2332.837158203125, 3123.51611328125, 3506.491943359375, 2041.4483642578125, 2501.562744140625, 6519.341796875, 3978.64990234375, 3328.7998046875, 3139.97119140625, 10035.310546875, 5132.02978515625, 3782.797607421875, 4581.935546875, 2594.76171875, 2846.148681640625, 2591.27001953125, 3104.161865234375, 2938.387451171875, 2667.751708984375, 2481.25830078125, 2413.101318359375, 1973.692138671875, 1793.84765625, 1721.5693359375, 1714.7314453125, 1480.087890625, 820.1056518554688, 753.6636962890625, 681.3201904296875, 621.208740234375, 606.1090698242188, 541.444091796875, 393.3647155761719, 344.2442321777344, 307.9771728515625, 309.0206298828125, 304.0357666015625, 290.7763671875, 244.7762908935547, 201.5726776123047, 189.37301635742188, 186.40745544433594, 172.86167907714844, 167.4365234375, 166.75669860839844, 145.26942443847656, 146.56077575683594, 140.60626220703125, 167.7736358642578, 121.30844116210938, 2568.948974609375, 2836.997314453125, 849.32763671875, 513.3882446289062, 1182.82958984375, 3559.45947265625, 1053.78662109375, 2357.714599609375, 563.5892333984375, 2508.48681640625, 611.0306396484375, 2012.4664306640625, 677.5791015625, 2680.267578125, 2329.825927734375, 6756.09326171875, 1741.05615234375, 5099.69091796875, 4027.81982421875, 1944.067138671875, 3525.155029296875, 9322.90625, 3289.039794921875, 2641.397705078125, 1662.35986328125, 3790.40966796875, 2035.1138916015625, 4621.63330078125, 2427.886474609375, 9069.3837890625, 6973.0615234375, 4289.490234375, 6135.0009765625, 7711.35107421875, 9224.2021484375, 9381.1103515625, 5093.71435546875, 5439.17041015625, 4680.60498046875, 5249.7041015625, 3714.719970703125, 3424.625244140625, 2941.25390625, 3065.899169921875, 3209.88134765625, 2975.491455078125, 2627.8544921875, 3994.4970703125, 2679.873779296875, 1285.5859375, 1230.959228515625, 1199.5538330078125, 952.4041137695312, 732.4254150390625, 541.0762329101562, 525.884521484375, 511.6002197265625, 507.21826171875, 505.3566589355469, 470.2555236816406, 341.50799560546875, 299.3903503417969, 277.8073425292969, 275.495849609375, 244.34727478027344, 237.79261779785156, 231.287841796875, 220.32481384277344, 213.16099548339844, 199.2655029296875, 198.19302368164062, 197.27554321289062, 193.239013671875, 190.556396484375, 184.55726623535156, 183.57456970214844, 184.4683380126953, 1280.7198486328125, 557.97314453125, 590.6549682617188, 2034.7000732421875, 2875.23974609375, 533.7669677734375, 297.2112731933594, 831.594970703125, 710.8540649414062, 583.606689453125, 434.7410583496094, 3708.467041015625, 750.6061401367188, 573.9874267578125, 2743.3369140625, 3618.768798828125, 5671.8271484375, 2121.572021484375, 3554.60498046875, 1144.576171875, 2532.673095703125, 2527.499755859375, 3543.571533203125, 1955.92138671875, 1593.2120361328125, 1507.9210205078125, 924.4856567382812, 2622.35693359375, 4748.1572265625, 1721.7294921875, 2615.5419921875, 3770.953125, 3088.951904296875, 2022.2789306640625, 2840.451416015625, 2374.373779296875, 1670.426025390625, 2907.69580078125, 2591.32568359375, 2526.604736328125, 2254.280517578125, 2355.828369140625, 2492.769287109375, 1927.9046630859375, 2060.010986328125], \"Term\": [\"room\", \"walk\", \"train\", \"minute\", \"bed\", \"home\", \"park\", \"away\", \"subway\", \"new\", \"station\", \"kitchen\", \"min\", \"bus\", \"living\", \"building\", \"central\", \"5\", \"queen\", \"size\", \"house\", \"10\", \"7\", \"york\", \"walking\", \"airport\", \"bathroom\", \"fully\", \"street\", \"2\", \"bunk\", \"clothes\", \"focus\", \"valued\", \"hallway\", \"fan\", \"wardrobe\", \"hanging\", \"paper\", \"budget\", \"smaller\", \"shelf\", \"1375\", \"zeus!\", \"curtain\", \"empty\", \"mindful\", \"stays!\", \"420\", \"regularly\", \"experienced\", \"portable\", \"chest\", \"possibility\", \"job\", \"blanket\", \"oil\", \"bookshelf\", \"travelers!\", \"rented\", \"conditioner\", \"wash\", \"drawer\", \"rack\", \"use\", \"share\", \"longer\", \"please\", \"closet\", \"keep\", \"ask\", \"room\", \"cook\", \"another\", \"common\", \"shampoo\", \"upstairs\", \"bathroom\", \"bed\", \"living\", \"note\", \"privacy\", \"twin\", \"people\", \"window\", \"private\", \"chair\", \"small\", \"kitchen\", \"work\", \"need\", \"may\", \"size\", \"clean\", \"full\", \"bedroom\", \"guest\", \"space\", \"queen\", \"anything\", \"two\", \"stay\", \"desk\", \"access\", \"comfortable\", \"apartment\", \"also\", \"floor\", \"large\", \"area\", \"available\", \"one\", \"2\", \"home\", \"trader\", \"joe\", \"125th\", \"authority\", \"radius\", \"bagel\", \"lorimer\", \"59th\", \"m15\", \"ace\", \"army\", \"96th\", \"image\", \"145th\", \"2min\", \"skating\", \"cemetery\", \"campus\", \"110th\", \"123\", \"everywhere!\", \"shake\", \"24hrs\", \"nyc!!!\", \"divine\", \"30mins\", \"103rd\", \"good!\", \"waste\", \"baseball\", \"q\", \"union\", \"museum\", \"graham\", \"prospect\", \"b\", \"morgan\", \"park\", \"n\", \"r\", \"atlantic\", \"botanic\", \"ave\", \"distance\", \"walking\", \"stop\", \"f\", \"metropolitan\", \"riverside\", \"train\", \"subway\", \"walk\", \"g\", \"min\", \"away\", \"block\", \"l\", \"avenue\", \"c\", \"bridge\", \"z\", \"central\", \"within\", \"close\", \"square\", \"5\", \"location\", \"10\", \"station\", \"east\", \"great\", \"street\", \"apartment\", \"2\", \"1\", \"neighborhood\", \"3\", \"minute\", \"time\", \"many\", \"one\", \"place\", \"available\", \"bedroom\", \"building\", \"nan\", \"tree\", \"lined\", \"charm\", \"outpost\", \"thoughtfully\", \"bustle\", \"stoop\", \"hustle\", \"retreat\", \"architecture\", \"character\", \"inspired\", \"inn\", \"parlor\", \"detail\", \"film\", \"cobble\", \"picturesque\", \"respite\", \"leasing\", \"oasis\", \"commitment\", \"hunt\", \"former\", \"backed\", \"simplify\", \"overdue\", \"tranquility\", \"rustic\", \"exposed\", \"original\", \"unique\", \"brownstone\", \"eclectic\", \"brick\", \"start\", \"classic\", \"whether\", \"personally\", \"discover\", \"artist\", \"historic\", \"vintage\", \"experience\", \"life\", \"community\", \"loft\", \"york\", \"art\", \"home\", \"filled\", \"new\", \"city\", \"authentic\", \"enjoy\", \"garden\", \"feel\", \"modern\", \"offer\", \"love\", \"space\", \"best\", \"like\", \"perfect\", \"apartment\", \"neighborhood\", \"beautiful\", \"one\", \"light\", \"heart\", \"day\", \"street\", \"stay\", \"great\", \"floor\", \"doorman\", \"wireless\", \"stainless\", \"tax\", \"steel\", \"premium\", \"staff\", \"granite\", \"lobby\", \"concierge\", \"875\", \"superior\", \"valet\", \"definition\", \"housekeeping\", \"4k\", \"cabinetry\", \"sauna\", \"sale\", \"playroom\", \"bespoke\", \"burner\", \"fitted\", \"glassware\", \"deluxe\", \"reception\", \"palette\", \"33rd\", \"more!!\", \"electricity\", \"screen\", \"flat\", \"inch\", \"facility\", \"marble\", \"luxury\", \"complimentary\", \"speed\", \"plush\", \"dishwasher\", \"balance\", \"include\", \"occupancy\", \"gym\", \"cable\", \"fully\", \"arrival\", \"high\", \"furnished\", \"state\", \"unit\", \"building\", \"sofa\", \"elevator\", \"oven\", \"modern\", \"smart\", \"queen\", \"washer\", \"kitchen\", \"bed\", \"size\", \"new\", \"bedroom\", \"room\", \"apartment\", \"full\", \"living\", \"1\", \"2\", \"large\", \"central\", \"dining\", \"square\", \"floor\", \"bathroom\", \"laundry\", \"airport\", \"drive\", \"mall\", \"la\", \"de\", \"beach\", \"flushing\", \"score\", \"rating\", \"journal\", \"350k\", \"el\", \"con\", \"para\", \"forest\", \"field\", \"rockaway\", \"pub\", \"driveway\", \"dead\", \"broad\", \"11pm\", \"trading\", \"casino\", \"rail\", \"rabbit\", \"spoon\", \"98\", \"flaunting\", \"9pm\", \"car\", \"combined\", \"featured\", \"island\", \"parking\", \"stadium\", \"pier\", \"company\", \"arrive\", \"average\", \"un\", \"bus\", \"en\", \"500\", \"check\", \"7\", \"minute\", \"hotel\", \"house\", \"number\", \"24\", \"phone\", \"station\", \"transportation\", \"hidden\", \"public\", \"self\", \"10\", \"walk\", \"30\", \"4\", \"train\", \"street\", \"15\", \"5\", \"min\", \"text\", \"2\", \"available\", \"subway\", \"time\", \"home\", \"away\", \"coffee\", \"private\"], \"Total\": [59047.0, 29621.0, 24725.0, 13485.0, 27392.0, 19243.0, 23269.0, 26549.0, 21488.0, 25184.0, 11690.0, 39210.0, 11186.0, 7088.0, 27970.0, 20384.0, 13306.0, 16157.0, 12482.0, 12520.0, 8783.0, 9841.0, 7388.0, 11854.0, 12623.0, 3995.0, 25091.0, 11779.0, 17511.0, 30755.0, 906.7459106445312, 882.1507568359375, 678.9159545898438, 617.9826049804688, 568.0159301757812, 498.1499328613281, 409.2696838378906, 383.0848388671875, 375.4378662109375, 371.5734558105469, 327.63580322265625, 321.72869873046875, 279.3498840332031, 277.03302001953125, 275.4019775390625, 268.3558654785156, 207.6901397705078, 209.7690887451172, 201.8131866455078, 196.38023376464844, 264.6912841796875, 192.60574340820312, 189.7560577392578, 217.0013885498047, 177.3053741455078, 166.53375244140625, 159.92498779296875, 155.5130157470703, 154.97064208984375, 340.8331604003906, 1403.4305419921875, 883.2698364257812, 1094.0958251953125, 509.7936096191406, 9397.0068359375, 4199.73779296875, 1123.0966796875, 9224.619140625, 7269.984375, 2287.9228515625, 2021.5673828125, 59047.45703125, 2003.2664794921875, 1416.1181640625, 4243.71142578125, 1691.4765625, 1214.3231201171875, 25091.54296875, 27392.216796875, 27970.755859375, 2693.71533203125, 3243.708984375, 2008.0838623046875, 7167.89306640625, 2569.55517578125, 25582.181640625, 1786.4410400390625, 5618.16845703125, 39210.79296875, 5826.76416015625, 14350.7470703125, 3661.35693359375, 12520.8173828125, 11379.29296875, 20261.755859375, 39067.234375, 8422.314453125, 23750.6484375, 12482.5947265625, 3505.279052734375, 16707.908203125, 18306.9609375, 4322.14697265625, 19674.3125, 11326.712890625, 67455.71875, 16848.20703125, 17652.65234375, 13509.328125, 18258.185546875, 21407.4375, 24309.595703125, 30755.6015625, 19243.76953125, 468.5824279785156, 413.1813659667969, 378.46844482421875, 364.46453857421875, 288.9625549316406, 253.92620849609375, 313.9200744628906, 200.54617309570312, 192.43006896972656, 180.1717071533203, 176.78297424316406, 145.64889526367188, 145.00389099121094, 138.58848571777344, 129.57974243164062, 122.6895751953125, 109.80411529541016, 109.75101470947266, 106.9378662109375, 100.4787826538086, 101.59610748291016, 96.67385864257812, 99.39567565917969, 95.59518432617188, 94.54386138916016, 98.46167755126953, 90.83847045898438, 103.91205596923828, 117.16742706298828, 85.96879577636719, 3663.9912109375, 2407.9921875, 4007.9892578125, 373.1946105957031, 3492.177001953125, 4194.888671875, 288.8643798828125, 23269.201171875, 2773.808837890625, 3371.605224609375, 520.995849609375, 340.7613525390625, 4488.42822265625, 10345.6826171875, 12623.57421875, 5183.24072265625, 3427.94140625, 835.5420532226562, 692.758544921875, 24725.36328125, 21488.12890625, 29621.44921875, 3545.164794921875, 11186.16796875, 26549.548828125, 12473.3603515625, 6921.46044921875, 4101.07373046875, 7412.115234375, 2151.947265625, 1590.645263671875, 13306.888671875, 7678.8720703125, 16586.12109375, 12375.5947265625, 16157.0927734375, 9741.7822265625, 9841.5009765625, 11690.27734375, 10871.0869140625, 16831.0390625, 17511.751953125, 67455.71875, 30755.6015625, 21104.765625, 21521.54296875, 17255.26953125, 13485.79296875, 15868.4150390625, 8128.73974609375, 24309.595703125, 13847.0361328125, 21407.4375, 39067.234375, 20384.720703125, 3530.41162109375, 2000.1717529296875, 1829.568359375, 842.564208984375, 693.868408203125, 638.8323364257812, 482.45257568359375, 473.2613525390625, 453.6317138671875, 436.65545654296875, 440.0687255859375, 373.2396545410156, 358.5272521972656, 255.05160522460938, 284.9429626464844, 217.87521362304688, 208.48590087890625, 208.02406311035156, 202.32180786132812, 198.22760009765625, 195.6979522705078, 794.4276733398438, 183.21713256835938, 179.9680938720703, 180.05833435058594, 175.25811767578125, 175.1195526123047, 175.1195526123047, 178.642578125, 170.04698181152344, 1418.7120361328125, 1063.7845458984375, 2606.211669921875, 2424.47265625, 592.69677734375, 1975.404541015625, 723.202880859375, 1621.08154296875, 746.6234130859375, 488.5439758300781, 630.4430541992188, 882.8158569335938, 3161.922607421875, 893.57470703125, 3425.447265625, 1988.1572265625, 2227.574462890625, 3473.336181640625, 11854.0703125, 4093.28564453125, 19243.76953125, 2367.13720703125, 25184.787109375, 17115.60546875, 879.8922119140625, 9503.119140625, 4201.876953125, 6983.43212890625, 8340.033203125, 3701.516357421875, 5276.25537109375, 23750.6484375, 10898.69140625, 8350.275390625, 8244.0673828125, 67455.71875, 21521.54296875, 12876.0673828125, 24309.595703125, 7749.8720703125, 10291.8203125, 8090.28125, 17511.751953125, 18306.9609375, 16831.0390625, 17652.65234375, 2413.942626953125, 1974.5269775390625, 1794.6802978515625, 1722.40234375, 1715.5655517578125, 1480.926025390625, 820.9686889648438, 754.493408203125, 682.1688232421875, 622.0386352539062, 606.9439086914062, 542.2854614257812, 394.198486328125, 345.0772705078125, 308.8079833984375, 309.8591613769531, 304.8670654296875, 291.6103210449219, 245.6441192626953, 202.4054718017578, 190.21278381347656, 187.24575805664062, 173.69602966308594, 168.26744079589844, 167.5882110595703, 146.1002197265625, 147.4109649658203, 141.443603515625, 168.80572509765625, 122.14564514160156, 2630.8798828125, 2970.66064453125, 900.0828247070312, 535.9529418945312, 1275.9781494140625, 4045.999267578125, 1160.228271484375, 2751.7685546875, 607.2717895507812, 2977.14794921875, 672.6104736328125, 2474.59619140625, 756.3597412109375, 3615.510986328125, 3209.98388671875, 11779.6513671875, 2395.541259765625, 8756.810546875, 6773.65478515625, 2760.138427734375, 5755.740234375, 20384.720703125, 5651.908203125, 4263.28076171875, 2431.9365234375, 8340.033203125, 3474.671142578125, 12482.5947265625, 4607.3408203125, 39210.79296875, 27392.216796875, 12520.8173828125, 25184.787109375, 39067.234375, 59047.45703125, 67455.71875, 20261.755859375, 27970.755859375, 21104.765625, 30755.6015625, 13509.328125, 13306.888671875, 8110.81494140625, 12375.5947265625, 17652.65234375, 25091.54296875, 6929.65283203125, 3995.36328125, 2680.739013671875, 1286.4569091796875, 1231.82666015625, 1200.4173583984375, 953.2695922851562, 733.2925415039062, 541.9386596679688, 526.7465209960938, 512.4611206054688, 508.0782165527344, 506.2217712402344, 471.1235046386719, 342.368408203125, 300.26611328125, 278.6769104003906, 276.3624267578125, 245.2243194580078, 238.66148376464844, 232.1597137451172, 221.19186401367188, 214.03775024414062, 200.12692260742188, 199.05661010742188, 198.14930725097656, 194.10446166992188, 191.4168701171875, 185.41787719726562, 184.43450927734375, 185.3422088623047, 1290.266357421875, 594.3650512695312, 634.5399780273438, 2540.66015625, 4156.001953125, 632.4237670898438, 320.58392333984375, 1087.741943359375, 909.181396484375, 717.6798095703125, 504.95965576171875, 7088.82763671875, 995.1525268554688, 713.001953125, 5061.41552734375, 7388.8798828125, 13485.79296875, 3990.44580078125, 8783.38671875, 1869.341552734375, 5989.85400390625, 6436.978515625, 11690.27734375, 4619.8134765625, 3519.9130859375, 3268.123046875, 1429.331787109375, 9841.5009765625, 29621.44921875, 4757.78662109375, 10915.6513671875, 24725.36328125, 17511.751953125, 7319.3603515625, 16157.0927734375, 11186.16796875, 5157.5849609375, 30755.6015625, 21407.4375, 21488.12890625, 15868.4150390625, 19243.76953125, 26549.548828125, 11844.9609375, 25582.181640625], \"loglift\": [30.0, 29.0, 28.0, 27.0, 26.0, 25.0, 24.0, 23.0, 22.0, 21.0, 20.0, 19.0, 18.0, 17.0, 16.0, 15.0, 14.0, 13.0, 12.0, 11.0, 10.0, 9.0, 8.0, 7.0, 6.0, 5.0, 4.0, 3.0, 2.0, 1.0, 1.1231000423431396, 1.1231000423431396, 1.1227999925613403, 1.1225999593734741, 1.1225999593734741, 1.1224000453948975, 1.121999979019165, 1.121899962425232, 1.1217999458312988, 1.1217999458312988, 1.121500015258789, 1.121500015258789, 1.1210999488830566, 1.1210999488830566, 1.121000051498413, 1.121000051498413, 1.1201000213623047, 1.1201000213623047, 1.1200000047683716, 1.1197999715805054, 1.1197999715805054, 1.1197999715805054, 1.1196999549865723, 1.1195000410079956, 1.1194000244140625, 1.1190999746322632, 1.118899941444397, 1.1188000440597534, 1.1187000274658203, 1.1187000274658203, 1.111899971961975, 1.1115000247955322, 1.097499966621399, 1.1029000282287598, 1.0276000499725342, 1.0406999588012695, 1.055999994277954, 0.9611999988555908, 0.9678999781608582, 1.016700029373169, 1.0196000337600708, 0.8374000191688538, 0.9947999715805054, 1.0140000581741333, 0.9370999932289124, 1.000499963760376, 1.0219000577926636, 0.7994999885559082, 0.7749999761581421, 0.756600022315979, 0.9495000243186951, 0.9301000237464905, 0.9731000065803528, 0.8489000201225281, 0.9495000243186951, 0.7102000117301941, 0.9829000234603882, 0.8511000275611877, 0.6154999732971191, 0.8399999737739563, 0.7063999772071838, 0.888700008392334, 0.7035999894142151, 0.7131999731063843, 0.6234999895095825, 0.5128999948501587, 0.7570000290870667, 0.5692999958992004, 0.6596999764442444, 0.8873000144958496, 0.571399986743927, 0.5274999737739563, 0.8407999873161316, 0.45719999074935913, 0.5895000100135803, 0.07620000094175339, 0.45899999141693115, 0.4408999979496002, 0.5091000199317932, 0.30410000681877136, 0.20399999618530273, 0.0544000007212162, -0.14159999787807465, 0.06780000030994415, 1.2474000453948975, 1.2470999956130981, 1.246899962425232, 1.246899962425232, 1.2462999820709229, 1.2458000183105469, 1.2458000183105469, 1.2451000213623047, 1.2447999715805054, 1.2446000576019287, 1.2445000410079956, 1.2436000108718872, 1.243499994277954, 1.243299961090088, 1.242900013923645, 1.242400050163269, 1.2417000532150269, 1.2417000532150269, 1.2414000034332275, 1.2410000562667847, 1.2410000562667847, 1.2408000230789185, 1.2407000064849854, 1.2405999898910522, 1.2404999732971191, 1.2403000593185425, 1.2402000427246094, 1.2402000427246094, 1.2401000261306763, 1.2390999794006348, 1.233299970626831, 1.222499966621399, 1.2050000429153442, 1.2272000312805176, 1.1995999813079834, 1.1816999912261963, 1.2244999408721924, 1.128000020980835, 1.1642999649047852, 1.146399974822998, 1.2003999948501587, 1.2122000455856323, 1.1340999603271484, 1.1008000373840332, 1.0891000032424927, 1.1246000528335571, 1.128999948501587, 1.1806999444961548, 1.1865999698638916, 1.030400037765503, 0.998199999332428, 0.9697999954223633, 1.0950000286102295, 1.0104000568389893, 0.9569000005722046, 0.9923999905586243, 1.031000018119812, 1.0612000226974487, 1.013800024986267, 1.1018999814987183, 1.1223000288009644, 0.9501000046730042, 0.9848999977111816, 0.9104999899864197, 0.9314000010490417, 0.8593999743461609, 0.8770999908447266, 0.8716999888420105, 0.8015999794006348, 0.8187000155448914, 0.6868000030517578, 0.6692000031471252, 0.2313999980688095, 0.45649999380111694, 0.573199987411499, 0.5519999861717224, 0.6200000047683716, 0.7032999992370605, 0.5564000010490417, 0.8677999973297119, 0.22660000622272491, 0.5521000027656555, 0.24300000071525574, -0.29109999537467957, 0.1632000058889389, 1.8707000017166138, 1.8705999851226807, 1.8704999685287476, 1.8700000047683716, 1.8697999715805054, 1.8696000576019287, 1.8693000078201294, 1.8691999912261963, 1.8691999912261963, 1.8690999746322632, 1.8690999746322632, 1.8688000440597534, 1.8687000274658203, 1.8676999807357788, 1.8676999807357788, 1.8672000169754028, 1.8669999837875366, 1.8669999837875366, 1.8668999671936035, 1.8667999505996704, 1.8667000532150269, 1.8666000366210938, 1.8665000200271606, 1.8664000034332275, 1.8664000034332275, 1.8662999868392944, 1.8662999868392944, 1.8662999868392944, 1.8662999868392944, 1.8660999536514282, 1.8580000400543213, 1.850600004196167, 1.8280999660491943, 1.8250000476837158, 1.8523000478744507, 1.8098000288009644, 1.8207000494003296, 1.7848999500274658, 1.812399983406067, 1.8244999647140503, 1.8116999864578247, 1.7747000455856323, 1.676900029182434, 1.7555999755859375, 1.6217000484466553, 1.6461000442504883, 1.6239999532699585, 1.5535000562667847, 1.3766000270843506, 1.5282000303268433, 1.2307000160217285, 1.5462000370025635, 1.0037000179290771, 1.0509999990463257, 1.7297999858856201, 1.0707999467849731, 1.2825000286102295, 1.0664000511169434, 1.0045000314712524, 1.2759000062942505, 1.1246999502182007, 0.5781000256538391, 0.8633000254631042, 0.9513000249862671, 0.9057000279426575, -0.03440000116825104, 0.4374000132083893, 0.6460999846458435, 0.2021999955177307, 0.7767999768257141, 0.5856000185012817, 0.7325000166893005, 0.14079999923706055, 0.041600000113248825, 0.028999999165534973, -0.09109999984502792, 1.9264999628067017, 1.9264999628067017, 1.9263999462127686, 1.9263999462127686, 1.9263999462127686, 1.926300048828125, 1.9257999658584595, 1.9257999658584595, 1.9256000518798828, 1.9255000352859497, 1.9255000352859497, 1.9253000020980835, 1.9248000383377075, 1.9244999885559082, 1.9242000579833984, 1.9242000579833984, 1.9242000579833984, 1.9240000247955322, 1.92330002784729, 1.9227999448776245, 1.9225000143051147, 1.9223999977111816, 1.9220999479293823, 1.9219000339508057, 1.9219000339508057, 1.9212000370025635, 1.9211000204086304, 1.9208999872207642, 1.920699954032898, 1.9199999570846558, 1.9031000137329102, 1.8808000087738037, 1.8688000440597534, 1.8839000463485718, 1.851099967956543, 1.798799991607666, 1.8307000398635864, 1.7723000049591064, 1.8522000312805176, 1.7555999755859375, 1.830899953842163, 1.7201999425888062, 1.8169000148773193, 1.6275999546051025, 1.6064000129699707, 1.371000051498413, 1.607800006866455, 1.386199951171875, 1.407099962234497, 1.5764000415802002, 1.4365999698638916, 1.1446000337600708, 1.3854999542236328, 1.448099970817566, 1.5463999509811401, 1.1382999420166016, 1.3918999433517456, 0.9333000183105469, 1.2862999439239502, 0.462799996137619, 0.5587000250816345, 0.8557000160217285, 0.5146999955177307, 0.3043000102043152, 0.07039999961853027, -0.045899998396635056, 0.5461999773979187, 0.28929999470710754, 0.42080000042915344, 0.1589999943971634, 0.6358000040054321, 0.569599986076355, 0.9125000238418579, 0.531499981880188, 0.22220000624656677, -0.20520000159740448, 0.9571999907493591, 2.4226999282836914, 2.422600030899048, 2.4221999645233154, 2.4221999645233154, 2.4221999645233154, 2.421999931335449, 2.4217000007629395, 2.421299934387207, 2.421299934387207, 2.4212000370025635, 2.4212000370025635, 2.4212000370025635, 2.421099901199341, 2.4203999042510986, 2.4200000762939453, 2.419800043106079, 2.419800043106079, 2.419300079345703, 2.419300079345703, 2.419100046157837, 2.4189999103546143, 2.418800115585327, 2.418600082397461, 2.418600082397461, 2.4184999465942383, 2.4184000492095947, 2.4184000492095947, 2.418299913406372, 2.4182000160217285, 2.4182000160217285, 2.4154999256134033, 2.3596999645233154, 2.3512001037597656, 2.2007999420166016, 2.054500102996826, 2.2532999515533447, 2.3471999168395996, 2.154400110244751, 2.176800012588501, 2.216099977493286, 2.273200035095215, 1.774999976158142, 2.140899896621704, 2.2060000896453857, 1.8104000091552734, 1.7091000080108643, 1.5568000078201294, 1.791200041770935, 1.5183000564575195, 1.9323999881744385, 1.5621000528335571, 1.4881000518798828, 1.2293000221252441, 1.5634000301361084, 1.6302000284194946, 1.649399995803833, 1.9872000217437744, 1.1003999710083008, 0.592199981212616, 1.4063999652862549, 0.9941999912261963, 0.5424000024795532, 0.6879000067710876, 1.1366000175476074, 0.684499979019165, 0.8730000257492065, 1.2955000400543213, 0.06419999897480011, 0.31130000948905945, 0.2822999954223633, 0.4713999927043915, 0.32260000705718994, 0.05730000138282776, 0.6074000000953674, -0.09629999846220016], \"logprob\": [30.0, 29.0, 28.0, 27.0, 26.0, 25.0, 24.0, 23.0, 22.0, 21.0, 20.0, 19.0, 18.0, 17.0, 16.0, 15.0, 14.0, 13.0, 12.0, 11.0, 10.0, 9.0, 8.0, 7.0, 6.0, 5.0, 4.0, 3.0, 2.0, 1.0, -7.085400104522705, -7.1128997802734375, -7.375100135803223, -7.469200134277344, -7.553599834442139, -7.685100078582764, -7.881999969482422, -7.948200225830078, -7.968400001525879, -7.978799819946289, -8.104900360107422, -8.123200416564941, -8.264800071716309, -8.273200035095215, -8.27910041809082, -8.305100440979004, -8.562199592590332, -8.552300453186035, -8.590999603271484, -8.618499755859375, -8.319999694824219, -8.637900352478027, -8.652899742126465, -8.518899917602539, -8.720999717712402, -8.784000396728516, -8.824700355529785, -8.852800369262695, -8.856399536132812, -8.068300247192383, -6.659800052642822, -7.123199939727783, -6.9232001304626465, -7.681399822235107, -4.842599868774414, -5.634900093078613, -6.938499927520752, -4.927499771118164, -5.158899784088135, -6.266300201416016, -6.3871002197265625, -3.1949000358581543, -6.421000003814697, -6.748700141906738, -5.728000164031982, -6.584499835968018, -6.894499778747559, -4.088600158691406, -4.025400161743164, -4.022799968719482, -6.170199871063232, -6.003799915313721, -6.440299987792969, -5.292099952697754, -6.217400074005127, -4.1585001945495605, -6.547500133514404, -5.5335001945495605, -3.8261001110076904, -5.508200168609619, -4.740300178527832, -5.923999786376953, -4.8796000480651855, -4.96560001373291, -4.478300094604492, -3.9323999881744385, -5.222700119018555, -4.373600006103516, -4.926599979400635, -5.968999862670898, -4.723299980163574, -4.67579984664917, -5.806000232696533, -4.674099922180176, -5.093999862670898, -3.8229000568389893, -4.827300071716309, -4.798799991607666, -4.9980998039245605, -4.901899814605713, -4.842899799346924, -4.865300178527832, -4.826099872589111, -5.085599899291992, -7.621300220489502, -7.747300148010254, -7.835299968719482, -7.8730998039245605, -8.105799674987793, -8.23550033569336, -8.02340030670166, -8.472200393676758, -8.513799667358398, -8.57979965209961, -8.598899841308594, -8.793600082397461, -8.798100471496582, -8.843500137329102, -8.911199569702148, -8.966300010681152, -9.077899932861328, -9.078399658203125, -9.104700088500977, -9.167400360107422, -9.156299591064453, -9.206199645996094, -9.178500175476074, -9.217599868774414, -9.228799819946289, -9.188300132751465, -9.269000053405762, -9.134599685668945, -9.014599800109863, -9.325300216674805, -5.578800201416016, -6.009300231933594, -5.517300128936768, -7.86899995803833, -5.6605000495910645, -5.494999885559082, -8.127900123596191, -3.835400104522705, -5.92609977722168, -5.748799800872803, -7.56220006942749, -7.974999904632568, -5.474999904632568, -4.6732001304626465, -4.485899925231934, -5.34060001373291, -5.749599933624268, -7.109600067138672, -7.290999889373779, -3.872299909591675, -4.0447998046875, -3.7523000240325928, -5.75, -4.685500144958496, -3.8747000694274902, -4.594600200653076, -5.144899845123291, -5.6381001472473145, -5.093599796295166, -6.242300033569336, -6.524199962615967, -4.572299957275391, -5.087200164794922, -4.391499996185303, -4.663400173187256, -4.468800067901611, -4.957099914550781, -4.952199935913086, -4.850299835205078, -4.905799865722656, -4.600599765777588, -4.57859992980957, -3.6677000522613525, -4.228000164031982, -4.4878997802734375, -4.489500045776367, -4.642499923706055, -4.805699825286865, -4.78980016708374, -5.14739990234375, -4.69320011138916, -4.9303998947143555, -4.803899765014648, -4.736400127410889, -4.932600021362305, -4.978400230407715, -5.546800136566162, -5.636000156402588, -6.411900043487549, -6.606299877166748, -6.6890997886657715, -6.970200061798096, -6.989500045776367, -7.031899929046631, -7.070099830627441, -7.062300205230713, -7.227399826049805, -7.2677001953125, -7.6092000007629395, -7.4984002113342285, -7.767199993133545, -7.811500072479248, -7.813700199127197, -7.841599941253662, -7.862100124359131, -7.875, -6.474100112915039, -7.941199779510498, -7.959099769592285, -7.958700180053711, -7.985799789428711, -7.986599922180176, -7.986599922180176, -7.966700077056885, -8.016200065612793, -5.902900218963623, -6.1981000900268555, -5.3246002197265625, -5.400000095367432, -6.781400203704834, -5.620100021362305, -6.613999843597412, -5.842599868774414, -6.5903000831604, -7.002399921417236, -6.760200023651123, -6.4604997634887695, -5.28249979019165, -6.46750020980835, -5.257599830627441, -5.777200222015381, -5.685699939727783, -5.311999797821045, -4.26140022277832, -5.172999858856201, -3.9226999282836914, -5.702700138092041, -3.8805999755859375, -4.219600200653076, -6.508699893951416, -4.7881999015808105, -5.392499923706055, -5.100599765777588, -4.985000133514404, -5.525899887084961, -5.322700023651123, -4.364799976348877, -4.858699798583984, -5.0370001792907715, -5.095399856567383, -3.933500051498413, -4.604100227355957, -4.90910005569458, -4.71750020980835, -5.286099910736084, -5.193600177764893, -5.287499904632568, -5.106900215148926, -5.1616997718811035, -5.258399963378906, -5.3308000564575195, -5.302800178527832, -5.503799915313721, -5.599299907684326, -5.640500068664551, -5.644400119781494, -5.791600227355957, -6.381999969482422, -6.4664998054504395, -6.567399978637695, -6.659800052642822, -6.6844000816345215, -6.7972002029418945, -7.116700172424316, -7.250100135803223, -7.361400127410889, -7.358099937438965, -7.374300003051758, -7.418900012969971, -7.591100215911865, -7.785299777984619, -7.847700119018555, -7.863500118255615, -7.939000129699707, -7.970900058746338, -7.974899768829346, -8.112899780273438, -8.104000091552734, -8.145500183105469, -7.968800067901611, -8.293100357055664, -5.240200042724609, -5.140999794006348, -6.3470001220703125, -6.850399971008301, -6.0157999992370605, -4.914100170135498, -6.13129997253418, -5.326000213623047, -6.7571001052856445, -5.263999938964844, -6.676300048828125, -5.484300136566162, -6.57289981842041, -5.197800159454346, -5.337900161743164, -4.2733001708984375, -5.629199981689453, -4.554500102996826, -4.790500164031982, -5.518899917602539, -4.923799991607666, -3.951200008392334, -4.993100166320801, -5.212399959564209, -5.67549991607666, -4.851200103759766, -5.473199844360352, -4.6529998779296875, -5.2967000007629395, -3.978800058364868, -4.241700172424316, -4.727499961853027, -4.369699954986572, -4.140999794006348, -3.961899995803833, -3.944999933242798, -4.555699825286865, -4.490099906921387, -4.6402997970581055, -4.5254998207092285, -4.871399879455566, -4.952700138092041, -5.104899883270264, -5.063399791717529, -5.017499923706055, -5.093299865722656, -5.21750020980835, -4.302800178527832, -4.701900005340576, -5.436500072479248, -5.479899883270264, -5.50570011138916, -5.736400127410889, -5.999100208282471, -6.3018999099731445, -6.330399990081787, -6.357900142669678, -6.366499900817871, -6.370200157165527, -6.442200183868408, -6.7621002197265625, -6.893700122833252, -6.968500137329102, -6.976900100708008, -7.096799850463867, -7.124000072479248, -7.151800155639648, -7.200300216674805, -7.233399868011475, -7.30079984664917, -7.30620002746582, -7.310800075531006, -7.331500053405762, -7.3454999923706055, -7.377500057220459, -7.382800102233887, -7.377999782562256, -5.440299987792969, -6.271100044250488, -6.214200019836426, -4.97730016708374, -4.631499767303467, -6.315499782562256, -6.901000022888184, -5.872099876403809, -6.0289998054504395, -6.226200103759766, -6.520699977874756, -4.377099990844727, -5.974599838256836, -6.242800235748291, -4.678500175476074, -4.401599884033203, -3.952199935913086, -4.935500144958496, -4.419400215148926, -5.552599906921387, -4.758399963378906, -4.760499954223633, -4.422500133514404, -5.0167999267578125, -5.22189998626709, -5.2769999504089355, -5.766200065612793, -4.723599910736084, -4.129899978637695, -5.144400119781494, -4.726200103759766, -4.360400199890137, -4.559899806976318, -4.983500003814697, -4.643700122833252, -4.822999954223633, -5.174600124359131, -4.620299816131592, -4.735499858856201, -4.760799884796143, -4.874899864196777, -4.8308000564575195, -4.7743000984191895, -5.031199932098389, -4.965000152587891]}, \"token.table\": {\"Topic\": [1, 2, 4, 5, 1, 2, 3, 4, 5, 2, 2, 5, 2, 2, 1, 2, 1, 2, 3, 5, 1, 2, 4, 5, 2, 4, 5, 2, 2, 1, 2, 3, 4, 5, 1, 2, 3, 4, 5, 2, 4, 5, 1, 2, 3, 4, 5, 1, 4, 1, 2, 3, 4, 5, 4, 5, 2, 1, 2, 4, 5, 4, 2, 5, 5, 1, 2, 3, 4, 5, 2, 5, 1, 2, 3, 4, 5, 1, 2, 3, 4, 5, 1, 2, 3, 1, 2, 3, 4, 3, 1, 2, 3, 4, 5, 2, 1, 3, 4, 5, 1, 2, 3, 5, 1, 2, 3, 4, 1, 3, 1, 2, 3, 5, 2, 5, 1, 2, 3, 5, 2, 1, 2, 3, 4, 5, 1, 2, 4, 5, 2, 3, 4, 5, 3, 4, 5, 1, 2, 3, 4, 5, 1, 2, 3, 4, 3, 2, 3, 4, 2, 1, 2, 4, 5, 5, 1, 2, 3, 4, 5, 1, 2, 4, 5, 1, 2, 3, 4, 4, 1, 2, 3, 4, 5, 1, 1, 2, 3, 4, 5, 1, 2, 3, 1, 3, 4, 2, 3, 4, 5, 5, 1, 3, 1, 1, 2, 3, 4, 5, 1, 4, 2, 5, 3, 1, 2, 3, 4, 5, 4, 1, 2, 4, 5, 2, 2, 5, 5, 2, 2, 3, 4, 1, 4, 3, 3, 1, 2, 3, 4, 5, 1, 1, 2, 3, 4, 5, 3, 4, 1, 2, 3, 4, 5, 1, 2, 3, 4, 5, 1, 4, 1, 3, 1, 2, 3, 4, 5, 3, 4, 5, 1, 2, 3, 4, 5, 3, 1, 2, 3, 4, 5, 1, 3, 5, 3, 5, 1, 4, 5, 5, 4, 1, 4, 1, 2, 3, 4, 1, 1, 2, 3, 4, 5, 5, 5, 4, 4, 1, 4, 3, 1, 2, 3, 4, 5, 2, 3, 1, 4, 1, 2, 3, 4, 5, 2, 4, 1, 4, 5, 5, 1, 2, 3, 4, 5, 1, 3, 5, 4, 1, 2, 3, 4, 1, 4, 5, 1, 2, 3, 4, 5, 2, 1, 2, 3, 4, 1, 3, 4, 1, 2, 3, 4, 5, 4, 5, 1, 3, 5, 1, 2, 3, 5, 5, 1, 2, 3, 3, 4, 1, 3, 4, 5, 1, 2, 3, 4, 5, 5, 1, 5, 3, 1, 2, 3, 4, 5, 1, 2, 3, 4, 5, 1, 2, 3, 4, 5, 1, 2, 3, 1, 2, 3, 4, 5, 4, 2, 1, 2, 4, 1, 2, 3, 4, 1, 2, 3, 4, 5, 2, 4, 5, 1, 1, 1, 2, 3, 4, 1, 2, 3, 4, 5, 1, 2, 3, 4, 5, 1, 2, 3, 1, 2, 3, 4, 5, 3, 4, 5, 1, 3, 5, 4, 3, 3, 2, 4, 5, 1, 2, 3, 4, 5, 3, 3, 2, 3, 4, 5, 1, 2, 5, 1, 2, 3, 1, 2, 3, 4, 5, 1, 2, 3, 5, 5, 1, 2, 3, 4, 1, 2, 4, 5, 3, 1, 2, 3, 4, 1, 2, 3, 4, 1, 2, 3, 5, 3, 1, 2, 3, 4, 5, 4, 1, 2, 3, 4, 5, 1, 3, 4, 1, 2, 3, 4, 2, 1, 2, 3, 4, 3, 4, 2, 5, 1, 2, 3, 4, 5, 3, 4, 1, 2, 3, 5, 2, 4, 2, 5, 1, 2, 5, 1, 2, 3, 4, 5, 4, 1, 2, 2, 3, 4, 1, 2, 4, 5, 3, 1, 2, 3, 4, 5, 1, 2, 3, 4, 5, 1, 2, 3, 4, 5, 1, 2, 3, 4, 5, 1, 2, 3, 4, 5, 2, 3, 4, 4, 5, 1, 2, 3, 4, 5, 1, 1, 2, 3, 4, 5, 3, 4, 3, 1, 4, 3, 4, 1, 5, 1, 2, 3, 4, 5, 2, 4, 5, 3, 1, 2, 3, 5, 1, 2, 3, 4, 1, 3, 1, 2, 3, 4, 5, 3, 2, 3, 5, 1, 2, 3, 5, 4, 1, 2, 3, 4, 5, 1, 4, 1, 1, 4, 1, 2, 3, 5, 1, 2, 3, 4, 5, 2, 3, 5, 1, 2, 3, 4, 5, 2, 5, 1, 2, 4, 2, 5, 5, 1, 2, 2, 5, 5, 4, 1, 1, 5, 3, 3, 2, 3, 4, 5, 1, 2, 3, 4, 5, 3, 4, 4, 5, 1, 4, 1, 3, 4, 5, 2, 1, 4, 5, 1, 2, 3, 5, 1, 3, 1, 2, 4, 5, 2, 1, 2, 3, 5, 1, 1, 3, 4, 5, 1, 4, 5, 1, 2, 3, 4, 5, 1, 3, 4, 5, 5, 2, 3, 4, 5, 2, 5, 4, 4, 1, 3, 2, 3, 4, 2, 4, 5, 1, 2, 3, 4, 5, 1, 4, 3, 1, 2, 5, 1, 2, 3, 4, 5, 1, 2, 3, 4, 5, 4, 4, 1, 2, 3, 5, 3, 1, 2, 3, 4, 5, 2, 5, 1, 2, 5, 3, 1, 2, 3, 4, 5, 1, 3, 1, 4, 5, 1, 2, 3, 4, 5, 4, 5, 2, 3, 4, 1, 3, 4, 5, 1, 2, 3, 4, 5, 1, 3, 1, 2, 4, 5, 4, 1, 1, 3, 1, 2, 3, 4, 5, 1, 2, 3, 4, 5, 1, 1, 5, 1, 2, 3, 4, 2, 1, 3, 1, 2, 3, 4, 4, 1, 2, 3, 4, 5, 1, 2, 3, 4, 1, 2, 3, 4, 5, 1, 2, 3, 5, 1], \"Freq\": [0.2084837108850479, 0.5087476372718811, 0.22179824113845825, 0.06098148599267006, 0.03515723720192909, 0.6856677532196045, 0.0019305997993797064, 0.010770714841783047, 0.2664227783679962, 0.9907696843147278, 0.9912298321723938, 0.9951515793800354, 0.9952349662780762, 0.9987622499465942, 0.9987475275993347, 0.9957537055015564, 0.04453941062092781, 0.650193452835083, 0.02882765606045723, 0.2762536406517029, 0.28206244111061096, 0.4526980221271515, 0.17070060968399048, 0.09455188363790512, 0.2512582242488861, 0.3258844017982483, 0.42288175225257874, 0.996019184589386, 0.9955259561538696, 0.2431141436100006, 0.5331125259399414, 0.0034771987702697515, 0.11005333811044693, 0.11022719740867615, 0.30539411306381226, 0.22237230837345123, 0.010719270445406437, 0.09941597282886505, 0.36193299293518066, 0.9953110814094543, 0.9968637228012085, 0.997877836227417, 0.17360393702983856, 0.4359794855117798, 0.0003664463001769036, 0.15051782131195068, 0.23965588212013245, 0.995970606803894, 0.9972272515296936, 0.05025656521320343, 0.6772876977920532, 0.0002475692890584469, 0.09642823785543442, 0.1757742017507553, 0.19354785978794098, 0.8050468564033508, 0.9972765445709229, 0.0014887236757203937, 0.39870724081993103, 0.11003021150827408, 0.48979008197784424, 0.9984447956085205, 0.9955447912216187, 0.9977462887763977, 0.9927582144737244, 0.5133597254753113, 0.31909629702568054, 0.05875681713223457, 0.07568243891000748, 0.03308882936835289, 0.9934967160224915, 0.9996587634086609, 0.5142980217933655, 0.32549458742141724, 0.06956230103969574, 0.04730473831295967, 0.04326869919896126, 0.8961116671562195, 0.08262022584676743, 0.0007061557844281197, 0.014123114757239819, 0.007061557378619909, 0.7893807888031006, 0.20112521946430206, 0.009699655696749687, 0.35071897506713867, 0.3614371120929718, 0.1487642526626587, 0.13906900584697723, 0.9975714683532715, 0.4405147433280945, 0.26645582914352417, 0.08900117874145508, 0.13473409414291382, 0.06933876127004623, 0.995570957660675, 0.1127093955874443, 0.012940707616508007, 0.7267668843269348, 0.14735709130764008, 0.19028106331825256, 0.0010998905636370182, 0.026397371664643288, 0.7820221781730652, 0.009527798742055893, 0.16881303489208221, 0.7096987962722778, 0.11189055442810059, 0.09061912447214127, 0.9084567427635193, 0.9007862210273743, 0.07617851346731186, 0.0009893313981592655, 0.02225995622575283, 0.952022910118103, 0.04606562480330467, 0.03864109516143799, 0.051142629235982895, 0.8682881593704224, 0.043187107890844345, 0.998725414276123, 0.39850637316703796, 0.36566731333732605, 0.010510365478694439, 0.1042628288269043, 0.1210326999425888, 0.004678697790950537, 0.8914033770561218, 0.031191319227218628, 0.07263121753931046, 0.8288073539733887, 0.0009753543417900801, 0.16239649057388306, 0.0078028347343206406, 0.13097763061523438, 0.055735159665346146, 0.8137333393096924, 0.11058568209409714, 0.7466416954994202, 0.04877672344446182, 0.00011299626930849627, 0.09389989823102951, 0.018594056367874146, 0.9349473118782043, 0.02955978363752365, 0.016925359144806862, 0.9928213357925415, 0.9963524341583252, 0.09069142490625381, 0.9084009528160095, 0.9887308478355408, 0.7229129076004028, 0.08955208212137222, 0.11856584250926971, 0.06894753128290176, 0.9986681938171387, 0.22460274398326874, 0.38893863558769226, 0.29380089044570923, 0.0822456106543541, 0.01048456784337759, 0.7053828239440918, 0.03997485712170601, 0.2545613646507263, 7.301344157895073e-05, 0.542782187461853, 0.2143484205007553, 0.045485686510801315, 0.19737768173217773, 0.9936240911483765, 0.043491460382938385, 0.43656617403030396, 0.3650897145271301, 0.004037181846797466, 0.15075203776359558, 0.9967949390411377, 0.08121307939291, 0.7736487984657288, 0.07223394513130188, 0.010181698948144913, 0.06269361078739166, 0.9967011213302612, 0.9625504612922668, 0.035215262323617935, 0.006580930668860674, 0.9405668377876282, 0.05264744535088539, 0.8634040355682373, 0.08318047970533371, 0.04786362498998642, 0.005576344672590494, 0.9946116209030151, 0.044545769691467285, 0.9552592635154724, 0.9984566569328308, 0.10345984250307083, 0.3376058042049408, 0.0679430440068245, 0.45735234022140503, 0.03360360115766525, 0.9991773962974548, 0.9933469295501709, 0.476806640625, 0.523076593875885, 0.9990619421005249, 0.18334847688674927, 0.7904626131057739, 0.002968113636597991, 0.021991023793816566, 0.0013491425197571516, 0.9971559047698975, 0.1990664154291153, 0.02211849018931389, 0.7258603572845459, 0.052648238837718964, 0.9931570887565613, 0.006975303869694471, 0.9928182363510132, 0.9946919083595276, 0.9926767945289612, 0.741570770740509, 0.0010520867072045803, 0.2573854923248291, 0.8682066798210144, 0.13098669052124023, 0.9966786503791809, 0.9993303418159485, 0.4083837866783142, 0.005334476009011269, 0.04089764878153801, 0.0031611709855496883, 0.5419432520866394, 0.9960156083106995, 0.06456096470355988, 0.32058462500572205, 0.4404752254486084, 0.13648363947868347, 0.03797703981399536, 0.9172888398170471, 0.08204399049282074, 0.6631343364715576, 0.2715458571910858, 0.0004393946146592498, 8.787892147665843e-05, 0.0647667646408081, 0.14072006940841675, 0.7128248810768127, 0.04582144320011139, 0.015494883060455322, 0.08513141423463821, 0.8554351329803467, 0.14442947506904602, 0.9986954927444458, 0.9950771927833557, 0.34867146611213684, 0.3203049898147583, 0.027606675401329994, 0.14065052568912506, 0.1627696305513382, 0.023554548621177673, 0.03701429069042206, 0.9388169646263123, 0.5859599113464355, 0.11238918453454971, 0.16721533238887787, 0.13092942535877228, 0.003531474620103836, 0.9933568835258484, 0.8294626474380493, 0.0358177050948143, 0.09001554548740387, 0.03958798944950104, 0.00494849868118763, 0.008978375233709812, 0.7811186909675598, 0.20964506268501282, 0.23443059623241425, 0.764887273311615, 0.008618993684649467, 0.9084419012069702, 0.08274234086275101, 0.9976152777671814, 0.998330295085907, 0.9882925748825073, 0.011400635354220867, 0.8790642619132996, 0.028453528881072998, 0.08885487914085388, 0.003494292963296175, 0.9985404014587402, 0.5052976608276367, 0.07428666204214096, 0.32026079297065735, 0.0488240122795105, 0.051296114921569824, 0.9996523261070251, 0.9950046539306641, 0.9968781471252441, 0.9964901208877563, 0.753329336643219, 0.24640531837940216, 0.9959829449653625, 0.47726401686668396, 0.00924691278487444, 0.07804394513368607, 0.3626022934913635, 0.07274238020181656, 0.05710269883275032, 0.9421945214271545, 0.15719743072986603, 0.8424170017242432, 0.0007732693920843303, 0.8622920513153076, 0.0020298322197049856, 0.030544141307473183, 0.10439137369394302, 0.9942474961280823, 0.9996095299720764, 0.9734064936637878, 0.025591908022761345, 0.9997243285179138, 0.9972283840179443, 0.0024836522061377764, 0.6502569913864136, 0.14809927344322205, 0.198692187666893, 0.0003679484943859279, 0.01687203347682953, 0.9819523692131042, 0.9975864887237549, 0.9906206727027893, 0.04738134890794754, 0.33284226059913635, 0.0002345611428609118, 0.6194759607315063, 0.9986739158630371, 0.24518854916095734, 0.7546581625938416, 0.3708256185054779, 0.09228549152612686, 0.4492209255695343, 0.08218353986740112, 0.005366658791899681, 0.9941325783729553, 0.15735171735286713, 0.0353238545358181, 0.7794602513313293, 0.028025537729263306, 0.9973883628845215, 0.986810564994812, 0.0126875638961792, 0.0023337621241807938, 0.8868296146392822, 0.007293006870895624, 0.013710852712392807, 0.08984984457492828, 0.9571735858917236, 0.041048381477594376, 0.9976915717124939, 0.06776563078165054, 0.9313833713531494, 0.4827139377593994, 0.06816132366657257, 0.44734451174736023, 0.0018615488661453128, 0.9975709915161133, 0.1102597713470459, 0.16686822474002838, 0.7228140234947205, 0.9976693987846375, 0.9959928393363953, 0.03399917110800743, 0.01077201496809721, 0.9550064206123352, 0.9976441264152527, 0.5050799250602722, 0.1531781107187271, 0.14054545760154724, 0.1818423569202423, 0.019373858347535133, 0.9982373714447021, 0.998650848865509, 0.9957833886146545, 0.9941222667694092, 0.6062653064727783, 0.1246190145611763, 0.01766875572502613, 0.2514095902442932, 4.93540646857582e-05, 0.251620352268219, 0.0348057821393013, 0.07682739943265915, 0.5735313892364502, 0.0631597638130188, 0.2438860684633255, 0.10393207520246506, 0.05683785304427147, 0.5946568250656128, 0.0005905231810174882, 0.1133938804268837, 0.8572239279747009, 0.029335731640458107, 0.08567599952220917, 0.19586485624313354, 0.555228054523468, 0.11899444460868835, 0.04426593333482742, 0.9924677014350891, 0.9912227988243103, 0.018756968900561333, 0.9780420064926147, 0.9993460178375244, 0.26468953490257263, 0.5698994398117065, 0.15851666033267975, 0.006892028264701366, 0.6928024291992188, 0.007005200255662203, 0.00035619662958197296, 0.0866745114326477, 0.21300558745861053, 0.19803562760353088, 0.7412506937980652, 0.06057235226035118, 0.9982114434242249, 0.9971681237220764, 0.05159437283873558, 0.5044782757759094, 0.27653029561042786, 0.16731734573841095, 0.145174041390419, 0.2556881308555603, 0.0670471116900444, 0.07926332205533981, 0.452567994594574, 0.05390090495347977, 0.08918772637844086, 0.25306016206741333, 0.582403838634491, 0.021469004452228546, 0.006009002216160297, 0.17046590149402618, 0.8235495686531067, 0.3478008806705475, 0.0017148407641798258, 0.5271835923194885, 0.000935367657802999, 0.12242923676967621, 0.1734142154455185, 0.2947039008140564, 0.5317701697349548, 0.36364105343818665, 0.23157355189323425, 0.4047413766384125, 0.9973835349082947, 0.9946207404136658, 0.9986074566841125, 0.9930768013000488, 0.9432465434074402, 0.05555044487118721, 0.002424638019874692, 0.04364348575472832, 0.12648528814315796, 0.8130619525909424, 0.014143722131848335, 0.9958769083023071, 0.9985293745994568, 0.04880621284246445, 0.09407003968954086, 0.0562845841050148, 0.8009729385375977, 0.9982776641845703, 0.9971408247947693, 0.9991002082824707, 0.8981946110725403, 0.009615709073841572, 0.09178631007671356, 0.6014415621757507, 0.1235119104385376, 0.011348916217684746, 0.2312883585691452, 0.03241454437375069, 0.1704842448234558, 0.8041655421257019, 0.024994725361466408, 0.0002889563620556146, 0.9993289113044739, 0.5407374501228333, 0.1297621876001358, 0.05448087304830551, 0.27499517798423767, 0.17187008261680603, 0.2903464436531067, 0.3792397677898407, 0.15844950079917908, 0.9964334964752197, 0.03420252725481987, 0.16447392106056213, 0.7987295985221863, 0.0025148915592581034, 0.3752320110797882, 0.22542308270931244, 0.3348442316055298, 0.06451719254255295, 0.45806872844696045, 0.13867805898189545, 0.3986694812774658, 0.004670504480600357, 0.9996893405914307, 0.69258052110672, 0.03800397738814354, 0.07493540644645691, 0.19445309042930603, 7.150325109250844e-05, 0.9982866048812866, 0.07031567394733429, 0.6894015669822693, 0.12379664927721024, 0.11004146933555603, 0.006466988939791918, 0.05527826398611069, 0.7281184196472168, 0.21650654077529907, 0.9340246915817261, 0.03739660233259201, 0.003561581252142787, 0.02493106760084629, 0.9970690608024597, 0.2570004463195801, 0.26875120401382446, 0.47419995069503784, 0.00018952834943775088, 0.1201186552643776, 0.8796343803405762, 0.997765064239502, 0.9996448159217834, 0.12941735982894897, 0.6830087304115295, 0.12695695459842682, 0.014393375255167484, 0.04625563323497772, 0.07288525998592377, 0.9271318912506104, 0.7904173135757446, 0.15677247941493988, 0.01420238520950079, 0.03823718801140785, 0.9335257411003113, 0.06582552939653397, 0.7876691818237305, 0.21222639083862305, 0.996677041053772, 0.5793504118919373, 0.42059075832366943, 0.04136674106121063, 0.08249367773532867, 0.420382022857666, 0.4544346332550049, 0.0011990360217168927, 0.9952269196510315, 0.02077099308371544, 0.9762366414070129, 0.9568389058113098, 0.04216578230261803, 0.0007485050009563565, 0.022351937368512154, 0.9185925126075745, 0.02595708705484867, 0.0328068733215332, 0.9998834133148193, 0.6586416959762573, 0.21232344210147858, 0.10605719685554504, 0.015121163800358772, 0.0077347890473902225, 0.2080705761909485, 0.49805909395217896, 0.23845873773097992, 0.0067839003168046474, 0.04864892736077309, 0.09620887041091919, 0.1684350222349167, 0.42009487748146057, 0.24359944462776184, 0.07167024910449982, 0.8397324085235596, 0.06830714643001556, 0.01893295906484127, 0.041207026690244675, 0.03192616626620293, 0.0888013243675232, 0.19793064892292023, 0.03691139444708824, 0.06365878134965897, 0.6125151515007019, 0.9937739372253418, 0.995685338973999, 0.003776303492486477, 0.8963988423347473, 0.10312552750110626, 0.17641419172286987, 0.14291439950466156, 0.5513956546783447, 0.1275153011083603, 0.0016209572786465287, 0.9942161440849304, 0.3431566655635834, 0.35969334840774536, 0.18848523497581482, 0.10226414352655411, 0.006376083008944988, 0.979521632194519, 0.019740840420126915, 0.9987484812736511, 0.3162088990211487, 0.6834059953689575, 0.9936069250106812, 0.9972121119499207, 0.9988337159156799, 0.9989239573478699, 4.297526174923405e-05, 0.8860209584236145, 0.037646327167749405, 0.07099512964487076, 0.00532893231138587, 0.2314724624156952, 0.07651584595441818, 0.691770613193512, 0.9966906905174255, 0.7594979405403137, 0.18806083500385284, 0.044504012912511826, 0.007812616415321827, 0.29051193594932556, 0.29778990149497986, 0.3808799386024475, 0.03093133307993412, 0.045031771063804626, 0.9538547396659851, 0.1399725079536438, 0.38403111696243286, 0.00885508581995964, 0.07441379874944687, 0.3925755023956299, 0.9934667944908142, 0.04678962007164955, 0.02495446428656578, 0.9264344573020935, 0.3491722047328949, 0.4980849325656891, 0.136924609541893, 0.01581565849483013, 0.9979967474937439, 0.8497911691665649, 0.039893247187137604, 0.0143095338717103, 0.000758838898036629, 0.09539689123630524, 0.07080849260091782, 0.9287439584732056, 0.9968550205230713, 0.9953853487968445, 0.9993746876716614, 0.8237483501434326, 0.0030828905291855335, 0.12824824452400208, 0.044701915234327316, 0.661163330078125, 0.0824011042714119, 0.08502011746168137, 0.09092266112565994, 0.08052479475736618, 0.9518417716026306, 0.04810752719640732, 0.995007336139679, 0.029374659061431885, 0.4721364378929138, 0.03427043557167053, 0.002753874287009239, 0.4614269435405731, 0.9844455718994141, 0.01555680576711893, 0.6285552382469177, 0.0011215617414563894, 0.3702755868434906, 0.90253746509552, 0.09728303551673889, 0.9943099617958069, 0.9788274765014648, 0.0196157805621624, 0.9966689348220825, 0.994199812412262, 0.9985827803611755, 0.9924694299697876, 0.9980638027191162, 0.9946215152740479, 0.0029339867178350687, 0.9938071370124817, 0.9984989166259766, 0.9397213459014893, 0.01299153920263052, 0.04619213938713074, 0.9950701594352722, 0.7508198022842407, 0.06403324007987976, 0.0006435501272790134, 0.15621332824230194, 0.028265399858355522, 0.9938429594039917, 0.9973778128623962, 0.9979070425033569, 0.9982679486274719, 0.023186158388853073, 0.9764794111251831, 0.1958957314491272, 0.11264004558324814, 0.04407653957605362, 0.6464559435844421, 0.9930295944213867, 0.883843183517456, 0.10996309667825699, 0.005911994259804487, 0.9200574159622192, 0.05619398504495621, 0.01023873407393694, 0.013572275638580322, 0.9977350234985352, 0.9936069250106812, 0.6568261384963989, 0.0005590689252130687, 0.34254953265190125, 7.986699347384274e-05, 0.9943795204162598, 0.7611021399497986, 0.1981072723865509, 0.02954699657857418, 0.011035624891519547, 0.9980593919754028, 0.27887532114982605, 0.10936287045478821, 0.5856669545173645, 0.025901731103658676, 0.39668017625808716, 0.5819273591041565, 0.021231766790151596, 0.5743001103401184, 0.04244094714522362, 0.27447670698165894, 0.045682962983846664, 0.06311406940221786, 0.12246669828891754, 0.009085066616535187, 0.8569034337997437, 0.011265482753515244, 0.9978221654891968, 0.7278842329978943, 0.0009696503984741867, 0.24774566292762756, 0.023433217778801918, 0.15495939552783966, 0.8443705439567566, 0.9988200664520264, 0.9996209144592285, 0.04839582368731499, 0.9513236284255981, 0.28657981753349304, 0.008695215918123722, 0.7043125033378601, 0.6392491459846497, 0.05756920576095581, 0.30315789580345154, 0.550774097442627, 0.16146863996982574, 0.1604854017496109, 0.03665272518992424, 0.09056664258241653, 0.996333658695221, 0.9996703267097473, 0.9973347783088684, 0.043409135192632675, 0.8828453421592712, 0.07350613921880722, 0.03077933005988598, 0.5599668025970459, 0.177252396941185, 0.055562686175107956, 0.17639583349227905, 0.08027688413858414, 0.7781505584716797, 0.008376718498766422, 0.015590003691613674, 0.11759981513023376, 0.9976295232772827, 0.9997664093971252, 0.21017588675022125, 0.4639768600463867, 0.0019388919463381171, 0.323794960975647, 0.9986971020698547, 0.26461368799209595, 0.5002390146255493, 0.016321731731295586, 0.07675624638795853, 0.14204317331314087, 0.9987570643424988, 0.9943689703941345, 0.04384161904454231, 0.8036282062530518, 0.1525154560804367, 0.9964029788970947, 0.02662445232272148, 0.4519662857055664, 0.08983046561479568, 0.008225440047681332, 0.42339372634887695, 0.9937366247177124, 0.9994141459465027, 0.8600238561630249, 0.1284806877374649, 0.011453704908490181, 0.5754759907722473, 0.2465898096561432, 0.08151828497648239, 0.07367768883705139, 0.022803572937846184, 0.13862493634223938, 0.861454963684082, 0.9738403558731079, 0.00041528375004418194, 0.025747591629624367, 0.004988083150237799, 0.9580956101417542, 0.03530028089880943, 0.0015347948065027595, 0.24740518629550934, 0.0625462532043457, 0.07453428953886032, 0.612432062625885, 0.002953573130071163, 0.9025604128837585, 0.09634996950626373, 0.9081615209579468, 0.06278595328330994, 0.00010641686094459146, 0.02894538640975952, 0.9969596862792969, 0.9984099864959717, 0.10855276137590408, 0.89080411195755, 0.05934888496994972, 0.7563775777816772, 0.003139616921544075, 0.020829500630497932, 0.16028925776481628, 0.016793975606560707, 0.852215051651001, 0.004040060099214315, 0.020200300961732864, 0.10678433626890182, 0.9968976974487305, 0.9872407913208008, 0.011321568861603737, 0.3144981265068054, 0.14324966073036194, 0.015193145722150803, 0.5269851088523865, 0.9900362491607666, 0.056253258138895035, 0.9429117441177368, 0.8398340940475464, 0.037360552698373795, 0.01712358556687832, 0.10585489869117737, 0.9997330904006958, 0.0563884899020195, 0.7678210735321045, 0.06563463807106018, 0.04232392460107803, 0.06784850358963013, 0.7527334094047546, 0.026429763063788414, 0.20199890434741974, 0.018706779927015305, 0.0011810288997367024, 0.11818724870681763, 0.6099171042442322, 0.15184657275676727, 0.11886212974786758, 0.06789697706699371, 0.8807746171951294, 0.04589332640171051, 0.0050294054672122, 0.9962711334228516], \"Term\": [\"1\", \"1\", \"1\", \"1\", \"10\", \"10\", \"10\", \"10\", \"10\", \"103rd\", \"110th\", \"11pm\", \"123\", \"125th\", \"1375\", \"145th\", \"15\", \"15\", \"15\", \"15\", \"2\", \"2\", \"2\", \"2\", \"24\", \"24\", \"24\", \"24hrs\", \"2min\", \"3\", \"3\", \"3\", \"3\", \"3\", \"30\", \"30\", \"30\", \"30\", \"30\", \"30mins\", \"33rd\", \"350k\", \"4\", \"4\", \"4\", \"4\", \"4\", \"420\", \"4k\", \"5\", \"5\", \"5\", \"5\", \"5\", \"500\", \"500\", \"59th\", \"7\", \"7\", \"7\", \"7\", \"875\", \"96th\", \"98\", \"9pm\", \"access\", \"access\", \"access\", \"access\", \"access\", \"ace\", \"airport\", \"also\", \"also\", \"also\", \"also\", \"also\", \"another\", \"another\", \"another\", \"another\", \"another\", \"anything\", \"anything\", \"anything\", \"apartment\", \"apartment\", \"apartment\", \"apartment\", \"architecture\", \"area\", \"area\", \"area\", \"area\", \"area\", \"army\", \"arrival\", \"arrival\", \"arrival\", \"arrival\", \"arrive\", \"arrive\", \"arrive\", \"arrive\", \"art\", \"art\", \"art\", \"art\", \"artist\", \"artist\", \"ask\", \"ask\", \"ask\", \"ask\", \"atlantic\", \"atlantic\", \"authentic\", \"authentic\", \"authentic\", \"authentic\", \"authority\", \"available\", \"available\", \"available\", \"available\", \"available\", \"ave\", \"ave\", \"ave\", \"ave\", \"avenue\", \"avenue\", \"avenue\", \"avenue\", \"average\", \"average\", \"average\", \"away\", \"away\", \"away\", \"away\", \"away\", \"b\", \"b\", \"b\", \"b\", \"backed\", \"bagel\", \"balance\", \"balance\", \"baseball\", \"bathroom\", \"bathroom\", \"bathroom\", \"bathroom\", \"beach\", \"beautiful\", \"beautiful\", \"beautiful\", \"beautiful\", \"beautiful\", \"bed\", \"bed\", \"bed\", \"bed\", \"bedroom\", \"bedroom\", \"bedroom\", \"bedroom\", \"bespoke\", \"best\", \"best\", \"best\", \"best\", \"best\", \"blanket\", \"block\", \"block\", \"block\", \"block\", \"block\", \"bookshelf\", \"botanic\", \"botanic\", \"brick\", \"brick\", \"brick\", \"bridge\", \"bridge\", \"bridge\", \"bridge\", \"broad\", \"brownstone\", \"brownstone\", \"budget\", \"building\", \"building\", \"building\", \"building\", \"building\", \"bunk\", \"burner\", \"bus\", \"bus\", \"bustle\", \"c\", \"c\", \"c\", \"c\", \"c\", \"cabinetry\", \"cable\", \"cable\", \"cable\", \"cable\", \"campus\", \"car\", \"car\", \"casino\", \"cemetery\", \"central\", \"central\", \"central\", \"chair\", \"chair\", \"character\", \"charm\", \"check\", \"check\", \"check\", \"check\", \"check\", \"chest\", \"city\", \"city\", \"city\", \"city\", \"city\", \"classic\", \"classic\", \"clean\", \"clean\", \"clean\", \"clean\", \"clean\", \"close\", \"close\", \"close\", \"close\", \"close\", \"closet\", \"closet\", \"clothes\", \"cobble\", \"coffee\", \"coffee\", \"coffee\", \"coffee\", \"coffee\", \"combined\", \"combined\", \"combined\", \"comfortable\", \"comfortable\", \"comfortable\", \"comfortable\", \"comfortable\", \"commitment\", \"common\", \"common\", \"common\", \"common\", \"common\", \"community\", \"community\", \"community\", \"company\", \"company\", \"complimentary\", \"complimentary\", \"complimentary\", \"con\", \"concierge\", \"conditioner\", \"conditioner\", \"cook\", \"cook\", \"cook\", \"cook\", \"curtain\", \"day\", \"day\", \"day\", \"day\", \"day\", \"de\", \"dead\", \"definition\", \"deluxe\", \"desk\", \"desk\", \"detail\", \"dining\", \"dining\", \"dining\", \"dining\", \"dining\", \"discover\", \"discover\", \"dishwasher\", \"dishwasher\", \"distance\", \"distance\", \"distance\", \"distance\", \"distance\", \"divine\", \"doorman\", \"drawer\", \"drawer\", \"drive\", \"driveway\", \"east\", \"east\", \"east\", \"east\", \"east\", \"eclectic\", \"eclectic\", \"el\", \"electricity\", \"elevator\", \"elevator\", \"elevator\", \"elevator\", \"empty\", \"en\", \"en\", \"enjoy\", \"enjoy\", \"enjoy\", \"enjoy\", \"enjoy\", \"everywhere!\", \"experience\", \"experience\", \"experience\", \"experience\", \"experienced\", \"exposed\", \"exposed\", \"f\", \"f\", \"f\", \"f\", \"f\", \"facility\", \"facility\", \"fan\", \"featured\", \"featured\", \"feel\", \"feel\", \"feel\", \"feel\", \"field\", \"filled\", \"filled\", \"filled\", \"film\", \"fitted\", \"flat\", \"flat\", \"flat\", \"flaunting\", \"floor\", \"floor\", \"floor\", \"floor\", \"floor\", \"flushing\", \"focus\", \"forest\", \"former\", \"full\", \"full\", \"full\", \"full\", \"full\", \"fully\", \"fully\", \"fully\", \"fully\", \"fully\", \"furnished\", \"furnished\", \"furnished\", \"furnished\", \"furnished\", \"g\", \"g\", \"g\", \"garden\", \"garden\", \"garden\", \"garden\", \"garden\", \"glassware\", \"good!\", \"graham\", \"graham\", \"granite\", \"great\", \"great\", \"great\", \"great\", \"guest\", \"guest\", \"guest\", \"guest\", \"guest\", \"gym\", \"gym\", \"gym\", \"hallway\", \"hanging\", \"heart\", \"heart\", \"heart\", \"heart\", \"hidden\", \"hidden\", \"hidden\", \"hidden\", \"hidden\", \"high\", \"high\", \"high\", \"high\", \"high\", \"historic\", \"historic\", \"historic\", \"home\", \"home\", \"home\", \"home\", \"home\", \"hotel\", \"hotel\", \"hotel\", \"house\", \"house\", \"house\", \"housekeeping\", \"hunt\", \"hustle\", \"image\", \"inch\", \"inch\", \"include\", \"include\", \"include\", \"include\", \"include\", \"inn\", \"inspired\", \"island\", \"island\", \"island\", \"island\", \"job\", \"joe\", \"journal\", \"keep\", \"keep\", \"keep\", \"kitchen\", \"kitchen\", \"kitchen\", \"kitchen\", \"kitchen\", \"l\", \"l\", \"l\", \"l\", \"la\", \"large\", \"large\", \"large\", \"large\", \"laundry\", \"laundry\", \"laundry\", \"laundry\", \"leasing\", \"life\", \"life\", \"life\", \"life\", \"light\", \"light\", \"light\", \"light\", \"like\", \"like\", \"like\", \"like\", \"lined\", \"living\", \"living\", \"living\", \"living\", \"living\", \"lobby\", \"location\", \"location\", \"location\", \"location\", \"location\", \"loft\", \"loft\", \"loft\", \"longer\", \"longer\", \"longer\", \"longer\", \"lorimer\", \"love\", \"love\", \"love\", \"love\", \"luxury\", \"luxury\", \"m15\", \"mall\", \"many\", \"many\", \"many\", \"many\", \"many\", \"marble\", \"marble\", \"may\", \"may\", \"may\", \"may\", \"metropolitan\", \"metropolitan\", \"min\", \"min\", \"mindful\", \"minute\", \"minute\", \"modern\", \"modern\", \"modern\", \"modern\", \"modern\", \"more!!\", \"morgan\", \"morgan\", \"museum\", \"museum\", \"museum\", \"n\", \"n\", \"n\", \"n\", \"nan\", \"need\", \"need\", \"need\", \"need\", \"need\", \"neighborhood\", \"neighborhood\", \"neighborhood\", \"neighborhood\", \"neighborhood\", \"new\", \"new\", \"new\", \"new\", \"new\", \"note\", \"note\", \"note\", \"note\", \"note\", \"number\", \"number\", \"number\", \"number\", \"number\", \"nyc!!!\", \"oasis\", \"oasis\", \"occupancy\", \"occupancy\", \"offer\", \"offer\", \"offer\", \"offer\", \"offer\", \"oil\", \"one\", \"one\", \"one\", \"one\", \"one\", \"original\", \"original\", \"outpost\", \"oven\", \"oven\", \"overdue\", \"palette\", \"paper\", \"para\", \"park\", \"park\", \"park\", \"park\", \"park\", \"parking\", \"parking\", \"parking\", \"parlor\", \"people\", \"people\", \"people\", \"people\", \"perfect\", \"perfect\", \"perfect\", \"perfect\", \"personally\", \"personally\", \"phone\", \"phone\", \"phone\", \"phone\", \"phone\", \"picturesque\", \"pier\", \"pier\", \"pier\", \"place\", \"place\", \"place\", \"place\", \"playroom\", \"please\", \"please\", \"please\", \"please\", \"please\", \"plush\", \"plush\", \"portable\", \"possibility\", \"premium\", \"privacy\", \"privacy\", \"privacy\", \"privacy\", \"private\", \"private\", \"private\", \"private\", \"private\", \"prospect\", \"prospect\", \"pub\", \"public\", \"public\", \"public\", \"public\", \"public\", \"q\", \"q\", \"queen\", \"queen\", \"queen\", \"r\", \"r\", \"rabbit\", \"rack\", \"rack\", \"radius\", \"rail\", \"rating\", \"reception\", \"regularly\", \"rented\", \"rented\", \"respite\", \"retreat\", \"riverside\", \"riverside\", \"riverside\", \"rockaway\", \"room\", \"room\", \"room\", \"room\", \"room\", \"rustic\", \"sale\", \"sauna\", \"score\", \"screen\", \"screen\", \"self\", \"self\", \"self\", \"self\", \"shake\", \"shampoo\", \"shampoo\", \"shampoo\", \"share\", \"share\", \"share\", \"share\", \"shelf\", \"simplify\", \"size\", \"size\", \"size\", \"size\", \"skating\", \"small\", \"small\", \"small\", \"small\", \"smaller\", \"smart\", \"smart\", \"smart\", \"smart\", \"sofa\", \"sofa\", \"sofa\", \"space\", \"space\", \"space\", \"space\", \"space\", \"speed\", \"speed\", \"speed\", \"speed\", \"spoon\", \"square\", \"square\", \"square\", \"square\", \"stadium\", \"stadium\", \"staff\", \"stainless\", \"start\", \"start\", \"state\", \"state\", \"state\", \"station\", \"station\", \"station\", \"stay\", \"stay\", \"stay\", \"stay\", \"stay\", \"stays!\", \"steel\", \"stoop\", \"stop\", \"stop\", \"stop\", \"street\", \"street\", \"street\", \"street\", \"street\", \"subway\", \"subway\", \"subway\", \"subway\", \"subway\", \"superior\", \"tax\", \"text\", \"text\", \"text\", \"text\", \"thoughtfully\", \"time\", \"time\", \"time\", \"time\", \"time\", \"trader\", \"trading\", \"train\", \"train\", \"train\", \"tranquility\", \"transportation\", \"transportation\", \"transportation\", \"transportation\", \"transportation\", \"travelers!\", \"tree\", \"twin\", \"twin\", \"twin\", \"two\", \"two\", \"two\", \"two\", \"two\", \"un\", \"un\", \"union\", \"union\", \"union\", \"unique\", \"unique\", \"unique\", \"unique\", \"unit\", \"unit\", \"unit\", \"unit\", \"unit\", \"upstairs\", \"upstairs\", \"use\", \"use\", \"use\", \"use\", \"valet\", \"valued\", \"vintage\", \"vintage\", \"walk\", \"walk\", \"walk\", \"walk\", \"walk\", \"walking\", \"walking\", \"walking\", \"walking\", \"walking\", \"wardrobe\", \"wash\", \"wash\", \"washer\", \"washer\", \"washer\", \"washer\", \"waste\", \"whether\", \"whether\", \"window\", \"window\", \"window\", \"window\", \"wireless\", \"within\", \"within\", \"within\", \"within\", \"within\", \"work\", \"work\", \"work\", \"work\", \"york\", \"york\", \"york\", \"york\", \"york\", \"z\", \"z\", \"z\", \"z\", \"zeus!\"]}, \"R\": 30, \"lambda.step\": 0.01, \"plot.opts\": {\"xlab\": \"PC1\", \"ylab\": \"PC2\"}, \"topic.order\": [2, 3, 1, 4, 5]};\n",
       "\n",
       "function LDAvis_load_lib(url, callback){\n",
       "  var s = document.createElement('script');\n",
       "  s.src = url;\n",
       "  s.async = true;\n",
       "  s.onreadystatechange = s.onload = callback;\n",
       "  s.onerror = function(){console.warn(\"failed to load library \" + url);};\n",
       "  document.getElementsByTagName(\"head\")[0].appendChild(s);\n",
       "}\n",
       "\n",
       "if(typeof(LDAvis) !== \"undefined\"){\n",
       "   // already loaded: just create the visualization\n",
       "   !function(LDAvis){\n",
       "       new LDAvis(\"#\" + \"ldavis_el454101123048912487861252783\", ldavis_el454101123048912487861252783_data);\n",
       "   }(LDAvis);\n",
       "}else if(typeof define === \"function\" && define.amd){\n",
       "   // require.js is available: use it to load d3/LDAvis\n",
       "   require.config({paths: {d3: \"https://cdnjs.cloudflare.com/ajax/libs/d3/3.5.5/d3.min\"}});\n",
       "   require([\"d3\"], function(d3){\n",
       "      window.d3 = d3;\n",
       "      LDAvis_load_lib(\"https://cdn.rawgit.com/bmabey/pyLDAvis/files/ldavis.v1.0.0.js\", function(){\n",
       "        new LDAvis(\"#\" + \"ldavis_el454101123048912487861252783\", ldavis_el454101123048912487861252783_data);\n",
       "      });\n",
       "    });\n",
       "}else{\n",
       "    // require.js not available: dynamically load d3 & LDAvis\n",
       "    LDAvis_load_lib(\"https://cdnjs.cloudflare.com/ajax/libs/d3/3.5.5/d3.min.js\", function(){\n",
       "         LDAvis_load_lib(\"https://cdn.rawgit.com/bmabey/pyLDAvis/files/ldavis.v1.0.0.js\", function(){\n",
       "                 new LDAvis(\"#\" + \"ldavis_el454101123048912487861252783\", ldavis_el454101123048912487861252783_data);\n",
       "            })\n",
       "         });\n",
       "}\n",
       "</script>"
      ],
      "text/plain": [
       "PreparedData(topic_coordinates=              x         y  topics  cluster       Freq\n",
       "topic                                                \n",
       "1      0.088456  0.030345       1        1  32.498734\n",
       "2     -0.097655 -0.069268       2        1  28.677412\n",
       "0      0.155557 -0.173140       3        1  15.397307\n",
       "3      0.104920  0.198686       4        1  14.560166\n",
       "4     -0.251278  0.013377       5        1   8.866385, topic_info=     Category          Freq            Term         Total  loglift  logprob\n",
       "149   Default  59047.000000            room  59047.000000  30.0000  30.0000\n",
       "160   Default  29621.000000            walk  29621.000000  29.0000  29.0000\n",
       "121   Default  24725.000000           train  24725.000000  28.0000  28.0000\n",
       "145   Default  13485.000000          minute  13485.000000  27.0000  27.0000\n",
       "12    Default  27392.000000             bed  27392.000000  26.0000  26.0000\n",
       "712   Default  19243.000000            home  19243.000000  25.0000  25.0000\n",
       "108   Default  23269.000000            park  23269.000000  24.0000  24.0000\n",
       "236   Default  26549.000000            away  26549.000000  23.0000  23.0000\n",
       "62    Default  21488.000000          subway  21488.000000  22.0000  22.0000\n",
       "146   Default  25184.000000             new  25184.000000  21.0000  21.0000\n",
       "156   Default  11690.000000         station  11690.000000  20.0000  20.0000\n",
       "36    Default  39210.000000         kitchen  39210.000000  19.0000  19.0000\n",
       "568   Default  11186.000000             min  11186.000000  18.0000  18.0000\n",
       "132   Default   7088.000000             bus   7088.000000  17.0000  17.0000\n",
       "143   Default  27970.000000          living  27970.000000  16.0000  16.0000\n",
       "131   Default  20384.000000        building  20384.000000  15.0000  15.0000\n",
       "133   Default  13306.000000         central  13306.000000  14.0000  14.0000\n",
       "71    Default  16157.000000               5  16157.000000  13.0000  13.0000\n",
       "148   Default  12482.000000           queen  12482.000000  12.0000  12.0000\n",
       "152   Default  12520.000000            size  12520.000000  11.0000  11.0000\n",
       "394   Default   8783.000000           house   8783.000000  10.0000  10.0000\n",
       "126   Default   9841.000000              10   9841.000000   9.0000   9.0000\n",
       "72    Default   7388.000000               7   7388.000000   8.0000   8.0000\n",
       "162   Default  11854.000000            york  11854.000000   7.0000   7.0000\n",
       "346   Default  12623.000000         walking  12623.000000   6.0000   6.0000\n",
       "1285  Default   3995.000000         airport   3995.000000   5.0000   5.0000\n",
       "75    Default  25091.000000        bathroom  25091.000000   4.0000   4.0000\n",
       "279   Default  11779.000000           fully  11779.000000   3.0000   3.0000\n",
       "260   Default  17511.000000          street  17511.000000   2.0000   2.0000\n",
       "69    Default  30755.000000               2  30755.000000   1.0000   1.0000\n",
       "...       ...           ...             ...           ...      ...      ...\n",
       "72     Topic5   3618.768799               7   7388.879883   1.7091  -4.4016\n",
       "145    Topic5   5671.827148          minute  13485.792969   1.5568  -3.9522\n",
       "328    Topic5   2121.572021           hotel   3990.445801   1.7912  -4.9355\n",
       "394    Topic5   3554.604980           house   8783.386719   1.5183  -4.4194\n",
       "604    Topic5   1144.576172          number   1869.341553   1.9324  -5.5526\n",
       "897    Topic5   2532.673096              24   5989.854004   1.5621  -4.7584\n",
       "606    Topic5   2527.499756           phone   6436.978516   1.4881  -4.7605\n",
       "156    Topic5   3543.571533         station  11690.277344   1.2293  -4.4225\n",
       "261    Topic5   1955.921387  transportation   4619.813477   1.5634  -5.0168\n",
       "599    Topic5   1593.212036          hidden   3519.913086   1.6302  -5.2219\n",
       "372    Topic5   1507.921021          public   3268.123047   1.6494  -5.2770\n",
       "1725   Topic5    924.485657            self   1429.331787   1.9872  -5.7662\n",
       "126    Topic5   2622.356934              10   9841.500977   1.1004  -4.7236\n",
       "160    Topic5   4748.157227            walk  29621.449219   0.5922  -4.1299\n",
       "617    Topic5   1721.729492              30   4757.786621   1.4064  -5.1444\n",
       "383    Topic5   2615.541992               4  10915.651367   0.9942  -4.7262\n",
       "121    Topic5   3770.953125           train  24725.363281   0.5424  -4.3604\n",
       "260    Topic5   3088.951904          street  17511.751953   0.6879  -4.5599\n",
       "419    Topic5   2022.278931              15   7319.360352   1.1366  -4.9835\n",
       "71     Topic5   2840.451416               5  16157.092773   0.6845  -4.6437\n",
       "568    Topic5   2374.373779             min  11186.167969   0.8730  -4.8230\n",
       "574    Topic5   1670.426025            text   5157.584961   1.2955  -5.1746\n",
       "69     Topic5   2907.695801               2  30755.601562   0.0642  -4.6203\n",
       "9      Topic5   2591.325684       available  21407.437500   0.3113  -4.7355\n",
       "62     Topic5   2526.604736          subway  21488.128906   0.2823  -4.7608\n",
       "158    Topic5   2254.280518            time  15868.415039   0.4714  -4.8749\n",
       "712    Topic5   2355.828369            home  19243.769531   0.3226  -4.8308\n",
       "236    Topic5   2492.769287            away  26549.548828   0.0573  -4.7743\n",
       "134    Topic5   1927.904663          coffee  11844.960938   0.6074  -5.0312\n",
       "109    Topic5   2060.010986         private  25582.181641  -0.0963  -4.9650\n",
       "\n",
       "[427 rows x 6 columns], token_table=       Topic      Freq      Term\n",
       "term                            \n",
       "0          1  0.208484         1\n",
       "0          2  0.508748         1\n",
       "0          4  0.221798         1\n",
       "0          5  0.060981         1\n",
       "126        1  0.035157        10\n",
       "126        2  0.685668        10\n",
       "126        3  0.001931        10\n",
       "126        4  0.010771        10\n",
       "126        5  0.266423        10\n",
       "3012       2  0.990770     103rd\n",
       "1826       2  0.991230     110th\n",
       "265        5  0.995152      11pm\n",
       "4060       2  0.995235       123\n",
       "2145       2  0.998762     125th\n",
       "19855      1  0.998748      1375\n",
       "3431       2  0.995754     145th\n",
       "419        1  0.044539        15\n",
       "419        2  0.650193        15\n",
       "419        3  0.028828        15\n",
       "419        5  0.276254        15\n",
       "69         1  0.282062         2\n",
       "69         2  0.452698         2\n",
       "69         4  0.170701         2\n",
       "69         5  0.094552         2\n",
       "897        2  0.251258        24\n",
       "897        4  0.325884        24\n",
       "897        5  0.422882        24\n",
       "1024       2  0.996019     24hrs\n",
       "2132       2  0.995526      2min\n",
       "382        1  0.243114         3\n",
       "...      ...       ...       ...\n",
       "614        2  0.143250    washer\n",
       "614        3  0.015193    washer\n",
       "614        4  0.526985    washer\n",
       "4602       2  0.990036     waste\n",
       "2121       1  0.056253   whether\n",
       "2121       3  0.942912   whether\n",
       "1167       1  0.839834    window\n",
       "1167       2  0.037361    window\n",
       "1167       3  0.017124    window\n",
       "1167       4  0.105855    window\n",
       "347        4  0.999733  wireless\n",
       "497        1  0.056388    within\n",
       "497        2  0.767821    within\n",
       "497        3  0.065635    within\n",
       "497        4  0.042324    within\n",
       "497        5  0.067849    within\n",
       "856        1  0.752733      work\n",
       "856        2  0.026430      work\n",
       "856        3  0.201999      work\n",
       "856        4  0.018707      work\n",
       "162        1  0.001181      york\n",
       "162        2  0.118187      york\n",
       "162        3  0.609917      york\n",
       "162        4  0.151847      york\n",
       "162        5  0.118862      york\n",
       "1137       1  0.067897         z\n",
       "1137       2  0.880775         z\n",
       "1137       3  0.045893         z\n",
       "1137       5  0.005029         z\n",
       "19856      1  0.996271     zeus!\n",
       "\n",
       "[893 rows x 3 columns], R=30, lambda_step=0.01, plot_opts={'xlab': 'PC1', 'ylab': 'PC2'}, topic_order=[2, 3, 1, 4, 5])"
      ]
     },
     "execution_count": 41,
     "metadata": {},
     "output_type": "execute_result"
    }
   ],
   "source": [
    "p5"
   ]
  },
  {
   "cell_type": "code",
   "execution_count": null,
   "metadata": {},
   "outputs": [],
   "source": []
  }
 ],
 "metadata": {
  "kernelspec": {
   "display_name": "Python 3.7.3 64-bit ('base': conda)",
   "language": "python",
   "name": "python37364bitbaseconda2b5a26346dcc4175aa1539928ab48d0d"
  },
  "language_info": {
   "codemirror_mode": {
    "name": "ipython",
    "version": 3
   },
   "file_extension": ".py",
   "mimetype": "text/x-python",
   "name": "python",
   "nbconvert_exporter": "python",
   "pygments_lexer": "ipython3",
   "version": "3.7.3"
  },
  "toc": {
   "base_numbering": 1,
   "nav_menu": {},
   "number_sections": true,
   "sideBar": true,
   "skip_h1_title": false,
   "title_cell": "Table of Contents",
   "title_sidebar": "Contents",
   "toc_cell": false,
   "toc_position": {},
   "toc_section_display": true,
   "toc_window_display": false
  }
 },
 "nbformat": 4,
 "nbformat_minor": 2
}
