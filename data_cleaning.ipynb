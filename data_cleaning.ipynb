{
 "cells": [
  {
   "cell_type": "markdown",
   "metadata": {},
   "source": [
    "# Import Libraries"
   ]
  },
  {
   "cell_type": "code",
   "execution_count": 1,
   "metadata": {
    "ExecuteTime": {
     "end_time": "2020-03-25T05:21:20.757395Z",
     "start_time": "2020-03-25T05:21:18.032041Z"
    }
   },
   "outputs": [],
   "source": [
    "import sys\n",
    "import pandas as pd\n",
    "import seaborn as sns\n",
    "import numpy as np\n",
    "import matplotlib.pyplot as plt\n",
    "from collections import Counter\n",
    "import datetime as dt\n",
    "import math\n",
    "\n",
    "import pickle\n",
    "import joblib\n",
    "%matplotlib inline"
   ]
  },
  {
   "cell_type": "code",
   "execution_count": 2,
   "metadata": {
    "ExecuteTime": {
     "end_time": "2020-03-25T05:21:20.765007Z",
     "start_time": "2020-03-25T05:21:20.760460Z"
    }
   },
   "outputs": [],
   "source": [
    "BNB_RED = '#FF5A5F'"
   ]
  },
  {
   "cell_type": "markdown",
   "metadata": {},
   "source": [
    "# Load the Data"
   ]
  },
  {
   "cell_type": "code",
   "execution_count": 3,
   "metadata": {
    "ExecuteTime": {
     "end_time": "2020-03-25T05:21:21.078644Z",
     "start_time": "2020-03-25T05:21:20.777831Z"
    },
    "scrolled": false
   },
   "outputs": [],
   "source": [
    "listings_df = pd.read_csv('/users/luyuankong/Downloads/data/listings.csv')"
   ]
  },
  {
   "cell_type": "code",
   "execution_count": 4,
   "metadata": {
    "ExecuteTime": {
     "end_time": "2020-03-25T05:21:21.092237Z",
     "start_time": "2020-03-25T05:21:21.086945Z"
    },
    "scrolled": true
   },
   "outputs": [
    {
     "name": "stdout",
     "output_type": "stream",
     "text": [
      "column names for listing: \n",
      " ['id' 'name' 'host_id' 'host_name' 'neighbourhood_group' 'neighbourhood'\n",
      " 'latitude' 'longitude' 'room_type' 'price' 'minimum_nights'\n",
      " 'number_of_reviews' 'last_review' 'reviews_per_month'\n",
      " 'calculated_host_listings_count' 'availability_365']\n",
      "number of featurers in the listing: \n",
      " 16\n"
     ]
    }
   ],
   "source": [
    "print(f'column names for listing: \\n {listings_df.columns.values}')\n",
    "print(f'number of featurers in the listing: \\n {len(listings_df.columns.values)}')"
   ]
  },
  {
   "cell_type": "code",
   "execution_count": 5,
   "metadata": {
    "ExecuteTime": {
     "end_time": "2020-03-25T05:21:21.123345Z",
     "start_time": "2020-03-25T05:21:21.095048Z"
    },
    "scrolled": true
   },
   "outputs": [
    {
     "data": {
      "text/html": [
       "<div>\n",
       "<style scoped>\n",
       "    .dataframe tbody tr th:only-of-type {\n",
       "        vertical-align: middle;\n",
       "    }\n",
       "\n",
       "    .dataframe tbody tr th {\n",
       "        vertical-align: top;\n",
       "    }\n",
       "\n",
       "    .dataframe thead th {\n",
       "        text-align: right;\n",
       "    }\n",
       "</style>\n",
       "<table border=\"1\" class=\"dataframe\">\n",
       "  <thead>\n",
       "    <tr style=\"text-align: right;\">\n",
       "      <th></th>\n",
       "      <th>id</th>\n",
       "      <th>name</th>\n",
       "      <th>host_id</th>\n",
       "      <th>host_name</th>\n",
       "      <th>neighbourhood_group</th>\n",
       "      <th>neighbourhood</th>\n",
       "      <th>latitude</th>\n",
       "      <th>longitude</th>\n",
       "      <th>room_type</th>\n",
       "      <th>price</th>\n",
       "      <th>minimum_nights</th>\n",
       "      <th>number_of_reviews</th>\n",
       "      <th>last_review</th>\n",
       "      <th>reviews_per_month</th>\n",
       "      <th>calculated_host_listings_count</th>\n",
       "      <th>availability_365</th>\n",
       "    </tr>\n",
       "  </thead>\n",
       "  <tbody>\n",
       "    <tr>\n",
       "      <th>0</th>\n",
       "      <td>2595</td>\n",
       "      <td>Skylit Midtown Castle</td>\n",
       "      <td>2845</td>\n",
       "      <td>Jennifer</td>\n",
       "      <td>Manhattan</td>\n",
       "      <td>Midtown</td>\n",
       "      <td>40.75362</td>\n",
       "      <td>-73.98377</td>\n",
       "      <td>Entire home/apt</td>\n",
       "      <td>225</td>\n",
       "      <td>7</td>\n",
       "      <td>48</td>\n",
       "      <td>2019-11-04</td>\n",
       "      <td>0.39</td>\n",
       "      <td>2</td>\n",
       "      <td>365</td>\n",
       "    </tr>\n",
       "    <tr>\n",
       "      <th>1</th>\n",
       "      <td>3831</td>\n",
       "      <td>Cozy Entire Floor of Brownstone</td>\n",
       "      <td>4869</td>\n",
       "      <td>LisaRoxanne</td>\n",
       "      <td>Brooklyn</td>\n",
       "      <td>Clinton Hill</td>\n",
       "      <td>40.68514</td>\n",
       "      <td>-73.95976</td>\n",
       "      <td>Entire home/apt</td>\n",
       "      <td>89</td>\n",
       "      <td>1</td>\n",
       "      <td>307</td>\n",
       "      <td>2020-02-08</td>\n",
       "      <td>4.69</td>\n",
       "      <td>1</td>\n",
       "      <td>137</td>\n",
       "    </tr>\n",
       "    <tr>\n",
       "      <th>2</th>\n",
       "      <td>5099</td>\n",
       "      <td>Large Cozy 1 BR Apartment In Midtown East</td>\n",
       "      <td>7322</td>\n",
       "      <td>Chris</td>\n",
       "      <td>Manhattan</td>\n",
       "      <td>Murray Hill</td>\n",
       "      <td>40.74767</td>\n",
       "      <td>-73.97500</td>\n",
       "      <td>Entire home/apt</td>\n",
       "      <td>200</td>\n",
       "      <td>3</td>\n",
       "      <td>78</td>\n",
       "      <td>2019-10-13</td>\n",
       "      <td>0.59</td>\n",
       "      <td>1</td>\n",
       "      <td>0</td>\n",
       "    </tr>\n",
       "    <tr>\n",
       "      <th>3</th>\n",
       "      <td>5121</td>\n",
       "      <td>BlissArtsSpace!</td>\n",
       "      <td>7356</td>\n",
       "      <td>Garon</td>\n",
       "      <td>Brooklyn</td>\n",
       "      <td>Bedford-Stuyvesant</td>\n",
       "      <td>40.68688</td>\n",
       "      <td>-73.95596</td>\n",
       "      <td>Private room</td>\n",
       "      <td>60</td>\n",
       "      <td>29</td>\n",
       "      <td>50</td>\n",
       "      <td>2019-12-02</td>\n",
       "      <td>0.38</td>\n",
       "      <td>1</td>\n",
       "      <td>365</td>\n",
       "    </tr>\n",
       "    <tr>\n",
       "      <th>4</th>\n",
       "      <td>5178</td>\n",
       "      <td>Large Furnished Room Near B'way</td>\n",
       "      <td>8967</td>\n",
       "      <td>Shunichi</td>\n",
       "      <td>Manhattan</td>\n",
       "      <td>Hell's Kitchen</td>\n",
       "      <td>40.76489</td>\n",
       "      <td>-73.98493</td>\n",
       "      <td>Private room</td>\n",
       "      <td>79</td>\n",
       "      <td>2</td>\n",
       "      <td>463</td>\n",
       "      <td>2020-01-28</td>\n",
       "      <td>3.53</td>\n",
       "      <td>1</td>\n",
       "      <td>216</td>\n",
       "    </tr>\n",
       "  </tbody>\n",
       "</table>\n",
       "</div>"
      ],
      "text/plain": [
       "     id                                       name  host_id    host_name  \\\n",
       "0  2595                      Skylit Midtown Castle     2845     Jennifer   \n",
       "1  3831            Cozy Entire Floor of Brownstone     4869  LisaRoxanne   \n",
       "2  5099  Large Cozy 1 BR Apartment In Midtown East     7322        Chris   \n",
       "3  5121                            BlissArtsSpace!     7356        Garon   \n",
       "4  5178           Large Furnished Room Near B'way      8967     Shunichi   \n",
       "\n",
       "  neighbourhood_group       neighbourhood  latitude  longitude  \\\n",
       "0           Manhattan             Midtown  40.75362  -73.98377   \n",
       "1            Brooklyn        Clinton Hill  40.68514  -73.95976   \n",
       "2           Manhattan         Murray Hill  40.74767  -73.97500   \n",
       "3            Brooklyn  Bedford-Stuyvesant  40.68688  -73.95596   \n",
       "4           Manhattan      Hell's Kitchen  40.76489  -73.98493   \n",
       "\n",
       "         room_type  price  minimum_nights  number_of_reviews last_review  \\\n",
       "0  Entire home/apt    225               7                 48  2019-11-04   \n",
       "1  Entire home/apt     89               1                307  2020-02-08   \n",
       "2  Entire home/apt    200               3                 78  2019-10-13   \n",
       "3     Private room     60              29                 50  2019-12-02   \n",
       "4     Private room     79               2                463  2020-01-28   \n",
       "\n",
       "   reviews_per_month  calculated_host_listings_count  availability_365  \n",
       "0               0.39                               2               365  \n",
       "1               4.69                               1               137  \n",
       "2               0.59                               1                 0  \n",
       "3               0.38                               1               365  \n",
       "4               3.53                               1               216  "
      ]
     },
     "execution_count": 5,
     "metadata": {},
     "output_type": "execute_result"
    }
   ],
   "source": [
    "listings_df.head()"
   ]
  },
  {
   "cell_type": "code",
   "execution_count": 6,
   "metadata": {
    "ExecuteTime": {
     "end_time": "2020-03-25T05:21:24.606969Z",
     "start_time": "2020-03-25T05:21:21.126434Z"
    }
   },
   "outputs": [
    {
     "name": "stderr",
     "output_type": "stream",
     "text": [
      "/Users/luyuankong/anaconda3/lib/python3.7/site-packages/IPython/core/interactiveshell.py:3051: DtypeWarning: Columns (61,62,94,95) have mixed types. Specify dtype option on import or set low_memory=False.\n",
      "  interactivity=interactivity, compiler=compiler, result=result)\n"
     ]
    }
   ],
   "source": [
    "listings_detail_df = pd.read_csv('/users/luyuankong/Downloads/data/listings_detail.csv')"
   ]
  },
  {
   "cell_type": "code",
   "execution_count": 7,
   "metadata": {
    "ExecuteTime": {
     "end_time": "2020-03-25T05:21:24.622166Z",
     "start_time": "2020-03-25T05:21:24.609690Z"
    },
    "scrolled": false
   },
   "outputs": [
    {
     "name": "stdout",
     "output_type": "stream",
     "text": [
      "column names for detailed listing: \n",
      " ['id' 'listing_url' 'scrape_id' 'last_scraped' 'name' 'summary' 'space'\n",
      " 'description' 'experiences_offered' 'neighborhood_overview' 'notes'\n",
      " 'transit' 'access' 'interaction' 'house_rules' 'thumbnail_url'\n",
      " 'medium_url' 'picture_url' 'xl_picture_url' 'host_id' 'host_url'\n",
      " 'host_name' 'host_since' 'host_location' 'host_about'\n",
      " 'host_response_time' 'host_response_rate' 'host_acceptance_rate'\n",
      " 'host_is_superhost' 'host_thumbnail_url' 'host_picture_url'\n",
      " 'host_neighbourhood' 'host_listings_count' 'host_total_listings_count'\n",
      " 'host_verifications' 'host_has_profile_pic' 'host_identity_verified'\n",
      " 'street' 'neighbourhood' 'neighbourhood_cleansed'\n",
      " 'neighbourhood_group_cleansed' 'city' 'state' 'zipcode' 'market'\n",
      " 'smart_location' 'country_code' 'country' 'latitude' 'longitude'\n",
      " 'is_location_exact' 'property_type' 'room_type' 'accommodates'\n",
      " 'bathrooms' 'bedrooms' 'beds' 'bed_type' 'amenities' 'square_feet'\n",
      " 'price' 'weekly_price' 'monthly_price' 'security_deposit' 'cleaning_fee'\n",
      " 'guests_included' 'extra_people' 'minimum_nights' 'maximum_nights'\n",
      " 'minimum_minimum_nights' 'maximum_minimum_nights'\n",
      " 'minimum_maximum_nights' 'maximum_maximum_nights'\n",
      " 'minimum_nights_avg_ntm' 'maximum_nights_avg_ntm' 'calendar_updated'\n",
      " 'has_availability' 'availability_30' 'availability_60' 'availability_90'\n",
      " 'availability_365' 'calendar_last_scraped' 'number_of_reviews'\n",
      " 'number_of_reviews_ltm' 'first_review' 'last_review'\n",
      " 'review_scores_rating' 'review_scores_accuracy'\n",
      " 'review_scores_cleanliness' 'review_scores_checkin'\n",
      " 'review_scores_communication' 'review_scores_location'\n",
      " 'review_scores_value' 'requires_license' 'license' 'jurisdiction_names'\n",
      " 'instant_bookable' 'is_business_travel_ready' 'cancellation_policy'\n",
      " 'require_guest_profile_picture' 'require_guest_phone_verification'\n",
      " 'calculated_host_listings_count'\n",
      " 'calculated_host_listings_count_entire_homes'\n",
      " 'calculated_host_listings_count_private_rooms'\n",
      " 'calculated_host_listings_count_shared_rooms' 'reviews_per_month']\n",
      "number of featurers in the detailed listing: \n",
      " 106\n"
     ]
    }
   ],
   "source": [
    "print(f'column names for detailed listing: \\n {listings_detail_df.columns.values}')\n",
    "print(f'number of featurers in the detailed listing: \\n {len(listings_detail_df.columns.values)}')"
   ]
  },
  {
   "cell_type": "code",
   "execution_count": 8,
   "metadata": {
    "ExecuteTime": {
     "end_time": "2020-03-25T05:21:24.635095Z",
     "start_time": "2020-03-25T05:21:24.627369Z"
    },
    "scrolled": false
   },
   "outputs": [
    {
     "data": {
      "text/plain": [
       "(51097, 106)"
      ]
     },
     "execution_count": 8,
     "metadata": {},
     "output_type": "execute_result"
    }
   ],
   "source": [
    "listings_detail_df.shape"
   ]
  },
  {
   "cell_type": "code",
   "execution_count": 9,
   "metadata": {
    "ExecuteTime": {
     "end_time": "2020-03-25T05:21:24.650030Z",
     "start_time": "2020-03-25T05:21:24.642855Z"
    }
   },
   "outputs": [
    {
     "data": {
      "text/plain": [
       "(51097, 16)"
      ]
     },
     "execution_count": 9,
     "metadata": {},
     "output_type": "execute_result"
    }
   ],
   "source": [
    "listings_df.shape"
   ]
  },
  {
   "cell_type": "markdown",
   "metadata": {},
   "source": [
    "# merge two dfs with same listing id column"
   ]
  },
  {
   "cell_type": "code",
   "execution_count": 10,
   "metadata": {
    "ExecuteTime": {
     "end_time": "2020-03-25T05:21:25.936564Z",
     "start_time": "2020-03-25T05:21:24.652918Z"
    }
   },
   "outputs": [],
   "source": [
    "\n",
    "nyc_df  = listings_df.merge(listings_detail_df, on = 'id', how = 'right')"
   ]
  },
  {
   "cell_type": "markdown",
   "metadata": {},
   "source": [
    "## drop overlap features"
   ]
  },
  {
   "cell_type": "code",
   "execution_count": 11,
   "metadata": {
    "ExecuteTime": {
     "end_time": "2020-03-25T05:21:25.952872Z",
     "start_time": "2020-03-25T05:21:25.943941Z"
    }
   },
   "outputs": [],
   "source": [
    "overlap_to_drop = ['name_y', 'host_id_y', 'host_name_y',\n",
    "       'neighbourhood_y', 'latitude_y', 'longitude_y', 'room_type_y',\n",
    "       'price_y', 'minimum_nights_y', 'number_of_reviews_y',\n",
    "       'last_review_y', 'reviews_per_month_y',\n",
    "       'calculated_host_listings_count_y', 'availability_365_y']"
   ]
  },
  {
   "cell_type": "code",
   "execution_count": 12,
   "metadata": {
    "ExecuteTime": {
     "end_time": "2020-03-25T05:21:26.423532Z",
     "start_time": "2020-03-25T05:21:25.956529Z"
    }
   },
   "outputs": [],
   "source": [
    "nyc_df.drop(columns=overlap_to_drop, inplace=True)"
   ]
  },
  {
   "cell_type": "code",
   "execution_count": 13,
   "metadata": {
    "ExecuteTime": {
     "end_time": "2020-03-25T05:21:26.606341Z",
     "start_time": "2020-03-25T05:21:26.426399Z"
    }
   },
   "outputs": [],
   "source": [
    "nyc_df.rename(columns=lambda name: name.replace(\"_x\", \"\"), inplace=True)"
   ]
  },
  {
   "cell_type": "code",
   "execution_count": 14,
   "metadata": {
    "ExecuteTime": {
     "end_time": "2020-03-25T05:21:26.807617Z",
     "start_time": "2020-03-25T05:21:26.616379Z"
    }
   },
   "outputs": [],
   "source": [
    "# we want to predict prices based on listings show good reviews on their pricing strategy\n",
    "# so we select # reviews > 0 and review_score > 6 out of 10\n",
    "\n",
    "nyc_df = nyc_df[nyc_df.number_of_reviews > 0 ]\n",
    "nyc_df = nyc_df[nyc_df.review_scores_value > 5.0]\n",
    "nyc_df = nyc_df[nyc_df.price > 0]"
   ]
  },
  {
   "cell_type": "code",
   "execution_count": 15,
   "metadata": {
    "ExecuteTime": {
     "end_time": "2020-03-25T05:21:26.826043Z",
     "start_time": "2020-03-25T05:21:26.811492Z"
    }
   },
   "outputs": [],
   "source": [
    "text_features = ['id','host_name','name','summary','space','description','neighborhood_overview','house_rules','price','host_name']\n",
    "df_text = nyc_df[text_features]\n",
    "\n",
    "# #Save for later\n",
    "# with open('Downloads/data/df_text.pickle', 'wb') as to_write:\n",
    "#     pickle.dump(df_text, to_write)"
   ]
  },
  {
   "cell_type": "code",
   "execution_count": 16,
   "metadata": {
    "ExecuteTime": {
     "end_time": "2020-03-25T05:21:26.942088Z",
     "start_time": "2020-03-25T05:21:26.833516Z"
    }
   },
   "outputs": [],
   "source": [
    "# drop the text features\n",
    "nyc_df.drop(columns=['host_name','name','summary','space','description',\n",
    "                                 'neighborhood_overview','house_rules'], inplace=True)"
   ]
  },
  {
   "cell_type": "markdown",
   "metadata": {},
   "source": [
    "## drop irrelevent features"
   ]
  },
  {
   "cell_type": "code",
   "execution_count": 17,
   "metadata": {
    "ExecuteTime": {
     "end_time": "2020-03-25T05:21:27.156665Z",
     "start_time": "2020-03-25T05:21:26.945037Z"
    },
    "scrolled": true
   },
   "outputs": [
    {
     "data": {
      "text/plain": [
       "xl_picture_url                 39427\n",
       "medium_url                     39427\n",
       "thumbnail_url                  39427\n",
       "jurisdiction_names             39417\n",
       "license                        39411\n",
       "square_feet                    39083\n",
       "monthly_price                  35209\n",
       "weekly_price                   34725\n",
       "notes                          21652\n",
       "access                         15962\n",
       "host_about                     14369\n",
       "interaction                    13819\n",
       "host_response_rate             12291\n",
       "host_response_time             12291\n",
       "security_deposit               11425\n",
       "transit                        11271\n",
       "host_acceptance_rate            8082\n",
       "cleaning_fee                    5906\n",
       "host_neighbourhood              5075\n",
       "zipcode                          349\n",
       "city                             112\n",
       "host_location                     88\n",
       "beds                              86\n",
       "market                            74\n",
       "bedrooms                          43\n",
       "bathrooms                         33\n",
       "review_scores_accuracy             8\n",
       "state                              8\n",
       "review_scores_location             5\n",
       "review_scores_communication        5\n",
       "dtype: int64"
      ]
     },
     "execution_count": 17,
     "metadata": {},
     "output_type": "execute_result"
    }
   ],
   "source": [
    "nyc_df.isna().sum().sort_values(ascending=False)[0:30]\n"
   ]
  },
  {
   "cell_type": "code",
   "execution_count": 18,
   "metadata": {
    "ExecuteTime": {
     "end_time": "2020-03-25T05:21:27.293564Z",
     "start_time": "2020-03-25T05:21:27.279022Z"
    }
   },
   "outputs": [
    {
     "data": {
      "text/plain": [
       "(39427, 100)"
      ]
     },
     "execution_count": 18,
     "metadata": {},
     "output_type": "execute_result"
    }
   ],
   "source": [
    "nyc_df.shape"
   ]
  },
  {
   "cell_type": "code",
   "execution_count": 19,
   "metadata": {
    "ExecuteTime": {
     "end_time": "2020-03-25T05:21:27.704678Z",
     "start_time": "2020-03-25T05:21:27.693741Z"
    }
   },
   "outputs": [
    {
     "data": {
      "text/plain": [
       "array(['id', 'host_id', 'neighbourhood_group', 'neighbourhood',\n",
       "       'latitude', 'longitude', 'room_type', 'price', 'minimum_nights',\n",
       "       'number_of_reviews', 'last_review', 'reviews_per_month',\n",
       "       'calculated_host_listings_count', 'availability_365',\n",
       "       'listing_url', 'scrape_id', 'last_scraped', 'experiences_offered',\n",
       "       'notes', 'transit', 'access', 'interaction', 'thumbnail_url',\n",
       "       'medium_url', 'picture_url', 'xl_picture_url', 'host_url',\n",
       "       'host_since', 'host_location', 'host_about', 'host_response_time',\n",
       "       'host_response_rate', 'host_acceptance_rate', 'host_is_superhost',\n",
       "       'host_thumbnail_url', 'host_picture_url', 'host_neighbourhood',\n",
       "       'host_listings_count', 'host_total_listings_count',\n",
       "       'host_verifications', 'host_has_profile_pic',\n",
       "       'host_identity_verified', 'street', 'neighbourhood_cleansed',\n",
       "       'neighbourhood_group_cleansed', 'city', 'state', 'zipcode',\n",
       "       'market', 'smart_location', 'country_code', 'country',\n",
       "       'is_location_exact', 'property_type', 'accommodates', 'bathrooms',\n",
       "       'bedrooms', 'beds', 'bed_type', 'amenities', 'square_feet',\n",
       "       'weekly_price', 'monthly_price', 'security_deposit',\n",
       "       'cleaning_fee', 'guests_included', 'extra_people',\n",
       "       'maximum_nights', 'minimum_minimum_nights',\n",
       "       'maximum_minimum_nights', 'minimum_maximum_nights',\n",
       "       'maximum_maximum_nights', 'minimum_nights_avg_ntm',\n",
       "       'maximum_nights_avg_ntm', 'calendar_updated', 'has_availability',\n",
       "       'availability_30', 'availability_60', 'availability_90',\n",
       "       'calendar_last_scraped', 'number_of_reviews_ltm', 'first_review',\n",
       "       'review_scores_rating', 'review_scores_accuracy',\n",
       "       'review_scores_cleanliness', 'review_scores_checkin',\n",
       "       'review_scores_communication', 'review_scores_location',\n",
       "       'review_scores_value', 'requires_license', 'license',\n",
       "       'jurisdiction_names', 'instant_bookable',\n",
       "       'is_business_travel_ready', 'cancellation_policy',\n",
       "       'require_guest_profile_picture',\n",
       "       'require_guest_phone_verification',\n",
       "       'calculated_host_listings_count_entire_homes',\n",
       "       'calculated_host_listings_count_private_rooms',\n",
       "       'calculated_host_listings_count_shared_rooms'], dtype=object)"
      ]
     },
     "execution_count": 19,
     "metadata": {},
     "output_type": "execute_result"
    }
   ],
   "source": [
    "nyc_df.columns.values"
   ]
  },
  {
   "cell_type": "code",
   "execution_count": 20,
   "metadata": {
    "ExecuteTime": {
     "end_time": "2020-03-25T05:21:28.279274Z",
     "start_time": "2020-03-25T05:21:28.272284Z"
    }
   },
   "outputs": [],
   "source": [
    "features_to_drop = ['number_of_reviews', 'host_id', 'neighbourhood_group','latitude', 'longitude', \n",
    "       'last_review','reviews_per_month','listing_url', 'scrape_id', 'last_scraped', 'experiences_offered',\n",
    "       'notes', 'transit', 'access', 'interaction', 'thumbnail_url',\n",
    "       'medium_url', 'picture_url', 'xl_picture_url', 'host_url',\n",
    "       'host_location', 'host_about','host_thumbnail_url', 'host_picture_url', 'host_neighbourhood',\n",
    "       'host_listings_count', 'host_total_listings_count','host_verifications',\n",
    "       'street', 'neighbourhood_cleansed',\n",
    "       'neighbourhood_group_cleansed', 'city', 'state', 'zipcode',\n",
    "       'market', 'smart_location', 'country_code', 'country',\n",
    "       'is_location_exact','is_location_exact','beds','square_feet',\n",
    "       'weekly_price', 'monthly_price', 'maximum_nights', 'minimum_minimum_nights',\n",
    "       'maximum_minimum_nights', 'minimum_maximum_nights',\n",
    "       'maximum_maximum_nights', 'minimum_nights_avg_ntm',\n",
    "       'maximum_nights_avg_ntm', 'calendar_updated', 'has_availability',\n",
    "       'availability_30', 'availability_60', 'availability_90',\n",
    "       'calendar_last_scraped', 'number_of_reviews_ltm', 'first_review',\n",
    "       'review_scores_rating', 'review_scores_accuracy',\n",
    "       'review_scores_cleanliness', 'review_scores_checkin',\n",
    "       'review_scores_communication', 'review_scores_location',\n",
    "       'review_scores_value', 'requires_license', 'license',\n",
    "       'jurisdiction_names', 'calculated_host_listings_count_entire_homes',\n",
    "       'calculated_host_listings_count_private_rooms',\n",
    "       'calculated_host_listings_count_shared_rooms',\n",
    "       'is_business_travel_ready','require_guest_profile_picture','require_guest_phone_verification'\n",
    "]"
   ]
  },
  {
   "cell_type": "code",
   "execution_count": 21,
   "metadata": {
    "ExecuteTime": {
     "end_time": "2020-03-25T05:21:29.381376Z",
     "start_time": "2020-03-25T05:21:29.359252Z"
    }
   },
   "outputs": [],
   "source": [
    "nyc_df.drop(columns=features_to_drop, inplace=True)"
   ]
  },
  {
   "cell_type": "code",
   "execution_count": 22,
   "metadata": {
    "ExecuteTime": {
     "end_time": "2020-03-25T05:21:29.769915Z",
     "start_time": "2020-03-25T05:21:29.762244Z"
    },
    "scrolled": false
   },
   "outputs": [
    {
     "data": {
      "text/plain": [
       "id                                  int64\n",
       "neighbourhood                      object\n",
       "room_type                          object\n",
       "price                               int64\n",
       "minimum_nights                      int64\n",
       "calculated_host_listings_count      int64\n",
       "availability_365                    int64\n",
       "host_since                         object\n",
       "host_response_time                 object\n",
       "host_response_rate                 object\n",
       "host_acceptance_rate               object\n",
       "host_is_superhost                  object\n",
       "host_has_profile_pic               object\n",
       "host_identity_verified             object\n",
       "property_type                      object\n",
       "accommodates                        int64\n",
       "bathrooms                         float64\n",
       "bedrooms                          float64\n",
       "bed_type                           object\n",
       "amenities                          object\n",
       "security_deposit                   object\n",
       "cleaning_fee                       object\n",
       "guests_included                     int64\n",
       "extra_people                       object\n",
       "instant_bookable                   object\n",
       "cancellation_policy                object\n",
       "dtype: object"
      ]
     },
     "execution_count": 22,
     "metadata": {},
     "output_type": "execute_result"
    }
   ],
   "source": [
    "nyc_df.dtypes"
   ]
  },
  {
   "cell_type": "markdown",
   "metadata": {},
   "source": [
    "# Data Cleaning & Feature Engineering"
   ]
  },
  {
   "cell_type": "markdown",
   "metadata": {},
   "source": [
    "## Helper Function"
   ]
  },
  {
   "cell_type": "code",
   "execution_count": 23,
   "metadata": {
    "ExecuteTime": {
     "end_time": "2020-03-25T05:21:31.235493Z",
     "start_time": "2020-03-25T05:21:31.230850Z"
    }
   },
   "outputs": [],
   "source": [
    "def clean_t(val):\n",
    "    \"\"\"\n",
    "    return 1 if ture 0 if false\n",
    "    \"\"\"\n",
    "    if (val == 't'):\n",
    "        return 1\n",
    "    else:\n",
    "        return 0"
   ]
  },
  {
   "cell_type": "code",
   "execution_count": 24,
   "metadata": {
    "ExecuteTime": {
     "end_time": "2020-03-25T05:21:31.559861Z",
     "start_time": "2020-03-25T05:21:31.551110Z"
    }
   },
   "outputs": [],
   "source": [
    "def clean_nan(num):\n",
    "    \"\"\"\n",
    "    get rid of nan value, if it's not nan return the original value\n",
    "    \"\"\"\n",
    "    if (math.isnan(num)):\n",
    "        return 0\n",
    "    else:\n",
    "        return num"
   ]
  },
  {
   "cell_type": "code",
   "execution_count": 25,
   "metadata": {
    "ExecuteTime": {
     "end_time": "2020-03-25T05:21:31.868740Z",
     "start_time": "2020-03-25T05:21:31.859742Z"
    }
   },
   "outputs": [],
   "source": [
    "def clean_price_sign(price):\n",
    "    '''\n",
    "    clean and help the missing number on security_deposit, cleaning_fee\n",
    "    '''\n",
    "    if type(price) == str:\n",
    "        return float(price.replace('$','').replace(',',''))\n",
    "    else:\n",
    "        return 0"
   ]
  },
  {
   "cell_type": "code",
   "execution_count": 26,
   "metadata": {
    "ExecuteTime": {
     "end_time": "2020-03-25T05:21:32.157754Z",
     "start_time": "2020-03-25T05:21:32.150565Z"
    }
   },
   "outputs": [],
   "source": [
    "def clean_percent_sign(val):\n",
    "    '''\n",
    "    clean % sign and if val is nan returns 0\n",
    "    '''\n",
    "    if type(val) == str:\n",
    "        return float(val.replace('%',''))\n",
    "    else:\n",
    "        return 0"
   ]
  },
  {
   "cell_type": "markdown",
   "metadata": {
    "ExecuteTime": {
     "end_time": "2020-03-16T18:53:29.862951Z",
     "start_time": "2020-03-16T18:53:29.817474Z"
    }
   },
   "source": [
    "## Numerical Features"
   ]
  },
  {
   "cell_type": "markdown",
   "metadata": {
    "ExecuteTime": {
     "end_time": "2020-03-22T08:43:05.851679Z",
     "start_time": "2020-03-22T08:43:05.840175Z"
    }
   },
   "source": [
    "num_fea: \n",
    "           'minimum_nights',\n",
    "           'calculated_host_listings_count',\n",
    "           'availability_365','host_since',\n",
    "           'bathrooms','bedrooms','guests_included','accommodates',\n",
    "           'host_acceptance_rate','host_response_rate',\n",
    "           'security_deposit','cleaning_fee','extra_people'"
   ]
  },
  {
   "cell_type": "code",
   "execution_count": 27,
   "metadata": {
    "ExecuteTime": {
     "end_time": "2020-03-25T05:21:33.415823Z",
     "start_time": "2020-03-25T05:21:33.259725Z"
    }
   },
   "outputs": [],
   "source": [
    "# security deposite & cleaning_fee & extra_people\n",
    "\n",
    "nyc_df.security_deposit = nyc_df['security_deposit'].apply(lambda x: clean_price_sign(x))\n",
    "nyc_df.cleaning_fee = nyc_df['cleaning_fee'].apply(lambda x: clean_price_sign(x))\n",
    "nyc_df.extra_people = nyc_df['extra_people'].apply(lambda x: clean_price_sign(x))"
   ]
  },
  {
   "cell_type": "code",
   "execution_count": 28,
   "metadata": {
    "ExecuteTime": {
     "end_time": "2020-03-25T05:21:33.592714Z",
     "start_time": "2020-03-25T05:21:33.568452Z"
    }
   },
   "outputs": [],
   "source": [
    "# bathrooms\n",
    "\n",
    "nyc_df.bathrooms = nyc_df['bathrooms'].apply(lambda x: clean_nan(x))"
   ]
  },
  {
   "cell_type": "code",
   "execution_count": 29,
   "metadata": {
    "ExecuteTime": {
     "end_time": "2020-03-25T05:21:34.508689Z",
     "start_time": "2020-03-25T05:21:34.403859Z"
    }
   },
   "outputs": [],
   "source": [
    "# host_response_rate & host_acceptance_rate\n",
    "\n",
    "for i in ['host_acceptance_rate','host_response_rate']:\n",
    "    nyc_df[i] = nyc_df[i].apply(lambda x: clean_percent_sign(x))"
   ]
  },
  {
   "cell_type": "code",
   "execution_count": 30,
   "metadata": {
    "ExecuteTime": {
     "end_time": "2020-03-25T05:21:35.003829Z",
     "start_time": "2020-03-25T05:21:34.975369Z"
    }
   },
   "outputs": [],
   "source": [
    "#host_since\n",
    "\n",
    "nyc_df.host_since = pd.to_datetime(\n",
    "    nyc_df.host_since)"
   ]
  },
  {
   "cell_type": "code",
   "execution_count": 31,
   "metadata": {
    "ExecuteTime": {
     "end_time": "2020-03-25T05:21:36.321314Z",
     "start_time": "2020-03-25T05:21:35.459740Z"
    },
    "scrolled": true
   },
   "outputs": [],
   "source": [
    "nyc_df['host_since'] = [(dt.datetime.today() - x).days for x in nyc_df.host_since]"
   ]
  },
  {
   "cell_type": "code",
   "execution_count": 32,
   "metadata": {
    "ExecuteTime": {
     "end_time": "2020-03-25T05:21:36.345740Z",
     "start_time": "2020-03-25T05:21:36.324098Z"
    }
   },
   "outputs": [],
   "source": [
    "nyc_df.host_since = nyc_df['host_since'].apply(lambda x: clean_nan(x))"
   ]
  },
  {
   "cell_type": "code",
   "execution_count": 33,
   "metadata": {
    "ExecuteTime": {
     "end_time": "2020-03-25T05:21:36.925644Z",
     "start_time": "2020-03-25T05:21:36.903240Z"
    }
   },
   "outputs": [],
   "source": [
    "nyc_df.bedrooms = nyc_df['bedrooms'].apply(lambda x: clean_nan(x))"
   ]
  },
  {
   "cell_type": "code",
   "execution_count": 34,
   "metadata": {
    "ExecuteTime": {
     "end_time": "2020-03-25T05:21:38.204795Z",
     "start_time": "2020-03-25T05:21:38.147390Z"
    },
    "scrolled": true
   },
   "outputs": [
    {
     "data": {
      "text/plain": [
       "host_response_time                12291\n",
       "host_has_profile_pic                  2\n",
       "host_is_superhost                     2\n",
       "host_identity_verified                2\n",
       "neighbourhood                         0\n",
       "room_type                             0\n",
       "price                                 0\n",
       "minimum_nights                        0\n",
       "calculated_host_listings_count        0\n",
       "availability_365                      0\n",
       "host_since                            0\n",
       "host_response_rate                    0\n",
       "host_acceptance_rate                  0\n",
       "cancellation_policy                   0\n",
       "instant_bookable                      0\n",
       "property_type                         0\n",
       "accommodates                          0\n",
       "bathrooms                             0\n",
       "bedrooms                              0\n",
       "bed_type                              0\n",
       "amenities                             0\n",
       "security_deposit                      0\n",
       "cleaning_fee                          0\n",
       "guests_included                       0\n",
       "extra_people                          0\n",
       "id                                    0\n",
       "dtype: int64"
      ]
     },
     "execution_count": 34,
     "metadata": {},
     "output_type": "execute_result"
    }
   ],
   "source": [
    "nyc_df.isna().sum().sort_values(ascending=False)[0:30]"
   ]
  },
  {
   "cell_type": "markdown",
   "metadata": {
    "ExecuteTime": {
     "end_time": "2020-03-16T18:53:58.719577Z",
     "start_time": "2020-03-16T18:53:58.713724Z"
    }
   },
   "source": [
    "## Categorical features:"
   ]
  },
  {
   "cell_type": "markdown",
   "metadata": {
    "ExecuteTime": {
     "end_time": "2020-03-22T08:43:17.707262Z",
     "start_time": "2020-03-22T08:43:17.692912Z"
    }
   },
   "source": [
    "cat_fea = 'host_is_superhost','instant_bookable','host_has_profile_pic','host_identity_verified',\n",
    "           'neighbourhoods','host_response_time','bed_type','room_type', 'property_type'\n"
   ]
  },
  {
   "cell_type": "code",
   "execution_count": 35,
   "metadata": {
    "ExecuteTime": {
     "end_time": "2020-03-25T05:21:41.480648Z",
     "start_time": "2020-03-25T05:21:41.462781Z"
    },
    "scrolled": true
   },
   "outputs": [],
   "source": [
    "del nyc_df['host_response_time'] # might come back later to deal with so many missing values\n"
   ]
  },
  {
   "cell_type": "code",
   "execution_count": 36,
   "metadata": {
    "ExecuteTime": {
     "end_time": "2020-03-25T05:21:42.212517Z",
     "start_time": "2020-03-25T05:21:42.079484Z"
    }
   },
   "outputs": [],
   "source": [
    "for col in ['host_is_superhost','instant_bookable',\n",
    "            'host_has_profile_pic','host_identity_verified']:\n",
    "    nyc_df[col] = nyc_df[col].apply(lambda x: clean_t(x))\n",
    "    "
   ]
  },
  {
   "cell_type": "code",
   "execution_count": 37,
   "metadata": {
    "ExecuteTime": {
     "end_time": "2020-03-25T05:21:43.202648Z",
     "start_time": "2020-03-25T05:21:43.195454Z"
    }
   },
   "outputs": [],
   "source": [
    "# Neighbourhood\n",
    "\n",
    "nyc_df.neighbourhood.fillna('Other',inplace=True)\n"
   ]
  },
  {
   "cell_type": "code",
   "execution_count": 38,
   "metadata": {
    "ExecuteTime": {
     "end_time": "2020-03-25T05:21:46.603200Z",
     "start_time": "2020-03-25T05:21:43.899406Z"
    }
   },
   "outputs": [
    {
     "data": {
      "image/png": "[encoded data removed]",
      "text/plain": [
       "<Figure size 3600x720 with 1 Axes>"
      ]
     },
     "metadata": {
      "needs_background": "light"
     },
     "output_type": "display_data"
    },
    {
     "name": "stdout",
     "output_type": "stream",
     "text": [
      "Number of Neighborhoods: 220\n"
     ]
    }
   ],
   "source": [
    "# Get number of listings in neighborhoods\n",
    "nb_counts = Counter(nyc_df.neighbourhood)\n",
    "tdf = pd.DataFrame.from_dict(nb_counts, orient='index').sort_values(by=0)\n",
    "\n",
    "# Plot number of listings in each neighborhood\n",
    "ax = tdf.plot(kind='bar', figsize = (50,10), color = BNB_RED, alpha = 0.85)\n",
    "ax.set_title(\"Neighborhoods by Number of Listings\")\n",
    "ax.set_xlabel(\"Neighborhood\")\n",
    "ax.set_ylabel(\"# of Listings\")\n",
    "plt.show()\n",
    "\n",
    "print(\"Number of Neighborhoods:\", len(nb_counts))"
   ]
  },
  {
   "cell_type": "markdown",
   "metadata": {},
   "source": [
    "We see that the majority of the neighborhoods have less than 500 listings. We currently have 220 neighborhoods - all of these categorical predictors when one-hot encoded will weaken predictive power, so we will only keep neighborhoods with more than 500 listings."
   ]
  },
  {
   "cell_type": "code",
   "execution_count": 39,
   "metadata": {
    "ExecuteTime": {
     "end_time": "2020-03-25T05:21:48.326531Z",
     "start_time": "2020-03-25T05:21:48.017814Z"
    }
   },
   "outputs": [],
   "source": [
    "# Put listings with less than 500 listings into an \"Other\" column\n",
    "top_neighbourhoods = nyc_df.groupby('neighbourhood').size() > 500\n",
    "\n",
    "nyc_df[\n",
    "    'neighbourhoods'] = nyc_df.neighbourhood.apply(\n",
    "        lambda x: x if top_neighbourhoods[x] else 'Other')"
   ]
  },
  {
   "cell_type": "code",
   "execution_count": 40,
   "metadata": {
    "ExecuteTime": {
     "end_time": "2020-03-25T05:22:29.503954Z",
     "start_time": "2020-03-25T05:22:29.490003Z"
    }
   },
   "outputs": [
    {
     "data": {
      "text/plain": [
       "Other                 15404\n",
       "Bedford-Stuyvesant     3146\n",
       "Williamsburg           3092\n",
       "Harlem                 2250\n",
       "Bushwick               1905\n",
       "Hell's Kitchen         1553\n",
       "East Village           1466\n",
       "Upper West Side        1439\n",
       "Crown Heights          1345\n",
       "Upper East Side        1318\n",
       "Midtown                 995\n",
       "East Harlem             967\n",
       "Chelsea                 868\n",
       "Greenpoint              830\n",
       "Lower East Side         748\n",
       "Washington Heights      748\n",
       "Astoria                 741\n",
       "West Village            612\n",
       "Name: neighbourhoods, dtype: int64"
      ]
     },
     "execution_count": 40,
     "metadata": {},
     "output_type": "execute_result"
    }
   ],
   "source": [
    "nyc_df.neighbourhoods.value_counts()"
   ]
  },
  {
   "cell_type": "code",
   "execution_count": 41,
   "metadata": {
    "ExecuteTime": {
     "end_time": "2020-03-25T05:27:54.462851Z",
     "start_time": "2020-03-25T05:27:54.437959Z"
    }
   },
   "outputs": [
    {
     "data": {
      "text/plain": [
       "array(['id', 'neighbourhood', 'room_type', 'price', 'minimum_nights',\n",
       "       'calculated_host_listings_count', 'availability_365', 'host_since',\n",
       "       'host_response_rate', 'host_acceptance_rate', 'host_is_superhost',\n",
       "       'host_has_profile_pic', 'host_identity_verified', 'property_type',\n",
       "       'accommodates', 'bathrooms', 'bedrooms', 'bed_type', 'amenities',\n",
       "       'security_deposit', 'cleaning_fee', 'guests_included',\n",
       "       'extra_people', 'instant_bookable', 'cancellation_policy',\n",
       "       'neighbourhoods'], dtype=object)"
      ]
     },
     "execution_count": 41,
     "metadata": {},
     "output_type": "execute_result"
    }
   ],
   "source": [
    "nyc_df.columns.values"
   ]
  },
  {
   "cell_type": "code",
   "execution_count": 42,
   "metadata": {
    "ExecuteTime": {
     "end_time": "2020-03-25T05:27:55.730279Z",
     "start_time": "2020-03-25T05:27:55.568179Z"
    },
    "scrolled": true
   },
   "outputs": [
    {
     "data": {
      "text/html": [
       "<div>\n",
       "<style scoped>\n",
       "    .dataframe tbody tr th:only-of-type {\n",
       "        vertical-align: middle;\n",
       "    }\n",
       "\n",
       "    .dataframe tbody tr th {\n",
       "        vertical-align: top;\n",
       "    }\n",
       "\n",
       "    .dataframe thead th {\n",
       "        text-align: right;\n",
       "    }\n",
       "</style>\n",
       "<table border=\"1\" class=\"dataframe\">\n",
       "  <thead>\n",
       "    <tr style=\"text-align: right;\">\n",
       "      <th></th>\n",
       "      <th>id</th>\n",
       "      <th>price</th>\n",
       "      <th>minimum_nights</th>\n",
       "      <th>calculated_host_listings_count</th>\n",
       "      <th>availability_365</th>\n",
       "      <th>host_since</th>\n",
       "      <th>host_response_rate</th>\n",
       "      <th>host_acceptance_rate</th>\n",
       "      <th>host_is_superhost</th>\n",
       "      <th>host_has_profile_pic</th>\n",
       "      <th>host_identity_verified</th>\n",
       "      <th>accommodates</th>\n",
       "      <th>bathrooms</th>\n",
       "      <th>bedrooms</th>\n",
       "      <th>security_deposit</th>\n",
       "      <th>cleaning_fee</th>\n",
       "      <th>guests_included</th>\n",
       "      <th>extra_people</th>\n",
       "      <th>instant_bookable</th>\n",
       "    </tr>\n",
       "  </thead>\n",
       "  <tbody>\n",
       "    <tr>\n",
       "      <th>count</th>\n",
       "      <td>3.942700e+04</td>\n",
       "      <td>39427.000000</td>\n",
       "      <td>39427.000000</td>\n",
       "      <td>39427.000000</td>\n",
       "      <td>39427.000000</td>\n",
       "      <td>39427.000000</td>\n",
       "      <td>39427.000000</td>\n",
       "      <td>39427.000000</td>\n",
       "      <td>39427.000000</td>\n",
       "      <td>39427.000000</td>\n",
       "      <td>39427.000000</td>\n",
       "      <td>39427.000000</td>\n",
       "      <td>39427.000000</td>\n",
       "      <td>39427.000000</td>\n",
       "      <td>39427.000000</td>\n",
       "      <td>39427.000000</td>\n",
       "      <td>39427.000000</td>\n",
       "      <td>39427.000000</td>\n",
       "      <td>39427.000000</td>\n",
       "    </tr>\n",
       "    <tr>\n",
       "      <th>mean</th>\n",
       "      <td>2.114950e+07</td>\n",
       "      <td>148.514140</td>\n",
       "      <td>6.008167</td>\n",
       "      <td>5.445355</td>\n",
       "      <td>119.307556</td>\n",
       "      <td>1742.117153</td>\n",
       "      <td>65.117229</td>\n",
       "      <td>66.639536</td>\n",
       "      <td>0.243615</td>\n",
       "      <td>0.997590</td>\n",
       "      <td>0.476044</td>\n",
       "      <td>2.917037</td>\n",
       "      <td>1.135542</td>\n",
       "      <td>1.183554</td>\n",
       "      <td>176.804043</td>\n",
       "      <td>55.039136</td>\n",
       "      <td>1.596495</td>\n",
       "      <td>16.139321</td>\n",
       "      <td>0.379131</td>\n",
       "    </tr>\n",
       "    <tr>\n",
       "      <th>std</th>\n",
       "      <td>1.258221e+07</td>\n",
       "      <td>311.613914</td>\n",
       "      <td>18.185810</td>\n",
       "      <td>25.253764</td>\n",
       "      <td>132.638199</td>\n",
       "      <td>901.067885</td>\n",
       "      <td>45.653809</td>\n",
       "      <td>39.850733</td>\n",
       "      <td>0.429268</td>\n",
       "      <td>0.049028</td>\n",
       "      <td>0.499432</td>\n",
       "      <td>1.904665</td>\n",
       "      <td>0.406510</td>\n",
       "      <td>0.752726</td>\n",
       "      <td>411.681379</td>\n",
       "      <td>55.131403</td>\n",
       "      <td>1.224171</td>\n",
       "      <td>25.090165</td>\n",
       "      <td>0.485177</td>\n",
       "    </tr>\n",
       "    <tr>\n",
       "      <th>min</th>\n",
       "      <td>2.595000e+03</td>\n",
       "      <td>10.000000</td>\n",
       "      <td>1.000000</td>\n",
       "      <td>1.000000</td>\n",
       "      <td>0.000000</td>\n",
       "      <td>0.000000</td>\n",
       "      <td>0.000000</td>\n",
       "      <td>0.000000</td>\n",
       "      <td>0.000000</td>\n",
       "      <td>0.000000</td>\n",
       "      <td>0.000000</td>\n",
       "      <td>1.000000</td>\n",
       "      <td>0.000000</td>\n",
       "      <td>0.000000</td>\n",
       "      <td>0.000000</td>\n",
       "      <td>0.000000</td>\n",
       "      <td>1.000000</td>\n",
       "      <td>0.000000</td>\n",
       "      <td>0.000000</td>\n",
       "    </tr>\n",
       "    <tr>\n",
       "      <th>25%</th>\n",
       "      <td>9.916878e+06</td>\n",
       "      <td>68.000000</td>\n",
       "      <td>1.000000</td>\n",
       "      <td>1.000000</td>\n",
       "      <td>0.000000</td>\n",
       "      <td>1057.000000</td>\n",
       "      <td>0.000000</td>\n",
       "      <td>33.000000</td>\n",
       "      <td>0.000000</td>\n",
       "      <td>1.000000</td>\n",
       "      <td>0.000000</td>\n",
       "      <td>2.000000</td>\n",
       "      <td>1.000000</td>\n",
       "      <td>1.000000</td>\n",
       "      <td>0.000000</td>\n",
       "      <td>15.000000</td>\n",
       "      <td>1.000000</td>\n",
       "      <td>0.000000</td>\n",
       "      <td>0.000000</td>\n",
       "    </tr>\n",
       "    <tr>\n",
       "      <th>50%</th>\n",
       "      <td>2.130758e+07</td>\n",
       "      <td>100.000000</td>\n",
       "      <td>2.000000</td>\n",
       "      <td>1.000000</td>\n",
       "      <td>67.000000</td>\n",
       "      <td>1758.000000</td>\n",
       "      <td>100.000000</td>\n",
       "      <td>89.000000</td>\n",
       "      <td>0.000000</td>\n",
       "      <td>1.000000</td>\n",
       "      <td>0.000000</td>\n",
       "      <td>2.000000</td>\n",
       "      <td>1.000000</td>\n",
       "      <td>1.000000</td>\n",
       "      <td>0.000000</td>\n",
       "      <td>45.000000</td>\n",
       "      <td>1.000000</td>\n",
       "      <td>10.000000</td>\n",
       "      <td>0.000000</td>\n",
       "    </tr>\n",
       "    <tr>\n",
       "      <th>75%</th>\n",
       "      <td>3.237925e+07</td>\n",
       "      <td>170.000000</td>\n",
       "      <td>4.000000</td>\n",
       "      <td>2.000000</td>\n",
       "      <td>231.000000</td>\n",
       "      <td>2414.000000</td>\n",
       "      <td>100.000000</td>\n",
       "      <td>99.000000</td>\n",
       "      <td>0.000000</td>\n",
       "      <td>1.000000</td>\n",
       "      <td>1.000000</td>\n",
       "      <td>4.000000</td>\n",
       "      <td>1.000000</td>\n",
       "      <td>1.000000</td>\n",
       "      <td>200.000000</td>\n",
       "      <td>80.000000</td>\n",
       "      <td>2.000000</td>\n",
       "      <td>25.000000</td>\n",
       "      <td>1.000000</td>\n",
       "    </tr>\n",
       "    <tr>\n",
       "      <th>max</th>\n",
       "      <td>4.215487e+07</td>\n",
       "      <td>10000.000000</td>\n",
       "      <td>1250.000000</td>\n",
       "      <td>293.000000</td>\n",
       "      <td>365.000000</td>\n",
       "      <td>4227.000000</td>\n",
       "      <td>100.000000</td>\n",
       "      <td>100.000000</td>\n",
       "      <td>1.000000</td>\n",
       "      <td>1.000000</td>\n",
       "      <td>1.000000</td>\n",
       "      <td>22.000000</td>\n",
       "      <td>15.500000</td>\n",
       "      <td>21.000000</td>\n",
       "      <td>5100.000000</td>\n",
       "      <td>1000.000000</td>\n",
       "      <td>16.000000</td>\n",
       "      <td>300.000000</td>\n",
       "      <td>1.000000</td>\n",
       "    </tr>\n",
       "  </tbody>\n",
       "</table>\n",
       "</div>"
      ],
      "text/plain": [
       "                 id         price  minimum_nights  \\\n",
       "count  3.942700e+04  39427.000000    39427.000000   \n",
       "mean   2.114950e+07    148.514140        6.008167   \n",
       "std    1.258221e+07    311.613914       18.185810   \n",
       "min    2.595000e+03     10.000000        1.000000   \n",
       "25%    9.916878e+06     68.000000        1.000000   \n",
       "50%    2.130758e+07    100.000000        2.000000   \n",
       "75%    3.237925e+07    170.000000        4.000000   \n",
       "max    4.215487e+07  10000.000000     1250.000000   \n",
       "\n",
       "       calculated_host_listings_count  availability_365    host_since  \\\n",
       "count                    39427.000000      39427.000000  39427.000000   \n",
       "mean                         5.445355        119.307556   1742.117153   \n",
       "std                         25.253764        132.638199    901.067885   \n",
       "min                          1.000000          0.000000      0.000000   \n",
       "25%                          1.000000          0.000000   1057.000000   \n",
       "50%                          1.000000         67.000000   1758.000000   \n",
       "75%                          2.000000        231.000000   2414.000000   \n",
       "max                        293.000000        365.000000   4227.000000   \n",
       "\n",
       "       host_response_rate  host_acceptance_rate  host_is_superhost  \\\n",
       "count        39427.000000          39427.000000       39427.000000   \n",
       "mean            65.117229             66.639536           0.243615   \n",
       "std             45.653809             39.850733           0.429268   \n",
       "min              0.000000              0.000000           0.000000   \n",
       "25%              0.000000             33.000000           0.000000   \n",
       "50%            100.000000             89.000000           0.000000   \n",
       "75%            100.000000             99.000000           0.000000   \n",
       "max            100.000000            100.000000           1.000000   \n",
       "\n",
       "       host_has_profile_pic  host_identity_verified  accommodates  \\\n",
       "count          39427.000000            39427.000000  39427.000000   \n",
       "mean               0.997590                0.476044      2.917037   \n",
       "std                0.049028                0.499432      1.904665   \n",
       "min                0.000000                0.000000      1.000000   \n",
       "25%                1.000000                0.000000      2.000000   \n",
       "50%                1.000000                0.000000      2.000000   \n",
       "75%                1.000000                1.000000      4.000000   \n",
       "max                1.000000                1.000000     22.000000   \n",
       "\n",
       "          bathrooms      bedrooms  security_deposit  cleaning_fee  \\\n",
       "count  39427.000000  39427.000000      39427.000000  39427.000000   \n",
       "mean       1.135542      1.183554        176.804043     55.039136   \n",
       "std        0.406510      0.752726        411.681379     55.131403   \n",
       "min        0.000000      0.000000          0.000000      0.000000   \n",
       "25%        1.000000      1.000000          0.000000     15.000000   \n",
       "50%        1.000000      1.000000          0.000000     45.000000   \n",
       "75%        1.000000      1.000000        200.000000     80.000000   \n",
       "max       15.500000     21.000000       5100.000000   1000.000000   \n",
       "\n",
       "       guests_included  extra_people  instant_bookable  \n",
       "count     39427.000000  39427.000000      39427.000000  \n",
       "mean          1.596495     16.139321          0.379131  \n",
       "std           1.224171     25.090165          0.485177  \n",
       "min           1.000000      0.000000          0.000000  \n",
       "25%           1.000000      0.000000          0.000000  \n",
       "50%           1.000000     10.000000          0.000000  \n",
       "75%           2.000000     25.000000          1.000000  \n",
       "max          16.000000    300.000000          1.000000  "
      ]
     },
     "execution_count": 42,
     "metadata": {},
     "output_type": "execute_result"
    }
   ],
   "source": [
    "nyc_df.describe()"
   ]
  },
  {
   "cell_type": "code",
   "execution_count": 43,
   "metadata": {
    "ExecuteTime": {
     "end_time": "2020-03-25T05:27:58.581135Z",
     "start_time": "2020-03-25T05:27:58.576723Z"
    }
   },
   "outputs": [],
   "source": [
    "# amenities"
   ]
  },
  {
   "cell_type": "code",
   "execution_count": 44,
   "metadata": {
    "ExecuteTime": {
     "end_time": "2020-03-25T05:28:35.944787Z",
     "start_time": "2020-03-25T05:27:58.960059Z"
    },
    "scrolled": true
   },
   "outputs": [],
   "source": [
    "amenities_set = set()\n",
    "\n",
    "def collect_amenities(entry):\n",
    "    entry_list = entry.replace(\"{\", \"\").replace(\"}\", \"\").replace(\"'\", \"\").replace('\"', \"\").replace(\" \", \"_\").split(',')\n",
    "    for am in entry_list:\n",
    "        if ('translation_missing' not in am and am != ''):\n",
    "            amenities_set.add(am)\n",
    "\n",
    "nyc_df['amenities'].apply(collect_amenities)\n",
    "\n",
    "def generic_amenities(entry, amenity):\n",
    "    entry_list = entry.replace(\"{\", \"\").replace(\"}\", \"\").replace(\"'\", \"\").replace('\"', \"\").replace(\" \", \"_\").split(',')\n",
    "    for am in entry_list:\n",
    "        if (am == amenity):\n",
    "            return 1\n",
    "    return 0\n",
    "\n",
    "for amenity in amenities_set:\n",
    "    nyc_df.insert(len(list(nyc_df)), amenity, 0)\n",
    "    nyc_df[amenity] = nyc_df['amenities'].apply(lambda x: generic_amenities(x, amenity))"
   ]
  },
  {
   "cell_type": "code",
   "execution_count": 45,
   "metadata": {
    "ExecuteTime": {
     "end_time": "2020-03-25T05:29:29.910030Z",
     "start_time": "2020-03-25T05:29:29.895181Z"
    }
   },
   "outputs": [
    {
     "data": {
      "text/plain": [
       "Apartment                 30591\n",
       "House                      3457\n",
       "Townhouse                  1482\n",
       "Condominium                1301\n",
       "Loft                       1182\n",
       "Guest suite                 396\n",
       "Serviced apartment          230\n",
       "Boutique hotel              229\n",
       "Hotel                       157\n",
       "Other                        63\n",
       "Guesthouse                   61\n",
       "Hostel                       52\n",
       "Bed and breakfast            43\n",
       "Resort                       43\n",
       "Bungalow                     29\n",
       "Villa                        23\n",
       "Tiny house                   18\n",
       "Camper/RV                    18\n",
       "Cottage                       8\n",
       "Earth house                   7\n",
       "Aparthotel                    7\n",
       "Boat                          7\n",
       "Tent                          5\n",
       "Barn                          3\n",
       "Houseboat                     3\n",
       "Cave                          2\n",
       "Casa particular (Cuba)        2\n",
       "Cabin                         2\n",
       "Dome house                    1\n",
       "Island                        1\n",
       "Treehouse                     1\n",
       "Castle                        1\n",
       "Timeshare                     1\n",
       "Lighthouse                    1\n",
       "Name: property_type, dtype: int64"
      ]
     },
     "execution_count": 45,
     "metadata": {},
     "output_type": "execute_result"
    }
   ],
   "source": [
    "nyc_df.property_type.value_counts()"
   ]
  },
  {
   "cell_type": "code",
   "execution_count": 46,
   "metadata": {
    "ExecuteTime": {
     "end_time": "2020-03-25T05:29:47.610273Z",
     "start_time": "2020-03-25T05:29:47.249245Z"
    }
   },
   "outputs": [],
   "source": [
    "# property_type\n",
    "\n",
    "# Put listings with less than 280 listings into an \"Other\" column\n",
    "top_proper = nyc_df.groupby('property_type').size() > 280\n",
    "\n",
    "nyc_df[\n",
    "    'property_type'] = nyc_df.property_type.apply(\n",
    "        lambda x: x if top_proper[x] else 'Other')\n"
   ]
  },
  {
   "cell_type": "code",
   "execution_count": 47,
   "metadata": {
    "ExecuteTime": {
     "end_time": "2020-03-25T05:29:49.686979Z",
     "start_time": "2020-03-25T05:29:49.672880Z"
    }
   },
   "outputs": [
    {
     "data": {
      "text/plain": [
       "Apartment      30591\n",
       "House           3457\n",
       "Townhouse       1482\n",
       "Condominium     1301\n",
       "Loft            1182\n",
       "Other           1018\n",
       "Guest suite      396\n",
       "Name: property_type, dtype: int64"
      ]
     },
     "execution_count": 47,
     "metadata": {},
     "output_type": "execute_result"
    }
   ],
   "source": [
    "nyc_df.property_type.value_counts() \n",
    "\n",
    "# drop 'Other' later"
   ]
  },
  {
   "cell_type": "code",
   "execution_count": 48,
   "metadata": {
    "ExecuteTime": {
     "end_time": "2020-03-25T05:29:57.578244Z",
     "start_time": "2020-03-25T05:29:57.564801Z"
    }
   },
   "outputs": [
    {
     "data": {
      "text/plain": [
       "Entire home/apt    20776\n",
       "Private room       17525\n",
       "Shared room          862\n",
       "Hotel room           264\n",
       "Name: room_type, dtype: int64"
      ]
     },
     "execution_count": 48,
     "metadata": {},
     "output_type": "execute_result"
    }
   ],
   "source": [
    "nyc_df.room_type.value_counts() # drop 'Hotel room' later"
   ]
  },
  {
   "cell_type": "code",
   "execution_count": 49,
   "metadata": {
    "ExecuteTime": {
     "end_time": "2020-03-25T05:30:34.554007Z",
     "start_time": "2020-03-25T05:30:34.534522Z"
    }
   },
   "outputs": [
    {
     "data": {
      "text/plain": [
       "Real Bed         38836\n",
       "Futon              225\n",
       "Pull-out Sofa      204\n",
       "Airbed             113\n",
       "Couch               49\n",
       "Name: bed_type, dtype: int64"
      ]
     },
     "execution_count": 49,
     "metadata": {},
     "output_type": "execute_result"
    }
   ],
   "source": [
    "nyc_df.bed_type.value_counts() "
   ]
  },
  {
   "cell_type": "code",
   "execution_count": 50,
   "metadata": {
    "ExecuteTime": {
     "end_time": "2020-03-25T05:30:35.242708Z",
     "start_time": "2020-03-25T05:30:35.226527Z"
    }
   },
   "outputs": [
    {
     "data": {
      "text/plain": [
       "strict_14_with_grace_period    19861\n",
       "moderate                       10337\n",
       "flexible                        9181\n",
       "super_strict_30                   21\n",
       "strict                            17\n",
       "super_strict_60                   10\n",
       "Name: cancellation_policy, dtype: int64"
      ]
     },
     "execution_count": 50,
     "metadata": {},
     "output_type": "execute_result"
    }
   ],
   "source": [
    "nyc_df.cancellation_policy.value_counts() "
   ]
  },
  {
   "cell_type": "code",
   "execution_count": 51,
   "metadata": {
    "ExecuteTime": {
     "end_time": "2020-03-25T05:30:36.524417Z",
     "start_time": "2020-03-25T05:30:35.915556Z"
    }
   },
   "outputs": [],
   "source": [
    "#drop couch, drop Hotel room, drop, \n",
    "\n",
    "for col_name in ['neighbourhoods', 'bed_type',\n",
    "                 'room_type', 'property_type','cancellation_policy']:\n",
    "    parsed_cols = pd.get_dummies(nyc_df[col_name])\n",
    "    nyc_df = nyc_df.drop(columns=[col_name])\n",
    "    nyc_df = pd.concat([nyc_df, parsed_cols], axis = 1)"
   ]
  },
  {
   "cell_type": "markdown",
   "metadata": {},
   "source": [
    "### drop all first columns"
   ]
  },
  {
   "cell_type": "code",
   "execution_count": 52,
   "metadata": {
    "ExecuteTime": {
     "end_time": "2020-03-25T05:30:39.567377Z",
     "start_time": "2020-03-25T05:30:39.561538Z"
    }
   },
   "outputs": [],
   "source": [
    "del nyc_df['amenities']"
   ]
  },
  {
   "cell_type": "code",
   "execution_count": 53,
   "metadata": {
    "ExecuteTime": {
     "end_time": "2020-03-25T05:30:40.507379Z",
     "start_time": "2020-03-25T05:30:40.502026Z"
    }
   },
   "outputs": [],
   "source": [
    "del nyc_df['neighbourhood']\n",
    "\n",
    "# drop 'Other' later"
   ]
  },
  {
   "cell_type": "code",
   "execution_count": 54,
   "metadata": {
    "ExecuteTime": {
     "end_time": "2020-03-25T05:30:41.183259Z",
     "start_time": "2020-03-25T05:30:41.165490Z"
    }
   },
   "outputs": [],
   "source": [
    "del nyc_df['Other']"
   ]
  },
  {
   "cell_type": "code",
   "execution_count": 55,
   "metadata": {
    "ExecuteTime": {
     "end_time": "2020-03-25T05:30:41.791147Z",
     "start_time": "2020-03-25T05:30:41.785693Z"
    }
   },
   "outputs": [],
   "source": [
    "del nyc_df['Couch']"
   ]
  },
  {
   "cell_type": "code",
   "execution_count": 56,
   "metadata": {
    "ExecuteTime": {
     "end_time": "2020-03-25T05:30:42.146507Z",
     "start_time": "2020-03-25T05:30:42.137740Z"
    }
   },
   "outputs": [],
   "source": [
    "del nyc_df['Hotel room']"
   ]
  },
  {
   "cell_type": "code",
   "execution_count": 57,
   "metadata": {
    "ExecuteTime": {
     "end_time": "2020-03-25T05:30:43.997888Z",
     "start_time": "2020-03-25T05:30:43.918347Z"
    }
   },
   "outputs": [],
   "source": [
    "for col in [['strict','super_strict_30','super_strict_60']]:\n",
    "    nyc_df.drop(columns=col, inplace=True)"
   ]
  },
  {
   "cell_type": "markdown",
   "metadata": {},
   "source": [
    "## Target Transform"
   ]
  },
  {
   "cell_type": "code",
   "execution_count": 58,
   "metadata": {
    "ExecuteTime": {
     "end_time": "2020-03-25T05:30:54.609819Z",
     "start_time": "2020-03-25T05:30:54.062808Z"
    }
   },
   "outputs": [
    {
     "data": {
      "text/plain": [
       "Text(0.5, 0, 'log(price)')"
      ]
     },
     "execution_count": 58,
     "metadata": {},
     "output_type": "execute_result"
    },
    {
     "data": {
      "image/png": "[encoded data removed]",
      "text/plain": [
       "<Figure size 1512x432 with 2 Axes>"
      ]
     },
     "metadata": {
      "needs_background": "light"
     },
     "output_type": "display_data"
    }
   ],
   "source": [
    "# take a look at the original distribution of price & distribution after log transform\n",
    "\n",
    "fig, axes = plt.subplots(1,2, figsize=(21,6))\n",
    "sns.distplot(nyc_df['price'], ax=axes[0])\n",
    "sns.distplot(np.log(nyc_df['price']), ax=axes[1])\n",
    "axes[1].set_xlabel('log(price)')"
   ]
  },
  {
   "cell_type": "code",
   "execution_count": null,
   "metadata": {
    "ExecuteTime": {
     "end_time": "2020-03-23T01:21:27.397968Z",
     "start_time": "2020-03-23T01:21:27.342886Z"
    }
   },
   "outputs": [],
   "source": [
    "# with open('Downloads/data/nyc_df5.pickle', 'wb') as to_write:\n",
    "#     pickle.dump(nyc_df, to_write)"
   ]
  },
  {
   "cell_type": "markdown",
   "metadata": {},
   "source": [
    "## Outliers"
   ]
  },
  {
   "cell_type": "code",
   "execution_count": 79,
   "metadata": {
    "ExecuteTime": {
     "end_time": "2020-03-25T05:39:24.488070Z",
     "start_time": "2020-03-25T05:39:24.440459Z"
    }
   },
   "outputs": [],
   "source": [
    "nyc_df = nyc_df[nyc_df.bedrooms < 8]"
   ]
  },
  {
   "cell_type": "code",
   "execution_count": 82,
   "metadata": {
    "ExecuteTime": {
     "end_time": "2020-03-25T05:40:31.477474Z",
     "start_time": "2020-03-25T05:40:31.464642Z"
    }
   },
   "outputs": [],
   "source": [
    "def show_outliers(col_name):\n",
    "    q1 = nyc_df[col_name].quantile(.25)\n",
    "    q3 = nyc_df[col_name].quantile(.75)\n",
    "    iqr = q3 - q1\n",
    "\n",
    "    lower_bound = q1 -(1.5 * iqr) \n",
    "    upper_bound = q3 +(1.5 * iqr)\n",
    "\n",
    "    quartile_mask = nyc_df[col_name].between(lower_bound, upper_bound, inclusive=True)\n",
    "    allowed_idx = nyc_df.loc[quartile_mask, col_name].index\n",
    "    print(nyc_df[nyc_df.index.isin(allowed_idx)].shape[0]/nyc_df.shape[0])"
   ]
  },
  {
   "cell_type": "code",
   "execution_count": 83,
   "metadata": {
    "ExecuteTime": {
     "end_time": "2020-03-25T05:40:32.400777Z",
     "start_time": "2020-03-25T05:40:32.328478Z"
    }
   },
   "outputs": [
    {
     "name": "stdout",
     "output_type": "stream",
     "text": [
      "0.9465404815669957\n"
     ]
    }
   ],
   "source": [
    "remove_outliers('price')"
   ]
  },
  {
   "cell_type": "code",
   "execution_count": 84,
   "metadata": {
    "ExecuteTime": {
     "end_time": "2020-03-25T05:40:44.924602Z",
     "start_time": "2020-03-25T05:40:43.999908Z"
    }
   },
   "outputs": [
    {
     "name": "stderr",
     "output_type": "stream",
     "text": [
      "/Users/luyuankong/anaconda3/lib/python3.7/site-packages/ipykernel_launcher.py:1: SettingWithCopyWarning: \n",
      "A value is trying to be set on a copy of a slice from a DataFrame.\n",
      "Try using .loc[row_indexer,col_indexer] = value instead\n",
      "\n",
      "See the caveats in the documentation: http://pandas.pydata.org/pandas-docs/stable/indexing.html#indexing-view-versus-copy\n",
      "  \"\"\"Entry point for launching an IPython kernel.\n"
     ]
    }
   ],
   "source": [
    "nyc_df['log_price'] = np.log(nyc_df.price)"
   ]
  },
  {
   "cell_type": "code",
   "execution_count": 86,
   "metadata": {
    "ExecuteTime": {
     "end_time": "2020-03-25T05:41:45.121874Z",
     "start_time": "2020-03-25T05:41:45.025837Z"
    }
   },
   "outputs": [],
   "source": [
    "# with open('/users/luyuankong/downloads/data/nyc_df5.pickle', 'wb') as to_write:\n",
    "#     pickle.dump(nyc_df, to_write)"
   ]
  },
  {
   "cell_type": "code",
   "execution_count": null,
   "metadata": {},
   "outputs": [],
   "source": []
  }
 ],
 "metadata": {
  "kernelspec": {
   "display_name": "Python 3.7.3 64-bit ('base': conda)",
   "language": "python",
   "name": "python37364bitbaseconda2b5a26346dcc4175aa1539928ab48d0d"
  },
  "language_info": {
   "codemirror_mode": {
    "name": "ipython",
    "version": 3
   },
   "file_extension": ".py",
   "mimetype": "text/x-python",
   "name": "python",
   "nbconvert_exporter": "python",
   "pygments_lexer": "ipython3",
   "version": "3.7.3"
  },
  "toc": {
   "base_numbering": 1,
   "nav_menu": {},
   "number_sections": true,
   "sideBar": true,
   "skip_h1_title": false,
   "title_cell": "Table of Contents",
   "title_sidebar": "Contents",
   "toc_cell": false,
   "toc_position": {
    "height": "calc(100% - 180px)",
    "left": "10px",
    "top": "150px",
    "width": "165px"
   },
   "toc_section_display": true,
   "toc_window_display": true
  }
 },
 "nbformat": 4,
 "nbformat_minor": 2
}
